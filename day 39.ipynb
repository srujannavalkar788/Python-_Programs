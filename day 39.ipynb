{
 "cells": [
  {
   "cell_type": "code",
   "execution_count": 4,
   "id": "660b67ed",
   "metadata": {},
   "outputs": [
    {
     "name": "stdout",
     "output_type": "stream",
     "text": [
      "enter the name:abhinav\n",
      "enter the surname:navalkar\n",
      "abhinavnavalkar\n"
     ]
    }
   ],
   "source": [
    "#71. Create a program that reads two words and concatenates them, displaying the resulting word.\n",
    "\n",
    "w1=input('enter the name:')\n",
    "w2=input('enter the surname:')\n",
    "\n",
    "word=w1 + w2\n",
    "print(word\n",
    "     )"
   ]
  },
  {
   "cell_type": "code",
   "execution_count": 9,
   "id": "7c04a722",
   "metadata": {},
   "outputs": [
    {
     "name": "stdout",
     "output_type": "stream",
     "text": [
      "enter the name:abhinav\n",
      "a\n",
      "b\n",
      "h\n",
      "i\n",
      "n\n",
      "a\n",
      "v\n",
      "\n",
      "a\n",
      "b\n",
      "h\n",
      "i\n",
      "n\n",
      "a\n",
      "v\n"
     ]
    }
   ],
   "source": [
    "#72. Write a program that takes a word and displays each letter separately\n",
    "name=input('enter the name:')\n",
    "\n",
    "for letter in name:\n",
    "    print(letter)\n",
    "print()\n",
    "    \n",
    "    \n",
    "#using while \n",
    "index=0\n",
    "while index <len(name):\n",
    "    letter=name[index]\n",
    "    print(letter)\n",
    "    index+=1\n",
    "    "
   ]
  },
  {
   "cell_type": "code",
   "execution_count": 12,
   "id": "8405e00d",
   "metadata": {},
   "outputs": [
    {
     "name": "stdout",
     "output_type": "stream",
     "text": [
      "enter the sentence:abhinav navalkar\n",
      "ebhinev nevelker\n",
      "\n",
      "ebhinev nevelker\n"
     ]
    }
   ],
   "source": [
    "#73. Create a program that takes a sentence and replaces all the letters \"a\" with \"e\".\n",
    "\n",
    "sen=input('enter the sentence:')\n",
    "new_sen=sen.replace('a','e')\n",
    "print(new_sen)\n",
    "print()\n",
    "\n",
    "#using for loop\n",
    "\n",
    "temp_sen=\"\"\n",
    "for letter in sen:\n",
    "    if letter=='a':\n",
    "        temp_sen+='e'\n",
    "    else:\n",
    "        temp_sen+=letter\n",
    "print(temp_sen)"
   ]
  },
  {
   "cell_type": "code",
   "execution_count": 14,
   "id": "3ad362db",
   "metadata": {},
   "outputs": [
    {
     "name": "stdout",
     "output_type": "stream",
     "text": [
      "enter the sentence:abhinav\n",
      "sentence start with a\n"
     ]
    }
   ],
   "source": [
    "#74. Write a program that receives a name and checks that it starts with the letter \"A\"\n",
    "\n",
    "sen=input('enter the sentence:')\n",
    "\n",
    "if sen.startswith('a'):\n",
    "    print('sentence start with a')\n",
    "else:\n",
    "    print('sentence does not start with a')\n",
    "    "
   ]
  },
  {
   "cell_type": "code",
   "execution_count": 16,
   "id": "f60e42e3",
   "metadata": {},
   "outputs": [
    {
     "name": "stdout",
     "output_type": "stream",
     "text": [
      "enter the word:abhinav\n",
      "the word is not palindrome\n"
     ]
    }
   ],
   "source": [
    "#75. Write a program that reads a word and checks if it is a palindrome (if it can be read backwards the same way).\n",
    "\n",
    "word=input('enter the word:')\n",
    "\n",
    "reverse_word=word[::-1]\n",
    "\n",
    "if word==reverse_word:\n",
    "    print('the word is palindrome')\n",
    "else:\n",
    "    print('the word is not palindrome')"
   ]
  },
  {
   "cell_type": "code",
   "execution_count": 17,
   "id": "0c1b4f8a",
   "metadata": {},
   "outputs": [
    {
     "name": "stdout",
     "output_type": "stream",
     "text": [
      "enter the word1:abhinav\n",
      "enter the word2:abhinav\n",
      "the second word is anagram of the first word\n"
     ]
    }
   ],
   "source": [
    "#76. Create a program that reads two words and checks if the second word is an anagram of the first.\n",
    "word1=input('enter the word1:')\n",
    "word2=input('enter the word2:')\n",
    "\n",
    "word1=word1.lower().replace(\" \",\"\")\n",
    "word2=word2.lower().replace(\" \",\"\")\n",
    "\n",
    "if len(word1)!=len(word):\n",
    "    print('word2 is anagram of the word1')\n",
    "else:\n",
    "    sorted1=sorted(word1)\n",
    "    sorted2=sorted(word2)\n",
    "    \n",
    "    if sorted1==sorted2:\n",
    "        print('the second word is anagram of the first word')\n",
    "    else:\n",
    "        print('the second word is not anagram of the first word')"
   ]
  },
  {
   "cell_type": "code",
   "execution_count": 21,
   "id": "2e7672b0",
   "metadata": {},
   "outputs": [
    {
     "name": "stdout",
     "output_type": "stream",
     "text": [
      "enter the fullname:abhinav navalkar\n",
      "first name: abhinav\n"
     ]
    }
   ],
   "source": [
    "#77. Write a program that takes a full name and displays only the first name.\n",
    "\n",
    "fullname=input('enter the fullname:')\n",
    "name=fullname.split()\n",
    "\n",
    "first_name=name[0]\n",
    "print('first name:',first_name)\n"
   ]
  },
  {
   "cell_type": "code",
   "execution_count": 23,
   "id": "f02656d6",
   "metadata": {},
   "outputs": [
    {
     "name": "stdout",
     "output_type": "stream",
     "text": [
      "enter the sentence:a b h i n a v\n",
      "6\n"
     ]
    }
   ],
   "source": [
    "#78. Make a program that receives a sentence and displays the amount of blank spaces present in it.\n",
    "\n",
    "sen=input('enter the sentence:')\n",
    "count=0\n",
    "for char in sen:\n",
    "    if char==\" \":\n",
    "        count+=1\n",
    "print(count)"
   ]
  },
  {
   "cell_type": "code",
   "execution_count": 28,
   "id": "f6f48020",
   "metadata": {},
   "outputs": [
    {
     "name": "stdout",
     "output_type": "stream",
     "text": [
      "enter the word:abhinav\n",
      "3\n"
     ]
    }
   ],
   "source": [
    "#79. Create a program that reads a word and displays the number of vowels present in it.\n",
    "\n",
    "word=input('enter the word:')\n",
    "vowels=['a','e','i','o','u']\n",
    "count=0\n",
    "\n",
    "for char in word:\n",
    "    if char.lower()in vowels:\n",
    "        count+=1\n",
    "print(count)"
   ]
  },
  {
   "cell_type": "code",
   "execution_count": 29,
   "id": "c186a693",
   "metadata": {},
   "outputs": [
    {
     "name": "stdout",
     "output_type": "stream",
     "text": [
      "enter the fullname:abhinav navalkar\n",
      "navalkar\n"
     ]
    }
   ],
   "source": [
    "#80. Write a program that takes a full name and displays the last name (last name) first.\n",
    "fullname=input('enter the fullname:')\n",
    "\n",
    "name=fullname.split()\n",
    "lastname=name[1]\n",
    "\n",
    "print(lastname)\n",
    "\n",
    "\n"
   ]
  },
  {
   "cell_type": "code",
   "execution_count": null,
   "id": "daf04bce",
   "metadata": {},
   "outputs": [],
   "source": []
  }
 ],
 "metadata": {
  "kernelspec": {
   "display_name": "Python 3 (ipykernel)",
   "language": "python",
   "name": "python3"
  },
  "language_info": {
   "codemirror_mode": {
    "name": "ipython",
    "version": 3
   },
   "file_extension": ".py",
   "mimetype": "text/x-python",
   "name": "python",
   "nbconvert_exporter": "python",
   "pygments_lexer": "ipython3",
   "version": "3.11.5"
  }
 },
 "nbformat": 4,
 "nbformat_minor": 5
}
