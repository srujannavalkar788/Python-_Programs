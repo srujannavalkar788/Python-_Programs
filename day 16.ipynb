{
 "cells": [
  {
   "cell_type": "code",
   "execution_count": 9,
   "id": "ea4408e9",
   "metadata": {},
   "outputs": [],
   "source": [
    " # 1 . Python Program to find sum of array\n",
    "\n",
    "def sumofarray(a):\n",
    "    b=0\n",
    "    for i in a:\n",
    "        b=b+i\n",
    "    return b"
   ]
  },
  {
   "cell_type": "code",
   "execution_count": 11,
   "id": "3e3e0c20",
   "metadata": {},
   "outputs": [
    {
     "data": {
      "text/plain": [
       "9"
      ]
     },
     "execution_count": 11,
     "metadata": {},
     "output_type": "execute_result"
    }
   ],
   "source": [
    "sumofarray(np.array([4,3,2]))"
   ]
  },
  {
   "cell_type": "code",
   "execution_count": 12,
   "id": "6e784609",
   "metadata": {},
   "outputs": [
    {
     "name": "stdout",
     "output_type": "stream",
     "text": [
      "enter the first string:Abhinav \n",
      "enter the second string:Navalkar\n",
      "first string Abhinav \n",
      "second string Navalkar\n",
      "concatenate both string Abhinav Navalkar\n",
      "sub string in\n",
      "sub string al\n"
     ]
    }
   ],
   "source": [
    "#2.Write a program to create, concatenate and print a string and\n",
    "# accessing sub-string from a given string\n",
    "s1=input('enter the first string:')\n",
    "s2=input('enter the second string:')\n",
    "\n",
    "print('first string',s1)\n",
    "print('second string',s2)\n",
    "\n",
    "print('concatenate both string',s1+s2)\n",
    "print('sub string',s1[3:5])\n",
    "print('sub string',s2[3:5])"
   ]
  },
  {
   "cell_type": "code",
   "execution_count": 13,
   "id": "aaeb3399",
   "metadata": {},
   "outputs": [
    {
     "data": {
      "text/plain": [
       "(1, 2, 3, 4)"
      ]
     },
     "execution_count": 13,
     "metadata": {},
     "output_type": "execute_result"
    }
   ],
   "source": [
    "#3.Create and explain the working of  tuple.\n",
    "#tuple in type of data structure in which we store a distinct value .\n",
    "#tuple are immutable means we cannot update or remove the item from the tuple .\n",
    "# tuple are shown by pareanthesis '( )'\n",
    "\n",
    "mytuple=(1,2,3,4)\n",
    "mytuple"
   ]
  },
  {
   "cell_type": "code",
   "execution_count": 14,
   "id": "3afd1583",
   "metadata": {},
   "outputs": [
    {
     "data": {
      "text/plain": [
       "()"
      ]
     },
     "execution_count": 14,
     "metadata": {},
     "output_type": "execute_result"
    }
   ],
   "source": [
    "mytuple1=() # empty tuple\n",
    "mytuple1"
   ]
  },
  {
   "cell_type": "code",
   "execution_count": 15,
   "id": "6b233edd",
   "metadata": {},
   "outputs": [
    {
     "data": {
      "text/plain": [
       "()"
      ]
     },
     "execution_count": 15,
     "metadata": {},
     "output_type": "execute_result"
    }
   ],
   "source": [
    "t1=tuple()\n",
    "t1"
   ]
  },
  {
   "cell_type": "code",
   "execution_count": 16,
   "id": "6f90d869",
   "metadata": {},
   "outputs": [
    {
     "data": {
      "text/plain": [
       "tuple"
      ]
     },
     "execution_count": 16,
     "metadata": {},
     "output_type": "execute_result"
    }
   ],
   "source": [
    "type(t1)"
   ]
  },
  {
   "cell_type": "code",
   "execution_count": 17,
   "id": "618358ef",
   "metadata": {},
   "outputs": [
    {
     "name": "stdout",
     "output_type": "stream",
     "text": [
      "enter the num1:45\n",
      "enter the num2:34\n",
      "enter the num3:2543\n",
      "the highest num is: 2543\n"
     ]
    }
   ],
   "source": [
    "# 4.Write a python program to find largest of three numbers.\n",
    "n1=int(input('enter the num1:'))\n",
    "n2=int(input('enter the num2:'))\n",
    "n3=int(input('enter the num3:'))\n",
    "\n",
    "if n1>n2 and n1>n3:\n",
    "    print('the highest num is:',n1)\n",
    "elif n2>n3 and n2>n3:\n",
    "    print('the highest num is:',n2)\n",
    "else :\n",
    "    print('the highest num is:',n3)"
   ]
  },
  {
   "cell_type": "code",
   "execution_count": 21,
   "id": "05c4bbbd",
   "metadata": {},
   "outputs": [
    {
     "name": "stdout",
     "output_type": "stream",
     "text": [
      "enter the temperatur:38\n",
      "enter the unit:c\n",
      "the temperature in fahrenheit is: 100.4\n"
     ]
    }
   ],
   "source": [
    "# 5 Write a Python program to convert temperatures to and from Celsius,\n",
    "#Fahrenheit. [ Formula: c = (f-32)(5/9)]\n",
    "\n",
    "temp=float(input('enter the temperatur:'))\n",
    "unit=input('enter the unit:')\n",
    "\n",
    "if unit=='C' or unit=='c':\n",
    "    newtemp=9/5*temp+32\n",
    "    print('the temperature in fahrenheit is:',newtemp)\n",
    "elif unit=='F' or unit=='f':\n",
    "    newtemp=5/9*temp-32\n",
    "    print('the temperature in celcius is:',newtemp)\n",
    "else:\n",
    "    print('unknown unit is pass')"
   ]
  },
  {
   "cell_type": "code",
   "execution_count": 28,
   "id": "e59934fb",
   "metadata": {},
   "outputs": [
    {
     "name": "stdout",
     "output_type": "stream",
     "text": [
      "enter the base:3\n",
      "enter the height:4\n",
      "enter the hypo:5\n",
      "the triangle is a right angle triangle.\n"
     ]
    }
   ],
   "source": [
    "# 6 Write a program that accepts the lengths of three sides of a triangle\n",
    "#as inputs. The program output should indicate whether or not the triangle\n",
    "#is a right triangle (Recall from the Pythagorean Theorem that in a right\n",
    "#triangle, the square of one side equals the sum of the squares of the\n",
    "#other two sides).\n",
    "\n",
    "b=int(input('enter the base:'))\n",
    "h=int(input('enter the height:'))\n",
    "hypo=int(input('enter the hypo:'))\n",
    "\n",
    "if (hypo**2)==(b**2)+(h**2):\n",
    "    print('the triangle is a right angle triangle.')\n",
    "else:\n",
    "    print('the triangle is not right angle triangle.')"
   ]
  },
  {
   "cell_type": "code",
   "execution_count": 38,
   "id": "2078afb0",
   "metadata": {},
   "outputs": [],
   "source": [
    "#7  Given a range of the first 10 numbers, Iterate from the start number to the end number, \n",
    "#and In each iteration print the sum of the current number and previous number\n",
    "def sumof(num):\n",
    "    pnum=0\n",
    "    for i in range(num):\n",
    "        sum=pnum+i\n",
    "        print('the current num is:',i,'privious num is:',pnum,'sum is:',sum)\n",
    "        pnum=i\n",
    "        "
   ]
  },
  {
   "cell_type": "code",
   "execution_count": 41,
   "id": "717646e8",
   "metadata": {},
   "outputs": [
    {
     "name": "stdout",
     "output_type": "stream",
     "text": [
      "the current num is: 0 privious num is: 0 sum is: 0\n",
      "the current num is: 1 privious num is: 0 sum is: 1\n",
      "the current num is: 2 privious num is: 1 sum is: 3\n",
      "the current num is: 3 privious num is: 2 sum is: 5\n",
      "the current num is: 4 privious num is: 3 sum is: 7\n",
      "the current num is: 5 privious num is: 4 sum is: 9\n",
      "the current num is: 6 privious num is: 5 sum is: 11\n",
      "the current num is: 7 privious num is: 6 sum is: 13\n",
      "the current num is: 8 privious num is: 7 sum is: 15\n",
      "the current num is: 9 privious num is: 8 sum is: 17\n",
      "the current num is: 10 privious num is: 9 sum is: 19\n"
     ]
    }
   ],
   "source": [
    "sumof(11)"
   ]
  },
  {
   "cell_type": "code",
   "execution_count": 60,
   "id": "ef7cf366",
   "metadata": {},
   "outputs": [],
   "source": [
    "#8 Given a string, display only those characters which are present at an even index number.\n",
    "\n",
    "def printevenstr(str):\n",
    "    for i in range(0,len(str),2):\n",
    "        print('index[',i,']',str[i])"
   ]
  },
  {
   "cell_type": "code",
   "execution_count": 61,
   "id": "511e243c",
   "metadata": {},
   "outputs": [
    {
     "name": "stdout",
     "output_type": "stream",
     "text": [
      "index[ 0 ] A\n",
      "index[ 2 ] h\n",
      "index[ 4 ] n\n",
      "index[ 6 ] v\n"
     ]
    }
   ],
   "source": [
    "inputstr='Abhinav'\n",
    "printevenstr(inputstr)"
   ]
  },
  {
   "cell_type": "code",
   "execution_count": 65,
   "id": "211828a1",
   "metadata": {},
   "outputs": [
    {
     "data": {
      "text/plain": [
       "2"
      ]
     },
     "execution_count": 65,
     "metadata": {},
     "output_type": "execute_result"
    }
   ],
   "source": [
    "#9 20.Return the count of sub-string \"Abhinav\" appears in the given string\n",
    "\n",
    "str=\"Abhinav is good developer. Abhinav is a data scientist \"\n",
    "\n",
    "c=str.count('Abhinav')\n",
    "c"
   ]
  },
  {
   "cell_type": "code",
   "execution_count": 66,
   "id": "0fad3359",
   "metadata": {},
   "outputs": [],
   "source": [
    "#10.Write a program (function!) that takes a list and returns \n",
    "#a new list that contains all the elements of the first list minus all the duplicates.  \n",
    "def listdup(x):\n",
    "    y=[]\n",
    "    for i in x:\n",
    "        if i not in y:\n",
    "            y.append(i)\n",
    "    return y\n",
    "    "
   ]
  },
  {
   "cell_type": "code",
   "execution_count": 67,
   "id": "2b614bc9",
   "metadata": {},
   "outputs": [
    {
     "data": {
      "text/plain": [
       "[1, 2, 3, 42, 31]"
      ]
     },
     "execution_count": 67,
     "metadata": {},
     "output_type": "execute_result"
    }
   ],
   "source": [
    "listdup([1,2,3,2,42,1,31,1,1,1])"
   ]
  },
  {
   "cell_type": "code",
   "execution_count": null,
   "id": "616a08c5",
   "metadata": {},
   "outputs": [],
   "source": []
  }
 ],
 "metadata": {
  "kernelspec": {
   "display_name": "Python 3 (ipykernel)",
   "language": "python",
   "name": "python3"
  },
  "language_info": {
   "codemirror_mode": {
    "name": "ipython",
    "version": 3
   },
   "file_extension": ".py",
   "mimetype": "text/x-python",
   "name": "python",
   "nbconvert_exporter": "python",
   "pygments_lexer": "ipython3",
   "version": "3.11.5"
  }
 },
 "nbformat": 4,
 "nbformat_minor": 5
}
