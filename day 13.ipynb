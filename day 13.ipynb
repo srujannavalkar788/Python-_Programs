{
 "cells": [
  {
   "cell_type": "code",
   "execution_count": 1,
   "id": "11098dbf",
   "metadata": {},
   "outputs": [
    {
     "data": {
      "text/plain": [
       "(2, 4, 3, 5, 'ram')"
      ]
     },
     "execution_count": 1,
     "metadata": {},
     "output_type": "execute_result"
    }
   ],
   "source": [
    "#1 tuple cannot updated but if we convert the tuple into list it will be updated\n",
    "a=(2,4,3,5,'ram')\n",
    "a"
   ]
  },
  {
   "cell_type": "code",
   "execution_count": 2,
   "id": "454435c7",
   "metadata": {},
   "outputs": [
    {
     "data": {
      "text/plain": [
       "[2, 4, 3, 5, 'ram']"
      ]
     },
     "execution_count": 2,
     "metadata": {},
     "output_type": "execute_result"
    }
   ],
   "source": [
    "b=list(a)\n",
    "b"
   ]
  },
  {
   "cell_type": "code",
   "execution_count": 3,
   "id": "0d2100f5",
   "metadata": {},
   "outputs": [
    {
     "data": {
      "text/plain": [
       "[2, 45, 3, 5, 'ram']"
      ]
     },
     "execution_count": 3,
     "metadata": {},
     "output_type": "execute_result"
    }
   ],
   "source": [
    "b[1]=(45)\n",
    "b"
   ]
  },
  {
   "cell_type": "code",
   "execution_count": 5,
   "id": "2470d7e6",
   "metadata": {},
   "outputs": [
    {
     "data": {
      "text/plain": [
       "('ram', 'sham', 'mango', 'apple')"
      ]
     },
     "execution_count": 5,
     "metadata": {},
     "output_type": "execute_result"
    }
   ],
   "source": [
    "#2 adding tuple into tuple\n",
    "p=('ram','sham')\n",
    "q=('mango','apple')\n",
    "\n",
    "p=p+q\n",
    "p"
   ]
  },
  {
   "cell_type": "code",
   "execution_count": 6,
   "id": "6fa93fe3",
   "metadata": {},
   "outputs": [
    {
     "data": {
      "text/plain": [
       "[45, 75, 262]"
      ]
     },
     "execution_count": 6,
     "metadata": {},
     "output_type": "execute_result"
    }
   ],
   "source": [
    "#3 remove item\n",
    "mytuple=(23,45,75,262)\n",
    "y=list(mytuple)\n",
    "y.remove(23)\n",
    "y"
   ]
  },
  {
   "cell_type": "code",
   "execution_count": 9,
   "id": "a404f087",
   "metadata": {},
   "outputs": [
    {
     "name": "stdout",
     "output_type": "stream",
     "text": [
      "ram\n",
      "sham\n",
      "mango\n",
      "apple\n"
     ]
    }
   ],
   "source": [
    "#4\n",
    "mytuple1=('ram','sham','mango','apple')\n",
    "for i in range(len(mytuple1)):\n",
    "    print(mytuple1[i])\n"
   ]
  },
  {
   "cell_type": "code",
   "execution_count": 11,
   "id": "39e6ae41",
   "metadata": {},
   "outputs": [
    {
     "name": "stdout",
     "output_type": "stream",
     "text": [
      "23\n",
      "45\n",
      "357\n",
      "4798\n",
      "489\n",
      "4\n"
     ]
    }
   ],
   "source": [
    "#5\n",
    "mytuple=(23,45,357,4798,489,4)\n",
    "i=0\n",
    "while i <len(mytuple):\n",
    "    print(mytuple[i])\n",
    "    i=i+1"
   ]
  },
  {
   "cell_type": "code",
   "execution_count": 13,
   "id": "c80c150d",
   "metadata": {},
   "outputs": [],
   "source": [
    "#6\n",
    "def is_prime(num):\n",
    "    if num <= 1:\n",
    "        return \"Not prime\"\n",
    "    for i in range(2, int(num**0.5) + 1):\n",
    "        if num % i == 0:\n",
    "            return \"Not prime\"\n",
    "    return \"Prime\""
   ]
  },
  {
   "cell_type": "code",
   "execution_count": 14,
   "id": "da7a0a4a",
   "metadata": {},
   "outputs": [
    {
     "data": {
      "text/plain": [
       "'Not prime'"
      ]
     },
     "execution_count": 14,
     "metadata": {},
     "output_type": "execute_result"
    }
   ],
   "source": [
    "is_prime(56)"
   ]
  },
  {
   "cell_type": "code",
   "execution_count": 15,
   "id": "23570b11",
   "metadata": {},
   "outputs": [],
   "source": [
    "#7\n",
    "def is_even(n):\n",
    "    if n%2==0:\n",
    "        return 'even'\n",
    "    else:\n",
    "        return 'odd'\n",
    "        \n"
   ]
  },
  {
   "cell_type": "code",
   "execution_count": 16,
   "id": "f93b893b",
   "metadata": {},
   "outputs": [
    {
     "data": {
      "text/plain": [
       "'even'"
      ]
     },
     "execution_count": 16,
     "metadata": {},
     "output_type": "execute_result"
    }
   ],
   "source": [
    "is_even(24)"
   ]
  },
  {
   "cell_type": "code",
   "execution_count": 17,
   "id": "41c2f30e",
   "metadata": {},
   "outputs": [],
   "source": [
    "#8\n",
    "def fact(num):\n",
    "    if num==0:\n",
    "        return 1\n",
    "    else:\n",
    "        return num*fact(num-1)"
   ]
  },
  {
   "cell_type": "code",
   "execution_count": 18,
   "id": "dff451b5",
   "metadata": {},
   "outputs": [
    {
     "data": {
      "text/plain": [
       "620448401733239439360000"
      ]
     },
     "execution_count": 18,
     "metadata": {},
     "output_type": "execute_result"
    }
   ],
   "source": [
    "fact(24)"
   ]
  },
  {
   "cell_type": "code",
   "execution_count": 19,
   "id": "028c103c",
   "metadata": {},
   "outputs": [
    {
     "data": {
      "text/plain": [
       "24"
      ]
     },
     "execution_count": 19,
     "metadata": {},
     "output_type": "execute_result"
    }
   ],
   "source": [
    "fact(4)"
   ]
  },
  {
   "cell_type": "code",
   "execution_count": 20,
   "id": "8980248a",
   "metadata": {},
   "outputs": [],
   "source": [
    "#9\n",
    "def reverse(a):\n",
    "    return a[::-1]\n"
   ]
  },
  {
   "cell_type": "code",
   "execution_count": 21,
   "id": "60a5eb1f",
   "metadata": {},
   "outputs": [
    {
     "data": {
      "text/plain": [
       "[3, 35, 356, 2]"
      ]
     },
     "execution_count": 21,
     "metadata": {},
     "output_type": "execute_result"
    }
   ],
   "source": [
    "a=[2,356,35,3]\n",
    "reverse(a)"
   ]
  },
  {
   "cell_type": "code",
   "execution_count": 33,
   "id": "43f4fef5",
   "metadata": {},
   "outputs": [],
   "source": [
    "#10\n",
    "def min(a,b,c):\n",
    "    return min(a,b,c)"
   ]
  },
  {
   "cell_type": "code",
   "execution_count": null,
   "id": "db000516",
   "metadata": {},
   "outputs": [],
   "source": [
    "min(1,2,3)"
   ]
  },
  {
   "cell_type": "code",
   "execution_count": null,
   "id": "51dd2933",
   "metadata": {},
   "outputs": [],
   "source": []
  }
 ],
 "metadata": {
  "kernelspec": {
   "display_name": "Python 3 (ipykernel)",
   "language": "python",
   "name": "python3"
  },
  "language_info": {
   "codemirror_mode": {
    "name": "ipython",
    "version": 3
   },
   "file_extension": ".py",
   "mimetype": "text/x-python",
   "name": "python",
   "nbconvert_exporter": "python",
   "pygments_lexer": "ipython3",
   "version": "3.11.5"
  }
 },
 "nbformat": 4,
 "nbformat_minor": 5
}
