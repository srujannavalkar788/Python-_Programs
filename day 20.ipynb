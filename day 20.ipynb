{
 "cells": [
  {
   "cell_type": "code",
   "execution_count": 16,
   "id": "1079d4f7",
   "metadata": {},
   "outputs": [
    {
     "name": "stdout",
     "output_type": "stream",
     "text": [
      "[[1, 5], [5, 6], [3, 7], [4, 8]]\n"
     ]
    }
   ],
   "source": [
    "#1Transpose of Matrix using Nested Loops\n",
    "transpose=[]\n",
    "matrix=[[1,5,3,4],[5,6,7,8]]\n",
    "\n",
    "for i in range(len(matrix[0])):\n",
    "    transpose_row=[]\n",
    "    for row in matrix:\n",
    "        transpose_row.append(row[i])\n",
    "    transpose.append(transpose_row)\n",
    "print(transpose)\n",
    "    \n",
    "\n",
    "\n"
   ]
  },
  {
   "cell_type": "code",
   "execution_count": 23,
   "id": "cf9f044e",
   "metadata": {},
   "outputs": [
    {
     "name": "stdout",
     "output_type": "stream",
     "text": [
      "enter any number:23\n",
      "number is not divisible\n"
     ]
    }
   ],
   "source": [
    "#2 Write a program to check whether a number is divisible by 7 or not.\n",
    "\n",
    "n=int(input('enter any number:'))\n",
    "\n",
    "if (n %7==0):\n",
    "    print('number is divisible by 7')\n",
    "else:\n",
    "    print('number is not divisible')"
   ]
  },
  {
   "cell_type": "code",
   "execution_count": 8,
   "id": "e22353c9",
   "metadata": {},
   "outputs": [
    {
     "name": "stdout",
     "output_type": "stream",
     "text": [
      "enter the electricity unit:150\n",
      "250\n"
     ]
    }
   ],
   "source": [
    "#3 Write a program to calculate the electricity bill (accept number of unit from user) according to the following criteria : Unit Price\n",
    "#First 100 units no charge Next 100 units Rs 5 per unit After 200 units Rs 10 per unit \n",
    "# (For example if input unit is 350 than total bill amount is Rs2000)\n",
    "\n",
    "amt=0\n",
    "unit=int(input('enter the electricity unit:'))\n",
    "if unit<=100:\n",
    "    amt=0\n",
    "    print(amt)\n",
    "elif unit>100 and unit<=200:\n",
    "    amt=(unit-100)*5\n",
    "    print(amt)\n",
    "elif unit>200:\n",
    "    amt=(unit-100)*10-500\n",
    "    print(amt)"
   ]
  },
  {
   "cell_type": "code",
   "execution_count": 10,
   "id": "44bd17ea",
   "metadata": {},
   "outputs": [
    {
     "name": "stdout",
     "output_type": "stream",
     "text": [
      "enter the year:2040\n",
      "year is leap year\n"
     ]
    }
   ],
   "source": [
    "#4 Write a program to check whether an years is leap year or not.\n",
    "year=int(input('enter the year:'))\n",
    "\n",
    "if year%100==0:\n",
    "    if year%400==0:\n",
    "        print('entered year is leap year')\n",
    "    else:\n",
    "        print('is not leap year')\n",
    "if year%4==0:\n",
    "    print('year is leap year')\n",
    "else:\n",
    "    print('year is not leap year')"
   ]
  },
  {
   "cell_type": "code",
   "execution_count": 12,
   "id": "73234802",
   "metadata": {},
   "outputs": [
    {
     "name": "stdout",
     "output_type": "stream",
     "text": [
      "enter the any number:13212436426\n",
      "last digit of  13212436426 is 6\n"
     ]
    }
   ],
   "source": [
    "#5 Write a program to display the last digit of a number. (hint : any number % 10 will return the last digit)\n",
    "num=int(input('enter the any number:'))\n",
    "print('last digit of ',num,'is',num%10)"
   ]
  },
  {
   "cell_type": "code",
   "execution_count": 15,
   "id": "97794d4e",
   "metadata": {},
   "outputs": [
    {
     "name": "stdout",
     "output_type": "stream",
     "text": [
      "enter the number between 1 to 7:5\n",
      "thursday\n"
     ]
    }
   ],
   "source": [
    "#6 Write a program to accept a number from 1 to 7 and display the name of the day like 1 for Sunday , 2 for Monday and so on. \n",
    "num=int(input('enter the number between 1 to 7:'))\n",
    "if num==1:\n",
    "    print('sunday')\n",
    "elif num==2:\n",
    "    print('monday')\n",
    "elif num==3:\n",
    "    print('tuesday')\n",
    "elif num==4:\n",
    "    print('wednesday')\n",
    "elif num==5:\n",
    "    print('thursday')\n",
    "elif num==6:\n",
    "    print('friday')\n",
    "elif num==7:\n",
    "    print('saturday')\n",
    "else:\n",
    "    print('please enter the number between 1 to 7')\n",
    "    "
   ]
  },
  {
   "cell_type": "code",
   "execution_count": 23,
   "id": "5ea29084",
   "metadata": {},
   "outputs": [
    {
     "name": "stdout",
     "output_type": "stream",
     "text": [
      "enter 3 digit number:-1\n",
      "enter the 3 digit number please\n"
     ]
    }
   ],
   "source": [
    "#7 Write a program to check whether a number entered is three digit number or not.\n",
    "num=(input('enter 3 digit number:'))\n",
    "l=len(num)\n",
    "if l!=3:\n",
    "    \n",
    "    print('enter the 3 digit number please')\n",
    "else:\n",
    "    print('the middle digit is',int(num)%100//10)"
   ]
  },
  {
   "cell_type": "code",
   "execution_count": 24,
   "id": "93b5ca67",
   "metadata": {},
   "outputs": [
    {
     "name": "stdout",
     "output_type": "stream",
     "text": [
      "enter any number:-1\n",
      "number is negative\n"
     ]
    }
   ],
   "source": [
    "#8 Write a program to check whether a number (accepted from user) is positive or negative..\n",
    "num=int(input('enter any number:'))\n",
    "\n",
    "if num>=0:\n",
    "    print('number is positive')\n",
    "else:\n",
    "    print('number is negative')"
   ]
  },
  {
   "cell_type": "code",
   "execution_count": 27,
   "id": "21fc7708",
   "metadata": {},
   "outputs": [
    {
     "name": "stdout",
     "output_type": "stream",
     "text": [
      "enter the number:22354\n",
      "number is not divisible by both 2 and 3\n"
     ]
    }
   ],
   "source": [
    "#9 rite a program to whether a number (accepted from user) is divisible by 2 and 3 both.\n",
    "num=int(input('enter the number:'))\n",
    "if num%2==0 and num%3==0:\n",
    "    print('number is divisible by both 2 and 3')\n",
    "else:\n",
    "    print('number is not divisible by both 2 and 3')"
   ]
  },
  {
   "cell_type": "code",
   "execution_count": 28,
   "id": "939538f2",
   "metadata": {},
   "outputs": [
    {
     "name": "stdout",
     "output_type": "stream",
     "text": [
      "Input your password@Bhinav11\n",
      "Valid Password\n"
     ]
    }
   ],
   "source": [
    "# 10 Write a Python program to check the validity of a password (input from users).\n",
    "#Validation :\n",
    "#At least 1 letter between [a-z] and 1 letter between [A-Z]. At least 1 number between [0-9]. \n",
    "#At least 1 character from [$#@]. Minimum length 6 characters. Maximum length 16 characters.\\\n",
    "\n",
    "\n",
    "import re\n",
    "p= input(\"Input your password\")\n",
    "x = True\n",
    "while x:  \n",
    "    if (len(p)<6 or len(p)>12):\n",
    "        break\n",
    "    elif not re.search(\"[a-z]\",p):\n",
    "        break\n",
    "    elif not re.search(\"[0-9]\",p):\n",
    "        break\n",
    "    elif not re.search(\"[A-Z]\",p):\n",
    "        break\n",
    "    elif not re.search(\"[$#@]\",p):\n",
    "        break\n",
    "    elif re.search(\"\\s\",p):\n",
    "        break\n",
    "    else:\n",
    "        print(\"Valid Password\")\n",
    "        x=False\n",
    "        break\n",
    "\n",
    "if x:\n",
    "    print(\"Not a Valid Password\")"
   ]
  },
  {
   "cell_type": "code",
   "execution_count": null,
   "id": "a6ce3074",
   "metadata": {},
   "outputs": [],
   "source": []
  }
 ],
 "metadata": {
  "kernelspec": {
   "display_name": "Python 3 (ipykernel)",
   "language": "python",
   "name": "python3"
  },
  "language_info": {
   "codemirror_mode": {
    "name": "ipython",
    "version": 3
   },
   "file_extension": ".py",
   "mimetype": "text/x-python",
   "name": "python",
   "nbconvert_exporter": "python",
   "pygments_lexer": "ipython3",
   "version": "3.11.5"
  }
 },
 "nbformat": 4,
 "nbformat_minor": 5
}
