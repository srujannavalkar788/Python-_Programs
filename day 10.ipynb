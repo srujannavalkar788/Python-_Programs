{
 "cells": [
  {
   "cell_type": "code",
   "execution_count": 2,
   "id": "221ce1fb",
   "metadata": {},
   "outputs": [
    {
     "name": "stdout",
     "output_type": "stream",
     "text": [
      "1\n",
      "2\n",
      "3\n",
      "4\n",
      "5\n",
      "6\n",
      "7\n",
      "8\n",
      "9\n",
      "10\n"
     ]
    }
   ],
   "source": [
    "#1 write a python to display the elements of tuple using for loop\n",
    "\n",
    "n=(1,2,3,4,5,6,7,8,9,10)\n",
    "for i in n:\n",
    "    print(n[i-1])\n",
    "    "
   ]
  },
  {
   "cell_type": "code",
   "execution_count": 6,
   "id": "5ac45d63",
   "metadata": {},
   "outputs": [
    {
     "name": "stdout",
     "output_type": "stream",
     "text": [
      "(23, 45, 67, 89, 35, 22, 45)\n",
      "len= 7\n",
      "[0, 1, 2, 3, 4, 5, 6]\n",
      "23\n",
      "45\n",
      "67\n",
      "89\n",
      "35\n",
      "22\n",
      "45\n"
     ]
    }
   ],
   "source": [
    "#2 Write a python script to display all elements of given tuple\n",
    "n=(23,45,67,89,35,22,45)\n",
    "print(n)\n",
    "l=len(n)\n",
    "print('len=',l)\n",
    "n1=list(range(0,l))\n",
    "print(n1)\n",
    "for i in n1:\n",
    "    print(n[i])"
   ]
  },
  {
   "cell_type": "code",
   "execution_count": 7,
   "id": "35f4b972",
   "metadata": {},
   "outputs": [
    {
     "name": "stdout",
     "output_type": "stream",
     "text": [
      "(2, 34, 5, 6, 78, 9, 56, 4)\n",
      "len= 8\n",
      "2\n",
      "34\n",
      "5\n",
      "6\n",
      "78\n",
      "9\n",
      "56\n",
      "4\n",
      "sum of all number 194\n"
     ]
    }
   ],
   "source": [
    "#3 Given a tuple n=(2,34,5,6,78,9,56,4) * display elements of tuple * display sum of all the tuple element\n",
    "\n",
    "n=(2,34,5,6,78,9,56,4)\n",
    "print(n)\n",
    "l=len(n)\n",
    "print('len=',l)\n",
    "\n",
    "n1=list(range(0,l))\n",
    "\n",
    "s=0\n",
    "for i in n1:\n",
    "    print(n[i])\n",
    "    s=s+n[i]\n",
    "print('sum of all number',s)"
   ]
  },
  {
   "cell_type": "code",
   "execution_count": 8,
   "id": "9f7788d8",
   "metadata": {},
   "outputs": [
    {
     "name": "stdout",
     "output_type": "stream",
     "text": [
      "(-9, 34, -25, 6, 8, 9, -6, 34)\n",
      "len= 8\n",
      "-9\n",
      "34\n",
      "-25\n",
      "6\n",
      "8\n",
      "9\n",
      "-6\n",
      "34\n",
      "positive numbers 5\n"
     ]
    }
   ],
   "source": [
    "#4 Given a tuple n=(-9,34,-25,6,8,9,-6,34) * print total +ve elements in tuple\n",
    "n=(-9,34,-25,6,8,9,-6,34) \n",
    "print(n)\n",
    "l=len(n)\n",
    "print('len=',l)\n",
    "\n",
    "n1=list(range(0,l))\n",
    "c=0\n",
    "for i in n1:\n",
    "    print(n[i])\n",
    "    if (n[i]>0):\n",
    "        c=c+1\n",
    "print(\"positive numbers\",c)    "
   ]
  },
  {
   "cell_type": "code",
   "execution_count": 10,
   "id": "25035c6e",
   "metadata": {},
   "outputs": [
    {
     "name": "stdout",
     "output_type": "stream",
     "text": [
      "(9, 34, 25, 6, 8, 7, 6, 37)\n",
      "len= 8\n",
      "9\n",
      "34\n",
      "25\n",
      "6\n",
      "8\n",
      "7\n",
      "6\n",
      "37\n",
      "total even number 4\n"
     ]
    }
   ],
   "source": [
    "# 5 Given a tuple n=(9,34,25,6,8,7,6,37) * print total even elements in tuple\n",
    "n=(9,34,25,6,8,7,6,37)\n",
    "print(n)\n",
    "l=len(n)\n",
    "print('len=',l)\n",
    "n1=list(range(0,l))\n",
    "c=0\n",
    "for i in n1:\n",
    "    print(n[i])\n",
    "    if (n[i]%2==0):\n",
    "        c=c+1\n",
    "print('total even number',c)"
   ]
  },
  {
   "cell_type": "code",
   "execution_count": 15,
   "id": "1486aa9b",
   "metadata": {},
   "outputs": [
    {
     "name": "stdout",
     "output_type": "stream",
     "text": [
      "enter the student name:Anand\n",
      "Anand has {99} grades\n"
     ]
    }
   ],
   "source": [
    "# 6 Create a dictionary that maps student names to their corresponding grades in a class (strings to integers).\n",
    "\n",
    "student_grades={'Anand':99,'Gandharv':91,'Abhinav':93,'Gaurav':85,'Srushti':97}\n",
    "student_name=str(input(\"enter the student name:\"))\n",
    " \n",
    "    \n",
    "if student_name in student_grades:\n",
    "    print(student_name,\"has\",{student_grades[student_name]},'grades')\n",
    "else:\n",
    "    print(\"student not found\")"
   ]
  },
  {
   "cell_type": "code",
   "execution_count": 17,
   "id": "8b9ca33e",
   "metadata": {},
   "outputs": [
    {
     "name": "stdout",
     "output_type": "stream",
     "text": [
      "{23: 'ram', 24: 'sham', 25: 'om', 'jay': 98, 'ganesh': 67}\n"
     ]
    }
   ],
   "source": [
    "#7 write a python program to join/merge/concatenate  two dictionary \n",
    "\n",
    "d1={23:'ram',24:'sham',25:'om'}\n",
    "d2={'jay':98,'ganesh':67}\n",
    "\n",
    "d3={}\n",
    "for i in (d1,d2):\n",
    "    d3.update(i)\n",
    "print(d3)"
   ]
  },
  {
   "cell_type": "code",
   "execution_count": 24,
   "id": "45acef43",
   "metadata": {},
   "outputs": [
    {
     "name": "stdout",
     "output_type": "stream",
     "text": [
      "enter the key:1\n",
      "{2: 'DOB', 3: 'ADD', 4: 'loc'}\n"
     ]
    }
   ],
   "source": [
    "#8 write a program to accept a key from user and remove that key from the dictionary\n",
    "\n",
    "d1={1:'name',2:'DOB',3:'ADD',4:'loc'}\n",
    "\n",
    "k=int(input(\"enter the key:\"))\n",
    "if k in d1:\n",
    "    d1.pop(k)\n",
    "    print(d1)\n",
    "else:\n",
    "    print('key not found')\n"
   ]
  },
  {
   "cell_type": "code",
   "execution_count": 26,
   "id": "880d3f2c",
   "metadata": {},
   "outputs": [
    {
     "name": "stdout",
     "output_type": "stream",
     "text": [
      "maximum values  56\n",
      "minimum values 23\n"
     ]
    }
   ],
   "source": [
    "#9 write a program to display max and min values in dictionary\n",
    "\n",
    "d1={'apple':23,'mango':34,'grapes':44,'orange':56}\n",
    "\n",
    "mx=max(d1.values())\n",
    "mn=min(d1.values())\n",
    "\n",
    "print(\"maximum values \",mx)\n",
    "print(\"minimum values\",mn)"
   ]
  },
  {
   "cell_type": "code",
   "execution_count": 27,
   "id": "f2a8b57b",
   "metadata": {},
   "outputs": [
    {
     "name": "stdout",
     "output_type": "stream",
     "text": [
      "enter the key:1\n",
      "enter the value:ram\n",
      "{1: 'ram', 2: 'suman', 3: 'aman', 4: 'kranti', 5: 'suman'}\n"
     ]
    }
   ],
   "source": [
    "# 10 accept the key from the user and modify the value\n",
    "d1={1:'aman',2:'suman',3:'aman',4:\"kranti\",5:\"suman\"}\n",
    "\n",
    "k=int(input(\"enter the key:\"))\n",
    "\n",
    "v=input(\"enter the value:\")\n",
    "\n",
    "d1[k]=v\n",
    "print(d1)"
   ]
  },
  {
   "cell_type": "code",
   "execution_count": null,
   "id": "569ba08f",
   "metadata": {},
   "outputs": [],
   "source": []
  }
 ],
 "metadata": {
  "kernelspec": {
   "display_name": "Python 3 (ipykernel)",
   "language": "python",
   "name": "python3"
  },
  "language_info": {
   "codemirror_mode": {
    "name": "ipython",
    "version": 3
   },
   "file_extension": ".py",
   "mimetype": "text/x-python",
   "name": "python",
   "nbconvert_exporter": "python",
   "pygments_lexer": "ipython3",
   "version": "3.11.5"
  }
 },
 "nbformat": 4,
 "nbformat_minor": 5
}
