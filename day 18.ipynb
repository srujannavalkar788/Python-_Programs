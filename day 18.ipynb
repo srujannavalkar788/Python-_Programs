{
 "cells": [
  {
   "cell_type": "code",
   "execution_count": 15,
   "id": "6a806c25",
   "metadata": {},
   "outputs": [
    {
     "name": "stdout",
     "output_type": "stream",
     "text": [
      "[1505, 1540, 1575, 1610, 1645, 1680, 1715, 1750, 1785, 1820, 1855, 1890, 1925, 1960, 1995, 2030, 2065, 2100, 2135, 2170, 2205, 2240, 2275, 2310, 2345, 2380, 2415, 2450, 2485, 2520, 2555, 2590, 2625, 2660, 2695]\n"
     ]
    }
   ],
   "source": [
    "#1 Write a Python program to find those numbers which are divisible by 7 and multiples of 5,\n",
    "# between 1500 and 2700 (both included).\n",
    "n1=[]\n",
    "\n",
    "for i in range(1500,2701):\n",
    "    if (i%7==0) and (i%5==0):\n",
    "        n1.append((i))\n",
    "print(n1)"
   ]
  },
  {
   "cell_type": "code",
   "execution_count": 35,
   "id": "a7d0c0c2",
   "metadata": {},
   "outputs": [
    {
     "name": "stdout",
     "output_type": "stream",
     "text": [
      "enter the temperature:95\n",
      "enter the unitf\n",
      "77.22222222222223\n"
     ]
    }
   ],
   "source": [
    "#2 Write a Python program to convert temperatures to and from Celsius and Fahrenheit.\n",
    "#[ Formula : c/5 = f-32/9 [ where c = temperature in celsius and f = temperature in fahrenheit ]\n",
    "\n",
    "temp=int(input('enter the temperature:'))\n",
    "unit=input('enter the unit')\n",
    "if unit=='c' or unit=='C':\n",
    "    newtemp=temp+32*9/5\n",
    "    print(newtemp)\n",
    "elif unit=='f' or unit=='F':\n",
    "    newtemp= temp-32*5/9\n",
    "    print(newtemp)\n",
    "else:\n",
    "    print('invalid unit passed')\n",
    "    \n",
    "\n"
   ]
  },
  {
   "cell_type": "code",
   "execution_count": null,
   "id": "522dfb82",
   "metadata": {},
   "outputs": [
    {
     "name": "stdout",
     "output_type": "stream",
     "text": [
      "enter a guess:1\n",
      "well guess\n",
      "enter a guess:4\n",
      "WRONG GUESS\n"
     ]
    }
   ],
   "source": [
    "# 3 Write a Python program to guess a number between 1 and 9.Note : User is prompted to enter a guess. \n",
    "#If the user guesses wrong then the prompt appears again until the guess is correct, on successful guess, \n",
    "#user will get a \"Well guessed!\" message, and the program will exit.\n",
    "\n",
    "\n",
    "\n",
    "for i in range(1,10):\n",
    "    n=int(input('enter a guess:'))\n",
    "    if i ==n:\n",
    "        i=i+1\n",
    "        print('well guess')\n",
    "    else:\n",
    "        print('WRONG GUESS')\n",
    "        "
   ]
  },
  {
   "cell_type": "code",
   "execution_count": 25,
   "id": "dbf2c94b",
   "metadata": {},
   "outputs": [
    {
     "name": "stdout",
     "output_type": "stream",
     "text": [
      "* \n",
      "* * \n",
      "* * * \n",
      "* * * * \n",
      "* * * * * \n",
      "* * * *  \n",
      "* * *  \n",
      "* *  \n",
      "*  \n"
     ]
    }
   ],
   "source": [
    "#4 Write a Python program to construct the following pattern, using a nested for loop.\n",
    "n=5\n",
    "for i in range(n):\n",
    "    for j in range(i+1):\n",
    "        print(\"*\" ,end=' ')\n",
    "    print(\"\")\n",
    "for i in range(n-1):\n",
    "    for j in range(i,n-1):\n",
    "        print('*',end=' ')\n",
    "    print(' ')"
   ]
  },
  {
   "cell_type": "code",
   "execution_count": 4,
   "id": "2939bc33",
   "metadata": {},
   "outputs": [
    {
     "name": "stdout",
     "output_type": "stream",
     "text": [
      "enter the word:abhinav\n",
      "v a n i h b a "
     ]
    }
   ],
   "source": [
    "#5Write a Python program that accepts a word from the user and reverses it.\n",
    "str1=input('enter the word:')\n",
    " \n",
    "for i in range(len(str1)-1,-1,-1):\n",
    "    print(str1[i],end=' ')"
   ]
  },
  {
   "cell_type": "code",
   "execution_count": 1,
   "id": "10bc81b3",
   "metadata": {},
   "outputs": [
    {
     "data": {
      "text/plain": [
       "'My name is srujan'"
      ]
     },
     "execution_count": 1,
     "metadata": {},
     "output_type": "execute_result"
    }
   ],
   "source": [
    "#6 Capitalize the first character of a string\n",
    "s1='my name is srujan'\n",
    "s1.capitalize()\n"
   ]
  },
  {
   "cell_type": "code",
   "execution_count": 5,
   "id": "76855fbf",
   "metadata": {},
   "outputs": [
    {
     "data": {
      "text/plain": [
       "'vanihba olleh'"
      ]
     },
     "execution_count": 5,
     "metadata": {},
     "output_type": "execute_result"
    }
   ],
   "source": [
    "#7 Reverse the string “hello world” \n",
    "''.join(reversed(\"hello abhinav\"))"
   ]
  },
  {
   "cell_type": "code",
   "execution_count": 6,
   "id": "deaaa138",
   "metadata": {},
   "outputs": [
    {
     "data": {
      "text/plain": [
       "'Hll 1 Wrld 2'"
      ]
     },
     "execution_count": 6,
     "metadata": {},
     "output_type": "execute_result"
    }
   ],
   "source": [
    "#8 Remove vowels from a string\n",
    "\n",
    "string = 'Hello 1 World 2'\n",
    "vowels = ('a','e','i','o','u')\n",
    "''.join([c for c in string if c not in vowels])\n"
   ]
  },
  {
   "cell_type": "code",
   "execution_count": 1,
   "id": "8c3205db",
   "metadata": {},
   "outputs": [
    {
     "name": "stdout",
     "output_type": "stream",
     "text": [
      "['a', 'b', 'h', 'i', 'n', 'a', 'v']\n"
     ]
    }
   ],
   "source": [
    "#9 Iterate through a string Using for Loop.\n",
    "h_letters = []\n",
    "\n",
    "for letter in 'abhinav':\n",
    "    h_letters.append(letter)\n",
    "\n",
    "print(h_letters)"
   ]
  },
  {
   "cell_type": "code",
   "execution_count": 2,
   "id": "c004ba0e",
   "metadata": {},
   "outputs": [
    {
     "name": "stdout",
     "output_type": "stream",
     "text": [
      "['a', 'b', 'h', 'i', 'n', 'a', 'v']\n"
     ]
    }
   ],
   "source": [
    "#10 Iterate through a string Using List Comprehension\n",
    "h_letters = [ letter for letter in 'abhinav' ]\n",
    "print( h_letters)"
   ]
  },
  {
   "cell_type": "code",
   "execution_count": null,
   "id": "5fe836cb",
   "metadata": {},
   "outputs": [],
   "source": []
  }
 ],
 "metadata": {
  "kernelspec": {
   "display_name": "Python 3 (ipykernel)",
   "language": "python",
   "name": "python3"
  },
  "language_info": {
   "codemirror_mode": {
    "name": "ipython",
    "version": 3
   },
   "file_extension": ".py",
   "mimetype": "text/x-python",
   "name": "python",
   "nbconvert_exporter": "python",
   "pygments_lexer": "ipython3",
   "version": "3.11.5"
  }
 },
 "nbformat": 4,
 "nbformat_minor": 5
}
