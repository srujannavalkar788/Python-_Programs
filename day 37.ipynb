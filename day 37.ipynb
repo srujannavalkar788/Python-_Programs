{
 "cells": [
  {
   "cell_type": "code",
   "execution_count": 1,
   "id": "818fd641",
   "metadata": {},
   "outputs": [
    {
     "name": "stdout",
     "output_type": "stream",
     "text": [
      "enter the any number:10\n",
      "1 1 2 3 5 8 "
     ]
    }
   ],
   "source": [
    "#51. Write a program that prompts the user for a number and displays the Fibonacci sequence up to the given number using a\n",
    "#repeating loop.\n",
    "num=int(input('enter the any number:'))\n",
    "prev_num=0\n",
    "cur_num=1\n",
    "while cur_num<=num:\n",
    "    print(cur_num,end=\" \")\n",
    "    \n",
    "    next_num=prev_num+cur_num\n",
    "    \n",
    "    prev_num=cur_num\n",
    "    cur_num=next_num"
   ]
  },
  {
   "cell_type": "code",
   "execution_count": 5,
   "id": "27ea043e",
   "metadata": {},
   "outputs": [
    {
     "name": "stdout",
     "output_type": "stream",
     "text": [
      "enter the any number:123\n",
      "enter the any number:1\n",
      "enter the any number:0\n",
      "average 62.0\n"
     ]
    }
   ],
   "source": [
    "#52. Write a program that reads numbers from the user untilzero is entered, and displays the average of the numbers entered.\n",
    "\n",
    "total=0\n",
    "count=0\n",
    "\n",
    "while True:\n",
    "    num=int(input('enter the any number:'))\n",
    "    \n",
    "    if num==0:\n",
    "        break\n",
    "    \n",
    "    total+=num\n",
    "    count+=1\n",
    "    \n",
    "if count>0:\n",
    "    avg=total/count\n",
    "    print(\"average\",avg)\n",
    "else:\n",
    "    print('no number entered')"
   ]
  },
  {
   "cell_type": "code",
   "execution_count": 8,
   "id": "cd70dce0",
   "metadata": {},
   "outputs": [
    {
     "name": "stdout",
     "output_type": "stream",
     "text": [
      "enter any number:5\n",
      "enter any number:7\n",
      "enter any number:7\n",
      "enter any number:89\n",
      "enter any number:43\n",
      "enter any number:0\n",
      "largest number: 89.0\n",
      "smallest number: 5.0\n"
     ]
    }
   ],
   "source": [
    "#53. Write a program that prompts the user for a list of numbers, until the user types the number zero, and displays the\n",
    "#largest and smallest numbers in the list.\n",
    "\n",
    "largest=float('-inf')\n",
    "smallest=float('inf')\n",
    "\n",
    "while True:\n",
    "    num=float(input('enter any number:'))\n",
    "    \n",
    "    if num==0:\n",
    "        break\n",
    "    \n",
    "    if num>largest:\n",
    "        largest=num\n",
    "    if num<smallest:\n",
    "        smallest=num\n",
    "if largest!=float('-inf') and smallest!=float('inf'):\n",
    "    print('largest number:',largest)\n",
    "    print('smallest number:',smallest)\n",
    "else:\n",
    "    print('no number were entered')"
   ]
  },
  {
   "cell_type": "code",
   "execution_count": 9,
   "id": "a2c5cddf",
   "metadata": {},
   "outputs": [
    {
     "name": "stdout",
     "output_type": "stream",
     "text": [
      "enter the sentence:abhinav navalkar\n",
      "number of vowel 6\n"
     ]
    }
   ],
   "source": [
    "#54. Write a program that prompts the user for a sentence and displays the number of vowels in the sentence.\n",
    "\n",
    "sen=input('enter the sentence:')\n",
    "\n",
    "vowel_count=0\n",
    "\n",
    "for char in sen:\n",
    "    char_lower=char.lower()\n",
    "    \n",
    "    if char_lower in 'aeiou':\n",
    "        \n",
    "        vowel_count+=1\n",
    "        \n",
    "print('number of vowel',vowel_count)"
   ]
  },
  {
   "cell_type": "code",
   "execution_count": 10,
   "id": "927fda7b",
   "metadata": {},
   "outputs": [
    {
     "name": "stdout",
     "output_type": "stream",
     "text": [
      "enter any number:10\n",
      "1\n",
      "2\n",
      "5\n",
      "10\n"
     ]
    }
   ],
   "source": [
    "#55. Write a program that prompts the user for a number and displays its divisors.\n",
    "num=int(input('enter any number:'))\n",
    "\n",
    "for i in range(1,num+1):\n",
    "    if num%i==0:\n",
    "        print(i)"
   ]
  },
  {
   "cell_type": "code",
   "execution_count": 12,
   "id": "967f8972",
   "metadata": {},
   "outputs": [
    {
     "name": "stdout",
     "output_type": "stream",
     "text": [
      "enter num1:24\n",
      "enter num2:12\n",
      "lcm of 24 and 12 lcm= 24\n"
     ]
    }
   ],
   "source": [
    "#56. Write a program that determines the lowest common multiple (LCM) between two numbers entered by the user.\n",
    "\n",
    "num1=int(input('enter num1:'))\n",
    "num2=int(input('enter num2:'))\n",
    "\n",
    "maximum=max(num1,num2)\n",
    "\n",
    "while True:\n",
    "    if maximum%num1==0 and maximum%num2==0:\n",
    "        lcm=maximum\n",
    "        break\n",
    "    maximum+=1\n",
    "print('lcm of',num1, 'and',num2,'lcm=',lcm)"
   ]
  },
  {
   "cell_type": "code",
   "execution_count": 13,
   "id": "747f56a2",
   "metadata": {},
   "outputs": [
    {
     "name": "stdout",
     "output_type": "stream",
     "text": [
      "20\n",
      "10\n",
      "20 10 10\n"
     ]
    }
   ],
   "source": [
    "#57. Write a program that determines the greatest common divisor (GCD) between two numbers entered by the user\n",
    "\n",
    "num1=int(input())\n",
    "num2=int(input())\n",
    "\n",
    "smallest=min(num1,num2)\n",
    "gcd=1\n",
    "\n",
    "for i in range(1,smallest+1):\n",
    "    if num1%i==0 and num2%i==0:\n",
    "        gcd=i\n",
    "print(num1,num2,gcd)"
   ]
  },
  {
   "cell_type": "code",
   "execution_count": 16,
   "id": "3c803663",
   "metadata": {},
   "outputs": [
    {
     "name": "stdout",
     "output_type": "stream",
     "text": [
      "enter any number:5\n",
      "sum 146.38060102513228\n",
      "result 148.4131591025766\n"
     ]
    }
   ],
   "source": [
    "#58. Write a program that calculates the series below up to the tenth element:\n",
    "\n",
    "import math\n",
    "\n",
    "x=float(input('enter any number:'))\n",
    "\n",
    "sum=1\n",
    "term=1\n",
    "\n",
    "for n in range(1,11):\n",
    "    term*=x/n\n",
    "    sum+=term\n",
    "result=math.exp(x)\n",
    "print('sum',sum)\n",
    "print('result',result)"
   ]
  },
  {
   "cell_type": "code",
   "execution_count": 17,
   "id": "0394a7de",
   "metadata": {},
   "outputs": [
    {
     "name": "stdout",
     "output_type": "stream",
     "text": [
      "enter20\n",
      "sum 485165195.40958506\n",
      "result 148.4131591025766\n"
     ]
    }
   ],
   "source": [
    "#59. Rewrite the previous exercise code until the difference between the terms is less than 0.001.\n",
    "\n",
    "x=float(input('enter'))\n",
    "\n",
    "term=1.0\n",
    "sum=1.0\n",
    "n=1\n",
    "\n",
    "while abs(term)>=0.001:\n",
    "    term*=x/n\n",
    "    sum+=term\n",
    "    n+=1\n",
    "    \n",
    "math_result=math.exp(x)\n",
    "print('sum',sum)\n",
    "print('result',result)"
   ]
  },
  {
   "cell_type": "code",
   "execution_count": 18,
   "id": "e61d7de8",
   "metadata": {},
   "outputs": [
    {
     "name": "stdout",
     "output_type": "stream",
     "text": [
      "enter:23\n",
      "sum -0.8462152896406842\n",
      "result -0.8462204041751706\n"
     ]
    }
   ],
   "source": [
    "#60. Make a program that calculates the value of sine using the Taylor series according to the equation below until the\n",
    "#difference between the terms is less than 0.0001.\n",
    "\n",
    "angel=float(input('enter:'))\n",
    "\n",
    "term=angel\n",
    "sum=angel\n",
    "n=3\n",
    "\n",
    "while abs(term)>=0.0001:\n",
    "    term*=-(angel**2)/((n-1)*n)\n",
    "    sum+=term\n",
    "    n+=2\n",
    "math_result=math.sin(angel)\n",
    "print('sum',sum)\n",
    "print('result',math_result)"
   ]
  },
  {
   "cell_type": "code",
   "execution_count": null,
   "id": "b89b93f0",
   "metadata": {},
   "outputs": [],
   "source": []
  }
 ],
 "metadata": {
  "kernelspec": {
   "display_name": "Python 3 (ipykernel)",
   "language": "python",
   "name": "python3"
  },
  "language_info": {
   "codemirror_mode": {
    "name": "ipython",
    "version": 3
   },
   "file_extension": ".py",
   "mimetype": "text/x-python",
   "name": "python",
   "nbconvert_exporter": "python",
   "pygments_lexer": "ipython3",
   "version": "3.11.5"
  }
 },
 "nbformat": 4,
 "nbformat_minor": 5
}
