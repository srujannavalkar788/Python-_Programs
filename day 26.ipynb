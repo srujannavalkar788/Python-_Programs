{
 "cells": [
  {
   "cell_type": "code",
   "execution_count": 70,
   "id": "e9570261",
   "metadata": {},
   "outputs": [
    {
     "name": "stdout",
     "output_type": "stream",
     "text": [
      "enter the  numbers:123456\n",
      "[123456] (123456,)\n"
     ]
    }
   ],
   "source": [
    "#11)Write a Python program which accepts a sequence of comma-separated numbers from user and generate a list and a \n",
    "#tuple with those numbers\n",
    "\n",
    "\n",
    "num=(input('enter the  numbers:'))\n",
    "num_list=num.split(\",\")\n",
    "num_list=[int(num) for n in num_list]\n",
    "\n",
    "num_tuple = tuple(num_list)\n",
    "\n",
    "\n",
    "print(num_list,num_tuple)\n",
    "\n",
    "\n"
   ]
  },
  {
   "cell_type": "code",
   "execution_count": 55,
   "id": "8d1ad567",
   "metadata": {},
   "outputs": [
    {
     "name": "stdout",
     "output_type": "stream",
     "text": [
      "Red Black\n"
     ]
    }
   ],
   "source": [
    "#12) Write a Python program to display the first and last colors from the following list.\n",
    "\n",
    "\n",
    "color_list = [\"Red\",\"Green\",\"White\" ,\"Black\"]\n",
    "\n",
    "print(color_list[0],color_list[-1])\n",
    "    "
   ]
  },
  {
   "cell_type": "code",
   "execution_count": 7,
   "id": "97355b1b",
   "metadata": {},
   "outputs": [
    {
     "name": "stdout",
     "output_type": "stream",
     "text": [
      "9\n"
     ]
    }
   ],
   "source": [
    "#13)Write a Python program to calculate number of days between two dates.\n",
    "#Sample dates : (2014, 7, 2), (2014, 7, 11)\n",
    "\n",
    "from datetime import date\n",
    "\n",
    "d1=date(2014,7,2)\n",
    "d2=date(2014,7,11)\n",
    "\n",
    "res=d2-d1\n",
    "print(res.days)\n",
    "\n",
    "\n"
   ]
  },
  {
   "cell_type": "code",
   "execution_count": 10,
   "id": "3ff58228",
   "metadata": {},
   "outputs": [
    {
     "name": "stdout",
     "output_type": "stream",
     "text": [
      "enter any number:5\n",
      "12\n"
     ]
    }
   ],
   "source": [
    "#14)Write a Python program to get the difference between a given number and 17,\n",
    "#if the number is greater than 17 return double the absolute difference\n",
    "\n",
    "num=int(input('enter any number:'))\n",
    "\n",
    "if num >17:\n",
    "    print('double the absolute difference')\n",
    "elif num<17:\n",
    "    res=17-num\n",
    "    \n",
    "    print(res)"
   ]
  },
  {
   "cell_type": "code",
   "execution_count": 15,
   "id": "6ff7db96",
   "metadata": {},
   "outputs": [
    {
     "name": "stdout",
     "output_type": "stream",
     "text": [
      "True\n",
      "False\n",
      "False\n",
      "True\n"
     ]
    }
   ],
   "source": [
    "#15)To check whather given element exists in list or not??\n",
    "#list=[1,2,3,4,5,6,7,8,9,10]\n",
    "#check if 9 and 12 are present in given list or not\n",
    "\n",
    "list=[1,2,3,4,5,6,7,8,9,10]\n",
    "\n",
    "\n",
    "print(9 in list)\n",
    "print(12 in list)\n",
    "print(9 not in list)\n",
    "print(12 not in list)"
   ]
  },
  {
   "cell_type": "code",
   "execution_count": 19,
   "id": "bccd5a97",
   "metadata": {},
   "outputs": [],
   "source": [
    "#16)Write a function calculation() such that it can accept two variables and calculate the addition and subtraction of it.\n",
    "#And also it must return both addition and subtraction in a single return call\n",
    "\n",
    "\n",
    "def calculation():\n",
    "    n1=int(input('enter any number:'))\n",
    "    n2=int(input('enter any number:'))\n",
    "    \n",
    "    return n1+n2,n1-n2"
   ]
  },
  {
   "cell_type": "code",
   "execution_count": 20,
   "id": "b828c87d",
   "metadata": {},
   "outputs": [
    {
     "name": "stdout",
     "output_type": "stream",
     "text": [
      "enter any number:10\n",
      "enter any number:5\n"
     ]
    },
    {
     "data": {
      "text/plain": [
       "(15, 5)"
      ]
     },
     "execution_count": 20,
     "metadata": {},
     "output_type": "execute_result"
    }
   ],
   "source": [
    "calculation()"
   ]
  },
  {
   "cell_type": "code",
   "execution_count": 33,
   "id": "057fc5f3",
   "metadata": {},
   "outputs": [],
   "source": [
    "# 17)Create a function showEmployee() in such a way that it should accept employee name, and it’s salary and display both,\n",
    "#and if the salary is missing in function call it should show it as 9000\n",
    "\n",
    "def showEmployee():\n",
    "    name=input('enter your name:')\n",
    "    salary=float(input('enter your salary:'))\n",
    "    \n",
    "    if salary<=0:\n",
    "        print('salary:',9000)"
   ]
  },
  {
   "cell_type": "code",
   "execution_count": 34,
   "id": "2bf9ffa9",
   "metadata": {},
   "outputs": [
    {
     "name": "stdout",
     "output_type": "stream",
     "text": [
      "enter your name:srujan\n",
      "enter your salary:0\n",
      "salary: 9000\n"
     ]
    }
   ],
   "source": [
    "showEmployee()"
   ]
  },
  {
   "cell_type": "code",
   "execution_count": 35,
   "id": "3f936871",
   "metadata": {},
   "outputs": [],
   "source": [
    "# 18) Write a recursive function to calculate the sum of numbers from 0 to 10\n",
    "\n",
    "def sum():\n",
    "    num=0\n",
    "    for i in range(0,11):\n",
    "        num=num+i\n",
    "    return num"
   ]
  },
  {
   "cell_type": "code",
   "execution_count": 36,
   "id": "ecbbb973",
   "metadata": {},
   "outputs": [
    {
     "data": {
      "text/plain": [
       "55"
      ]
     },
     "execution_count": 36,
     "metadata": {},
     "output_type": "execute_result"
    }
   ],
   "source": [
    "sum()"
   ]
  },
  {
   "cell_type": "code",
   "execution_count": 44,
   "id": "ab94b779",
   "metadata": {},
   "outputs": [
    {
     "name": "stdout",
     "output_type": "stream",
     "text": [
      "[4, 6, 8, 10, 12, 14, 16, 18, 20, 22, 24, 26, 28, 30]\n"
     ]
    }
   ],
   "source": [
    "#19)Generate a Python list of all the even numbers between 4 to 30 \n",
    "\n",
    "lis=[]\n",
    "\n",
    "for i in range(4,31):\n",
    "    if i %2==0:\n",
    "        lis.append(i)\n",
    "print(lis)"
   ]
  },
  {
   "cell_type": "code",
   "execution_count": 45,
   "id": "00ff7ff0",
   "metadata": {},
   "outputs": [
    {
     "name": "stdout",
     "output_type": "stream",
     "text": [
      "30\n"
     ]
    }
   ],
   "source": [
    "#  20)Return the largest item from the given list\n",
    "\n",
    "lis=[4, 6, 8, 10, 12, 14, 16, 18, 20, 22, 24, 26, 28, 30]\n",
    "print(max(lis))"
   ]
  },
  {
   "cell_type": "code",
   "execution_count": null,
   "id": "d6e73e4f",
   "metadata": {},
   "outputs": [],
   "source": []
  }
 ],
 "metadata": {
  "kernelspec": {
   "display_name": "Python 3 (ipykernel)",
   "language": "python",
   "name": "python3"
  },
  "language_info": {
   "codemirror_mode": {
    "name": "ipython",
    "version": 3
   },
   "file_extension": ".py",
   "mimetype": "text/x-python",
   "name": "python",
   "nbconvert_exporter": "python",
   "pygments_lexer": "ipython3",
   "version": "3.11.5"
  }
 },
 "nbformat": 4,
 "nbformat_minor": 5
}
