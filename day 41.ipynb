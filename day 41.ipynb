{
 "cells": [
  {
   "cell_type": "code",
   "execution_count": 2,
   "id": "1bfd8fbe",
   "metadata": {},
   "outputs": [
    {
     "data": {
      "text/plain": [
       "[1, 2, 3]"
      ]
     },
     "execution_count": 2,
     "metadata": {},
     "output_type": "execute_result"
    }
   ],
   "source": [
    "#1 \n",
    "import numpy as np\n",
    "a=[1,2,3]\n",
    "a"
   ]
  },
  {
   "cell_type": "code",
   "execution_count": 4,
   "id": "b4ae85c5",
   "metadata": {},
   "outputs": [
    {
     "data": {
      "text/plain": [
       "array([1, 2, 3, 4])"
      ]
     },
     "execution_count": 4,
     "metadata": {},
     "output_type": "execute_result"
    }
   ],
   "source": [
    "#2 1D array\n",
    "import numpy as np\n",
    "a=[1,2,3,4]\n",
    "arr1=np.array(a)\n",
    "arr1"
   ]
  },
  {
   "cell_type": "code",
   "execution_count": 5,
   "id": "03a4a221",
   "metadata": {},
   "outputs": [
    {
     "data": {
      "text/plain": [
       "numpy.ndarray"
      ]
     },
     "execution_count": 5,
     "metadata": {},
     "output_type": "execute_result"
    }
   ],
   "source": [
    "type(arr1)"
   ]
  },
  {
   "cell_type": "code",
   "execution_count": 6,
   "id": "475b8c45",
   "metadata": {},
   "outputs": [
    {
     "data": {
      "text/plain": [
       "array([1, 2, 3, 4, 5])"
      ]
     },
     "execution_count": 6,
     "metadata": {},
     "output_type": "execute_result"
    }
   ],
   "source": [
    "myarr=np.array([1,2,3,4,5])\n",
    "myarr"
   ]
  },
  {
   "cell_type": "code",
   "execution_count": 8,
   "id": "55d92c5d",
   "metadata": {},
   "outputs": [
    {
     "name": "stdout",
     "output_type": "stream",
     "text": [
      "enter the size:5\n",
      "enter the value:1\n",
      "enter the value:2\n",
      "enter the value:3\n",
      "enter the value:4\n",
      "enter the value:5\n",
      "[1 2 3 4 5]\n"
     ]
    }
   ],
   "source": [
    "#3\n",
    "a=[]\n",
    "n=int(input('enter the size:'))\n",
    "\n",
    "for i in range(n):\n",
    "    val=int(input('enter the value:'))\n",
    "    a.append(val)\n",
    "    arr=np.array(a)\n",
    "print(arr)"
   ]
  },
  {
   "cell_type": "code",
   "execution_count": 9,
   "id": "6903e312",
   "metadata": {},
   "outputs": [],
   "source": [
    "#4 \n",
    "arr.sort()"
   ]
  },
  {
   "cell_type": "code",
   "execution_count": 15,
   "id": "5b085247",
   "metadata": {},
   "outputs": [
    {
     "data": {
      "text/plain": [
       "array([1, 2, 3, 4, 5])"
      ]
     },
     "execution_count": 15,
     "metadata": {},
     "output_type": "execute_result"
    }
   ],
   "source": [
    "arr "
   ]
  },
  {
   "cell_type": "code",
   "execution_count": null,
   "id": "1d366832",
   "metadata": {},
   "outputs": [],
   "source": [
    "#5  2D array\n",
    "arr2=np.array([[1,2,3],[4,5,6]])\n",
    "arr2"
   ]
  },
  {
   "cell_type": "code",
   "execution_count": 16,
   "id": "263f5a2a",
   "metadata": {
    "scrolled": true
   },
   "outputs": [
    {
     "data": {
      "text/plain": [
       "2"
      ]
     },
     "execution_count": 16,
     "metadata": {},
     "output_type": "execute_result"
    }
   ],
   "source": [
    "arr2.ndim"
   ]
  },
  {
   "cell_type": "code",
   "execution_count": 17,
   "id": "176e1dfe",
   "metadata": {},
   "outputs": [
    {
     "data": {
      "text/plain": [
       "(2, 3)"
      ]
     },
     "execution_count": 17,
     "metadata": {},
     "output_type": "execute_result"
    }
   ],
   "source": [
    "arr2.shape"
   ]
  },
  {
   "cell_type": "code",
   "execution_count": 18,
   "id": "883429fa",
   "metadata": {},
   "outputs": [
    {
     "data": {
      "text/plain": [
       "numpy.ndarray"
      ]
     },
     "execution_count": 18,
     "metadata": {},
     "output_type": "execute_result"
    }
   ],
   "source": [
    "type(arr2)"
   ]
  },
  {
   "cell_type": "markdown",
   "id": "16d8ea3f",
   "metadata": {},
   "source": [
    "## function zero"
   ]
  },
  {
   "cell_type": "code",
   "execution_count": 22,
   "id": "ec5ae493",
   "metadata": {},
   "outputs": [],
   "source": [
    "a=np.zeros(4)"
   ]
  },
  {
   "cell_type": "code",
   "execution_count": 23,
   "id": "88e0b73c",
   "metadata": {},
   "outputs": [
    {
     "data": {
      "text/plain": [
       "array([0., 0., 0., 0.])"
      ]
     },
     "execution_count": 23,
     "metadata": {},
     "output_type": "execute_result"
    }
   ],
   "source": [
    "a"
   ]
  },
  {
   "cell_type": "code",
   "execution_count": 33,
   "id": "0c401aa7",
   "metadata": {},
   "outputs": [
    {
     "data": {
      "text/plain": [
       "array([[0., 0., 0., 0.],\n",
       "       [0., 0., 0., 0.],\n",
       "       [0., 0., 0., 0.],\n",
       "       [0., 0., 0., 0.],\n",
       "       [0., 0., 0., 0.]])"
      ]
     },
     "execution_count": 33,
     "metadata": {},
     "output_type": "execute_result"
    }
   ],
   "source": [
    "a=np.zeros([5,4])\n",
    "a"
   ]
  },
  {
   "cell_type": "markdown",
   "id": "c11f2e8d",
   "metadata": {},
   "source": [
    "## function ones"
   ]
  },
  {
   "cell_type": "code",
   "execution_count": 31,
   "id": "48ca0959",
   "metadata": {},
   "outputs": [],
   "source": [
    "a=np.ones(5)"
   ]
  },
  {
   "cell_type": "code",
   "execution_count": 32,
   "id": "2f719139",
   "metadata": {},
   "outputs": [
    {
     "data": {
      "text/plain": [
       "array([1., 1., 1., 1., 1.])"
      ]
     },
     "execution_count": 32,
     "metadata": {},
     "output_type": "execute_result"
    }
   ],
   "source": [
    "a"
   ]
  },
  {
   "cell_type": "code",
   "execution_count": 34,
   "id": "672f67bb",
   "metadata": {},
   "outputs": [],
   "source": [
    "a=np.ones([4,3])"
   ]
  },
  {
   "cell_type": "code",
   "execution_count": 35,
   "id": "fa8d4984",
   "metadata": {},
   "outputs": [
    {
     "data": {
      "text/plain": [
       "array([[1., 1., 1.],\n",
       "       [1., 1., 1.],\n",
       "       [1., 1., 1.],\n",
       "       [1., 1., 1.]])"
      ]
     },
     "execution_count": 35,
     "metadata": {},
     "output_type": "execute_result"
    }
   ],
   "source": [
    "a"
   ]
  },
  {
   "cell_type": "markdown",
   "id": "3476c7b5",
   "metadata": {},
   "source": [
    "## function eye"
   ]
  },
  {
   "cell_type": "code",
   "execution_count": 36,
   "id": "0cb16573",
   "metadata": {},
   "outputs": [
    {
     "data": {
      "text/plain": [
       "array([[1., 0., 0., 0.],\n",
       "       [0., 1., 0., 0.],\n",
       "       [0., 0., 1., 0.],\n",
       "       [0., 0., 0., 1.]])"
      ]
     },
     "execution_count": 36,
     "metadata": {},
     "output_type": "execute_result"
    }
   ],
   "source": [
    "a=np.eye(4)\n",
    "a"
   ]
  },
  {
   "cell_type": "markdown",
   "id": "b5fc846a",
   "metadata": {},
   "source": [
    "## function diag"
   ]
  },
  {
   "cell_type": "code",
   "execution_count": 37,
   "id": "d8104152",
   "metadata": {},
   "outputs": [
    {
     "data": {
      "text/plain": [
       "array([[1, 0, 0, 0],\n",
       "       [0, 2, 0, 0],\n",
       "       [0, 0, 3, 0],\n",
       "       [0, 0, 0, 4]])"
      ]
     },
     "execution_count": 37,
     "metadata": {},
     "output_type": "execute_result"
    }
   ],
   "source": [
    "arr=np.diag([1,2,3,4])\n",
    "arr"
   ]
  },
  {
   "cell_type": "code",
   "execution_count": 39,
   "id": "478a2c57",
   "metadata": {},
   "outputs": [
    {
     "data": {
      "text/plain": [
       "array([1, 2, 3, 4])"
      ]
     },
     "execution_count": 39,
     "metadata": {},
     "output_type": "execute_result"
    }
   ],
   "source": [
    "np.diag(arr)"
   ]
  },
  {
   "cell_type": "markdown",
   "id": "03490ee4",
   "metadata": {},
   "source": [
    "## function rand"
   ]
  },
  {
   "cell_type": "code",
   "execution_count": 41,
   "id": "aa2bcf5e",
   "metadata": {},
   "outputs": [
    {
     "data": {
      "text/plain": [
       "array([0.62515655, 0.70278747, 0.42723547, 0.04542148, 0.07614512])"
      ]
     },
     "execution_count": 41,
     "metadata": {},
     "output_type": "execute_result"
    }
   ],
   "source": [
    "a=np.random.rand(5)\n",
    "a"
   ]
  },
  {
   "cell_type": "code",
   "execution_count": 42,
   "id": "ecb63284",
   "metadata": {},
   "outputs": [
    {
     "data": {
      "text/plain": [
       "array([[0.60336657, 0.59652606, 0.54393194],\n",
       "       [0.69150843, 0.66735777, 0.17633668]])"
      ]
     },
     "execution_count": 42,
     "metadata": {},
     "output_type": "execute_result"
    }
   ],
   "source": [
    "arr1=np.random.rand(2,3)\n",
    "arr1"
   ]
  },
  {
   "cell_type": "markdown",
   "id": "0f4dc209",
   "metadata": {},
   "source": [
    "## function randn"
   ]
  },
  {
   "cell_type": "code",
   "execution_count": 43,
   "id": "18b4e4e3",
   "metadata": {},
   "outputs": [
    {
     "data": {
      "text/plain": [
       "array([0.76967783, 1.05015415, 0.11527589])"
      ]
     },
     "execution_count": 43,
     "metadata": {},
     "output_type": "execute_result"
    }
   ],
   "source": [
    "a=np.random.randn(3)\n",
    "a"
   ]
  },
  {
   "cell_type": "markdown",
   "id": "58c0abd5",
   "metadata": {},
   "source": [
    "## function randint"
   ]
  },
  {
   "cell_type": "code",
   "execution_count": 44,
   "id": "d693362c",
   "metadata": {},
   "outputs": [
    {
     "data": {
      "text/plain": [
       "5"
      ]
     },
     "execution_count": 44,
     "metadata": {},
     "output_type": "execute_result"
    }
   ],
   "source": [
    "a=np.random.randint(1,6)\n",
    "a"
   ]
  },
  {
   "cell_type": "code",
   "execution_count": null,
   "id": "53744790",
   "metadata": {},
   "outputs": [],
   "source": []
  }
 ],
 "metadata": {
  "kernelspec": {
   "display_name": "Python 3 (ipykernel)",
   "language": "python",
   "name": "python3"
  },
  "language_info": {
   "codemirror_mode": {
    "name": "ipython",
    "version": 3
   },
   "file_extension": ".py",
   "mimetype": "text/x-python",
   "name": "python",
   "nbconvert_exporter": "python",
   "pygments_lexer": "ipython3",
   "version": "3.11.5"
  }
 },
 "nbformat": 4,
 "nbformat_minor": 5
}
