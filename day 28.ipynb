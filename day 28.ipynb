{
 "cells": [
  {
   "cell_type": "code",
   "execution_count": 21,
   "id": "7bb07454",
   "metadata": {},
   "outputs": [
    {
     "name": "stdout",
     "output_type": "stream",
     "text": [
      "[2, 4, 75, 6]\n",
      "[3, 877, 7665]\n"
     ]
    }
   ],
   "source": [
    "# 1: Create a list by picking an odd-index items from the first list and even index items from the second\n",
    "\n",
    "l1=[2,2,4,4,6,75,3,6,8]\n",
    "l2=[3,87,877,56,7665,4]\n",
    "\n",
    "print(l1[1::2]) # it will print odd index item\n",
    "\n",
    "print(l2[0::2])# it will print even index item\n",
    "\n",
    "\n",
    "\n",
    "\n",
    "     "
   ]
  },
  {
   "cell_type": "code",
   "execution_count": 25,
   "id": "fc16e8e8",
   "metadata": {},
   "outputs": [
    {
     "name": "stdout",
     "output_type": "stream",
     "text": [
      "[23, 43, 63, 32, 56, 86, 9, 65]\n",
      "[23, 43, 42, 63, 32, 56, 86, 9, 65]\n",
      "[23, 43, 42, 63, 32, 56, 86, 9, 65, 42]\n"
     ]
    }
   ],
   "source": [
    "# 2 Write a program to remove the item present at index 4 and add it to the 2nd position and at the end of the list.\n",
    "\n",
    "l1=[23,43,63,32,42,56,86,9,65]\n",
    "\n",
    "remove=l1.pop(4)\n",
    "print(l1)\n",
    "\n",
    "add=l1.insert(2,42)\n",
    "print(l1)\n",
    "\n",
    "add=l1.append(42)\n",
    "print(l1)\n",
    "\n",
    "\n"
   ]
  },
  {
   "cell_type": "code",
   "execution_count": 36,
   "id": "9af21bf0",
   "metadata": {},
   "outputs": [
    {
     "name": "stdout",
     "output_type": "stream",
     "text": [
      "[11, 45, 8] reverse value [8, 45, 11]\n",
      "[23, 14, 12] reverse value [12, 14, 23]\n",
      "[78, 45, 89] reverse value [89, 45, 78]\n"
     ]
    }
   ],
   "source": [
    "# Slice list into 3 equal chunks and reverse each chunk\n",
    "l1 = [11, 45, 8, 23, 14, 12, 78, 45, 89]\n",
    "\n",
    "length=len(l1)\n",
    "\n",
    "chunk_size=int(length/3)\n",
    "\n",
    "start=0\n",
    "end=chunk_size\n",
    "\n",
    "for i in range(3):\n",
    "    index=slice(start,end)\n",
    "    \n",
    "    list1=l1[index]\n",
    "    print(list1,end=' ')\n",
    "\n",
    "    print(\"reverse value\",list(reversed(list1)))\n",
    "    start=end\n",
    "    end+=chunk_size\n"
   ]
  },
  {
   "cell_type": "code",
   "execution_count": 40,
   "id": "92d045d2",
   "metadata": {},
   "outputs": [
    {
     "name": "stdout",
     "output_type": "stream",
     "text": [
      "{11: 2, 45: 3, 8: 1, 23: 2, 89: 1}\n"
     ]
    }
   ],
   "source": [
    "# 4: Count the occurrence of each element from a list\n",
    "\n",
    "l1=[11, 45, 8, 11, 23, 45, 23, 45, 89]\n",
    "\n",
    "count_dict=dict()\n",
    "\n",
    "for item in l1:\n",
    "    if item in count_dict:\n",
    "        count_dict[item]+=1\n",
    "    else:\n",
    "        count_dict[item]=1\n",
    "print(count_dict)"
   ]
  },
  {
   "cell_type": "code",
   "execution_count": 50,
   "id": "b75a7268",
   "metadata": {},
   "outputs": [
    {
     "data": {
      "text/plain": [
       "{(2, 4), (3, 9), (4, 16), (5, 25), (6, 36), (7, 49), (8, 64)}"
      ]
     },
     "execution_count": 50,
     "metadata": {},
     "output_type": "execute_result"
    }
   ],
   "source": [
    "#5: Create a Python set such that it shows the element from both lists in a pair\n",
    "first_list = [2, 3, 4, 5, 6, 7, 8]\n",
    "\n",
    "second_list = [4, 9, 16, 25, 36, 49, 64]\n",
    "\n",
    "\n",
    "res=zip(first_list,second_list)\n",
    "res1=set(res)\n",
    "res1"
   ]
  },
  {
   "cell_type": "code",
   "execution_count": 61,
   "id": "b6ba75b9",
   "metadata": {},
   "outputs": [
    {
     "name": "stdout",
     "output_type": "stream",
     "text": [
      "{57, 83, 29}\n",
      "{65, 23, 42, 78}\n",
      "{48, 67, 73, 43}\n"
     ]
    }
   ],
   "source": [
    "# 6: Find the intersection (common) of two sets and remove those elements from the first set\n",
    "\n",
    "first_set = {23, 42, 65, 57, 78, 83, 29}\n",
    "second_set = {57, 83, 29, 67, 73, 43, 48}\n",
    "\n",
    "a=first_set.intersection(second_set)\n",
    "print(a)\n",
    "\n",
    "for i in a:\n",
    "    first_set.remove(i)\n",
    "    second_set.remove(i)\n",
    "print(first_set)\n",
    "print(second_set)\n",
    "\n"
   ]
  },
  {
   "cell_type": "code",
   "execution_count": 67,
   "id": "fd8e7be4",
   "metadata": {},
   "outputs": [
    {
     "name": "stdout",
     "output_type": "stream",
     "text": [
      "True\n",
      "False\n",
      "False\n",
      "True\n",
      "set()\n",
      "{48, 67, 83, 73, 43, 29, 57}\n"
     ]
    }
   ],
   "source": [
    "#  7: Checks if one set is a subset or superset of another set. If found, delete all elements from that set\n",
    "\n",
    "first_set = {57, 83, 29}\n",
    "second_set = {57, 83, 29, 67, 73, 43, 48}\n",
    "\n",
    "print(first_set.issubset(second_set))\n",
    "\n",
    "print(second_set.issubset(first_set))\n",
    "\n",
    "print(first_set.issuperset(second_set))\n",
    "\n",
    "print(second_set.issuperset(first_set))\n",
    "\n",
    "if first_set.issubset(second_set):\n",
    "    first_set.clear()\n",
    "elif second_set.issubset(first_set):\n",
    "    second_set.clear()\n",
    "print(first_set)\n",
    "print(second_set)"
   ]
  },
  {
   "cell_type": "code",
   "execution_count": 71,
   "id": "e134d401",
   "metadata": {},
   "outputs": [
    {
     "name": "stdout",
     "output_type": "stream",
     "text": [
      "after removing unwanted elements from list: [47, 69, 76, 97]\n"
     ]
    }
   ],
   "source": [
    "# 8: Iterate a given list and check if a given element exists as a key’s value in a dictionary. If not, delete it from the list\n",
    "roll_number = [47, 64, 69, 37, 76, 83, 95, 97]\n",
    "sample_dict = {'Jhon': 47, 'Emma': 69, 'Kelly': 76, 'Jason': 97}\n",
    "\n",
    "\n",
    "# create new list\n",
    "roll_number[:] = [item for item in roll_number if item in sample_dict.values()]\n",
    "print(\"after removing unwanted elements from list:\", roll_number)"
   ]
  },
  {
   "cell_type": "code",
   "execution_count": 72,
   "id": "8f91cf38",
   "metadata": {},
   "outputs": [
    {
     "name": "stdout",
     "output_type": "stream",
     "text": [
      "unique list [47, 52, 44, 53, 54]\n"
     ]
    }
   ],
   "source": [
    "# 9: Get all values from the dictionary and add them to a list but don’t add duplicates\n",
    "speed = {'jan': 47, 'feb': 52, 'march': 47, 'April': 44, 'May': 52, 'June': 53,\n",
    "         'july': 54, 'Aug': 44, 'Sept': 54}\n",
    "\n",
    "\n",
    "\n",
    "speed_list = list()\n",
    "for val in speed.values():\n",
    "\n",
    "    if val not in speed_list:\n",
    "        speed_list.append(val)\n",
    "print(\"unique list\", speed_list)\n",
    " "
   ]
  },
  {
   "cell_type": "code",
   "execution_count": 73,
   "id": "98c0f1f7",
   "metadata": {},
   "outputs": [
    {
     "name": "stdout",
     "output_type": "stream",
     "text": [
      "unique list [44, 52, 53, 54, 87]\n",
      "tuple  (44, 52, 53, 54, 87)\n",
      "Minimum number is:  44\n",
      "Maximum number is:  87\n"
     ]
    }
   ],
   "source": [
    "#10: Remove duplicates from a list and create a tuple and find the minimum and maximum number\n",
    "sample_list = [87, 52, 44, 53, 54, 87, 52, 53]\n",
    "\n",
    "\n",
    "sample_list = list(set(sample_list))\n",
    "print(\"unique list\", sample_list)\n",
    "\n",
    "t = tuple(sample_list)\n",
    "print(\"tuple \", t)\n",
    "\n",
    "print(\"Minimum number is: \", min(t))\n",
    "print(\"Maximum number is: \", max(t))"
   ]
  },
  {
   "cell_type": "code",
   "execution_count": null,
   "id": "e24bca41",
   "metadata": {},
   "outputs": [],
   "source": []
  }
 ],
 "metadata": {
  "kernelspec": {
   "display_name": "Python 3 (ipykernel)",
   "language": "python",
   "name": "python3"
  },
  "language_info": {
   "codemirror_mode": {
    "name": "ipython",
    "version": 3
   },
   "file_extension": ".py",
   "mimetype": "text/x-python",
   "name": "python",
   "nbconvert_exporter": "python",
   "pygments_lexer": "ipython3",
   "version": "3.11.5"
  }
 },
 "nbformat": 4,
 "nbformat_minor": 5
}
