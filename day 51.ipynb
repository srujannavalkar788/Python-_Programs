{
 "cells": [
  {
   "cell_type": "code",
   "execution_count": 7,
   "id": "31374b82",
   "metadata": {},
   "outputs": [
    {
     "name": "stdout",
     "output_type": "stream",
     "text": [
      "enter your name:srujan\n",
      "enter your age:20\n",
      "srujan\n",
      "20\n",
      "None\n"
     ]
    }
   ],
   "source": [
    "#1 Write a program to create a function that takes two arguments, name and age, and print their value\n",
    "def detail(name,age):\n",
    "    print(name)\n",
    "    print(age)\n",
    "\n",
    "\n",
    "    \n",
    "name=(input('enter your name:'))\n",
    "age=int(input('enter your age:'))\n",
    "    \n",
    "    \n",
    "print(detail(name,age))"
   ]
  },
  {
   "cell_type": "code",
   "execution_count": 10,
   "id": "141d18fa",
   "metadata": {},
   "outputs": [
    {
     "name": "stdout",
     "output_type": "stream",
     "text": [
      "20\n",
      "30\n",
      "40\n",
      "50\n"
     ]
    }
   ],
   "source": [
    "# 2 Write a program to create function func1() to accept a variable length of arguments and print their value.\n",
    "def fun1(*args):\n",
    "    for i in args:\n",
    "        print(i)\n",
    "        \n",
    "fun1(20,30,40,50)\n"
   ]
  },
  {
   "cell_type": "code",
   "execution_count": 15,
   "id": "c3bb31b8",
   "metadata": {},
   "outputs": [
    {
     "name": "stdout",
     "output_type": "stream",
     "text": [
      "enter any number:20\n",
      "enter any number:5\n"
     ]
    },
    {
     "data": {
      "text/plain": [
       "(25, 15)"
      ]
     },
     "execution_count": 15,
     "metadata": {},
     "output_type": "execute_result"
    }
   ],
   "source": [
    "#3 Write a program to create function calculation() such that it can accept two variables and calculate \n",
    "#addition and subtraction. Also, it must return both addition and subtraction  in a single return call.\n",
    "\n",
    "def cal(n1,n2):\n",
    "    return n1+n2,n1-n2\n",
    "\n",
    "n1=int(input('enter any number:'))\n",
    "n2=int(input('enter any number:'))\n",
    "cal(n1,n2)"
   ]
  },
  {
   "cell_type": "markdown",
   "id": "d13a319a",
   "metadata": {},
   "source": [
    "4 Write a program to create a function show_employee() using the following conditions.\n",
    "\n",
    "It should accept the employee’s name and salary and display both.\n",
    "If the salary is missing in the function call then assign default value 9000 to salary"
   ]
  },
  {
   "cell_type": "code",
   "execution_count": 23,
   "id": "b3e160a0",
   "metadata": {},
   "outputs": [
    {
     "name": "stdout",
     "output_type": "stream",
     "text": [
      "enter name:abhinav\n",
      "enter the salary:10000\n",
      "None\n"
     ]
    }
   ],
   "source": [
    "def show_employee(name,salary=9000):\n",
    "    print('Name':name, 'salary':salary)\n",
    "        \n",
    "        \n",
    "print(show_employee())\n",
    "    "
   ]
  },
  {
   "cell_type": "markdown",
   "id": "53154f9a",
   "metadata": {},
   "source": [
    "5 reate an outer function that will accept two parameters, a and b\n",
    "Create an inner function inside an outer function that will calculate the addition of a and b\n",
    "At last, an outer function will add 5 into addition and return it"
   ]
  },
  {
   "cell_type": "code",
   "execution_count": 26,
   "id": "bd4668c8",
   "metadata": {},
   "outputs": [
    {
     "name": "stdout",
     "output_type": "stream",
     "text": [
      "20\n"
     ]
    }
   ],
   "source": [
    "def outer_fun(a, b):\n",
    "    square = a ** 2\n",
    "\n",
    "    # inner function\n",
    "    def addition(a, b):\n",
    "        return a + b\n",
    "\n",
    "    # call inner function from outer function\n",
    "    add = addition(a, b)\n",
    "    # add 5 to the result\n",
    "    return add + 5\n",
    "\n",
    "result = outer_fun(5, 10)\n",
    "print(result)"
   ]
  },
  {
   "cell_type": "code",
   "execution_count": null,
   "id": "5cc21e95",
   "metadata": {},
   "outputs": [],
   "source": []
  }
 ],
 "metadata": {
  "kernelspec": {
   "display_name": "Python 3 (ipykernel)",
   "language": "python",
   "name": "python3"
  },
  "language_info": {
   "codemirror_mode": {
    "name": "ipython",
    "version": 3
   },
   "file_extension": ".py",
   "mimetype": "text/x-python",
   "name": "python",
   "nbconvert_exporter": "python",
   "pygments_lexer": "ipython3",
   "version": "3.11.5"
  }
 },
 "nbformat": 4,
 "nbformat_minor": 5
}
