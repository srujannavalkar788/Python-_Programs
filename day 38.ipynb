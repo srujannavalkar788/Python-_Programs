{
 "cells": [
  {
   "cell_type": "code",
   "execution_count": 2,
   "id": "359ca386",
   "metadata": {},
   "outputs": [
    {
     "name": "stdout",
     "output_type": "stream",
     "text": [
      "enter the number of element:4\n",
      "enter element2\n",
      "enter element4\n",
      "enter element95\n",
      "enter element95\n",
      "196\n"
     ]
    }
   ],
   "source": [
    "#61. Create a program that reads an array of integers and displays the sum of all the elements..\n",
    "n=int(input('enter the number of element:'))\n",
    "\n",
    "arr=[]\n",
    "\n",
    "for i in range(n):\n",
    "    ele=int(input('enter element'.format(i+1)))\n",
    "    arr.append(ele)\n",
    "    \n",
    "sum=0\n",
    "for ele in arr:\n",
    "    sum+=ele\n",
    "print(sum)"
   ]
  },
  {
   "cell_type": "code",
   "execution_count": 5,
   "id": "d9a1623a",
   "metadata": {},
   "outputs": [
    {
     "name": "stdout",
     "output_type": "stream",
     "text": [
      "enter the number of element:4\n",
      "enter the element21\n",
      "enter the element34\n",
      "enter the element234\n",
      "enter the element23\n",
      "largest number: 234\n"
     ]
    }
   ],
   "source": [
    "#62. Write a program that reads an array of integers and displays the largest element in the array.\n",
    "n=int(input('enter the number of element:'))\n",
    "array=[]\n",
    "\n",
    "for i in range(n):\n",
    "    ele=int(input('enter the element'.format(i+1)))\n",
    "    array.append(ele)\n",
    "    \n",
    "largest=array[0]\n",
    "for i in range(1,n):\n",
    "    if array[i]>largest:\n",
    "        largest=array[i]\n",
    "print('largest number:',largest)\n",
    "    "
   ]
  },
  {
   "cell_type": "code",
   "execution_count": 6,
   "id": "a3060b08",
   "metadata": {},
   "outputs": [
    {
     "name": "stdout",
     "output_type": "stream",
     "text": [
      "enter the number of element:4\n",
      "enter the element:34\n",
      "enter the element:23\n",
      "enter the element:3\n",
      "enter the element:5\n",
      "16.25\n"
     ]
    }
   ],
   "source": [
    "#63. Write a program that reads an array of integers and displays the average of the elements.\n",
    "\n",
    "n=int(input('enter the number of element:'))\n",
    "\n",
    "array=[]\n",
    "\n",
    "for i in range(n):\n",
    "    ele=int(input('enter the element:'.format(i+1)))\n",
    "    array.append(ele)\n",
    "sum =0\n",
    "for ele in array:\n",
    "    sum+=ele\n",
    "    \n",
    "avg=sum/n\n",
    "\n",
    "print(avg)\n",
    "    "
   ]
  },
  {
   "cell_type": "code",
   "execution_count": 8,
   "id": "68236d7b",
   "metadata": {},
   "outputs": [
    {
     "name": "stdout",
     "output_type": "stream",
     "text": [
      "enter the number of element:3\n",
      "enter the element2\n",
      "enter the element23\n",
      "enter the element42\n",
      "enter the element:2\n",
      "enter the element:32\n",
      "enter the element:4\n",
      "[4, 55, 46]\n"
     ]
    }
   ],
   "source": [
    "#64. Create a program that reads two vectors of integers of the same size and displays a new vector with the sum of the\n",
    "#corresponding elements of the two vectors.\n",
    "\n",
    "n=int(input('enter the number of element:'))\n",
    "\n",
    "vec1=[]\n",
    "vec2=[]\n",
    "\n",
    "for i in range(n):\n",
    "    ele=int(input('enter the element'.format(i+1)))\n",
    "    vec1.append(ele)\n",
    "    \n",
    "for i in range(n):\n",
    "    ele=int(input('enter the element:'.format(i+1)))\n",
    "    vec2.append(ele)\n",
    "    \n",
    "res_vec=[]\n",
    "\n",
    "for i in range(n):\n",
    "    sum_ele=vec1[i]+vec2[i]\n",
    "    res_vec.append(sum_ele)\n",
    "print(res_vec)"
   ]
  },
  {
   "cell_type": "code",
   "execution_count": 11,
   "id": "13e0173a",
   "metadata": {},
   "outputs": [
    {
     "name": "stdout",
     "output_type": "stream",
     "text": [
      "enter the number of element:5\n",
      "enter the element:3\n",
      "enter the element:9\n",
      "enter the element:4\n",
      "enter the element:3\n",
      "enter the element:0\n",
      "the array is in ascending order\n"
     ]
    }
   ],
   "source": [
    "#65. Write a program that reads an array of integers and checks if they are in ascending order.\n",
    "n=int(input('enter the number of element:'))\n",
    "\n",
    "arr=[]\n",
    "\n",
    "for i in range(n):\n",
    "    ele=int(input('enter the element:'.format(i+1)))\n",
    "    arr.append(arr)\n",
    "    \n",
    "is_ascending=True\n",
    "\n",
    "for i in range(1,n):\n",
    "    if arr[i]<arr[i-1]:\n",
    "        is_ascending=False\n",
    "        break\n",
    "if is_ascending:\n",
    "    print('the array is in ascending order')\n",
    "else:\n",
    "    print('the array is not in ascending order')\n",
    "    "
   ]
  },
  {
   "cell_type": "code",
   "execution_count": 13,
   "id": "dc388fb5",
   "metadata": {},
   "outputs": [
    {
     "name": "stdout",
     "output_type": "stream",
     "text": [
      "enter the number of element:5\n",
      "enter the element2\n",
      "enter the element34\n",
      "enter the element2\n",
      "enter the element3\n",
      "enter the element2\n",
      "[2, 34, 2, 3, 2]\n",
      "[2, 3, 2, 34, 2]\n"
     ]
    }
   ],
   "source": [
    "#66. Write a program that reads an array of integers and displays the elements in reverse order.\n",
    "\n",
    "n=int(input('enter the number of element:'))\n",
    "\n",
    "arr=[]\n",
    "\n",
    "for i in range(n):\n",
    "    ele=int(input('enter the element'.format(i+1)))\n",
    "    arr.append(ele)\n",
    "print(arr)\n",
    "    \n",
    "r=arr[::-1]\n",
    "print(r)"
   ]
  },
  {
   "cell_type": "code",
   "execution_count": 16,
   "id": "4215b28e",
   "metadata": {},
   "outputs": [
    {
     "name": "stdout",
     "output_type": "stream",
     "text": [
      "enter the number of element:5\n",
      "enter the element6\n",
      "enter the element854\n",
      "enter the element8\n",
      "enter the element9\n",
      "enter the element4\n",
      "9\n"
     ]
    }
   ],
   "source": [
    "#67. Create a program that reads an array of integers and finds the second largest element in the array.\n",
    "\n",
    "n =int(input('enter the number of element:'))\n",
    "\n",
    "arr=[]\n",
    "for i in range(n):\n",
    "    ele=int(input('enter the element'.format(i+1)))\n",
    "    arr.append(ele)\n",
    "    \n",
    "largest=float('-inf')\n",
    "second_largest=float('inf')\n",
    "\n",
    "for ele in arr:\n",
    "    if ele > largest:\n",
    "        second_largest=largest\n",
    "        largest=ele\n",
    "    elif ele > second_largest and ele!=largest:\n",
    "        second_largest=ele\n",
    "print(second_largest)\n",
    "    "
   ]
  },
  {
   "cell_type": "code",
   "execution_count": 20,
   "id": "b5baa482",
   "metadata": {},
   "outputs": [
    {
     "name": "stdout",
     "output_type": "stream",
     "text": [
      "enter the number of element:5\n",
      "enter the element1\n",
      "enter the element1\n",
      "enter the element1\n",
      "enter the element2\n",
      "enter the element3\n",
      "enter the number:1\n",
      "1 and 3\n"
     ]
    }
   ],
   "source": [
    "#68. Write a program that reads an array of integers and displays how many times a specific number appears in the array\n",
    "n =int(input('enter the number of element:'))\n",
    "\n",
    "arr=[]\n",
    "for i in range(n):\n",
    "    ele=int(input('enter the element'.format(i+1)))\n",
    "    arr.append(ele)\n",
    "    \n",
    "target=int(input('enter the number:'))\n",
    "count=0\n",
    "\n",
    "for ele in arr:\n",
    "    if ele==target:\n",
    "        count+=1\n",
    "print(target, 'and',count)\n",
    "               "
   ]
  },
  {
   "cell_type": "code",
   "execution_count": 25,
   "id": "4706c382",
   "metadata": {},
   "outputs": [
    {
     "name": "stdout",
     "output_type": "stream",
     "text": [
      "enter the number of element:4\n",
      "enter the element3\n",
      "enter the element2\n",
      "enter the element6\n",
      "enter the element7\n",
      "enter the element8\n",
      "enter the element9\n",
      "enter the element1\n",
      "enter the element4\n",
      "[24, 18, 6, 28]\n"
     ]
    }
   ],
   "source": [
    "#69. Write a program that reads two arrays of integers with the same size and displays a new array with the elements resulting\n",
    "#from the multiplication of the corresponding elements of the two arrays.\n",
    "\n",
    "n =int(input('enter the number of element:'))\n",
    "\n",
    "arr1=[]\n",
    "arr2=[]\n",
    "for i in range(n):\n",
    "    ele=int(input('enter the element'.format(i+1)))\n",
    "    arr1.append(ele)\n",
    "    \n",
    "for i in range(n):\n",
    "    ele=int(input('enter the element'.format(i+1)))\n",
    "    arr2.append(ele)\n",
    "    \n",
    "result=[]\n",
    "for i in range(n):\n",
    "    res=arr1[i]*arr2[i]\n",
    "    result.append(res)\n",
    "print(result)"
   ]
  },
  {
   "cell_type": "code",
   "execution_count": 29,
   "id": "16f8ff28",
   "metadata": {},
   "outputs": [
    {
     "name": "stdout",
     "output_type": "stream",
     "text": [
      "enter the number of element:5\n",
      "enter the element2\n",
      "enter the element2\n",
      "enter the element2\n",
      "enter the element2\n",
      "enter the element2\n",
      "all element are even 2\n"
     ]
    }
   ],
   "source": [
    "#70. Create a program that reads an array of integers and checks that all elements are even\n",
    "\n",
    "n =int(input('enter the number of element:'))\n",
    "\n",
    "arr1=[]\n",
    "for i in range(n):\n",
    "    ele=int(input('enter the element'.format(i+1)))\n",
    "    arr1.append(ele)\n",
    "for ele in arr:\n",
    "    if ele%2==0:\n",
    "        print('all element are even',ele)\n",
    "    "
   ]
  },
  {
   "cell_type": "markdown",
   "id": "30dfc069",
   "metadata": {},
   "source": []
  }
 ],
 "metadata": {
  "kernelspec": {
   "display_name": "Python 3 (ipykernel)",
   "language": "python",
   "name": "python3"
  },
  "language_info": {
   "codemirror_mode": {
    "name": "ipython",
    "version": 3
   },
   "file_extension": ".py",
   "mimetype": "text/x-python",
   "name": "python",
   "nbconvert_exporter": "python",
   "pygments_lexer": "ipython3",
   "version": "3.11.5"
  }
 },
 "nbformat": 4,
 "nbformat_minor": 5
}
