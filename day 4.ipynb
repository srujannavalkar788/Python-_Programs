{
 "cells": [
  {
   "cell_type": "code",
   "execution_count": null,
   "id": "12bd5e96",
   "metadata": {},
   "outputs": [],
   "source": [
    "#31 area of parellelogram\n",
    "l=int(input(\"enter the l:\"))\n",
    "b=int(input(\"enter the b:\"))\n",
    "A=b*l\n",
    "print(A)"
   ]
  },
  {
   "cell_type": "code",
   "execution_count": null,
   "id": "8a5c1631",
   "metadata": {},
   "outputs": [],
   "source": [
    "#32 potential energy\n",
    "m=int(input(\"enter the m:\"))\n",
    "g=int(input(\"enter the g:\"))\n",
    "h=int(input(\"enter thr h:\"))\n",
    "p=m*g*h\n",
    "print(p)"
   ]
  },
  {
   "cell_type": "code",
   "execution_count": null,
   "id": "4d066c9c",
   "metadata": {},
   "outputs": [],
   "source": [
    "# 33 (a+b)**2\n",
    "a=int(input(\"enter the a:\"))\n",
    "b=int(input(\"enter the b:\"))\n",
    "c=(a**2)+(b**2)+(2*a*b)\n",
    "print(c)"
   ]
  },
  {
   "cell_type": "code",
   "execution_count": null,
   "id": "f15e5604",
   "metadata": {},
   "outputs": [],
   "source": [
    "#34 work done\n",
    "f=int(input(\"enter the f:\"))\n",
    "d=int(input(\"enter the d:\"))\n",
    "w=f*d\n",
    "print(w)"
   ]
  },
  {
   "cell_type": "code",
   "execution_count": null,
   "id": "35f329d3",
   "metadata": {},
   "outputs": [],
   "source": [
    "#35 simple pendulum\n",
    "l=int(input(\"enter the l:\"))\n",
    "s=(2*3.14)*(0.5*(l/9))\n",
    "print(s)\n"
   ]
  },
  {
   "cell_type": "code",
   "execution_count": null,
   "id": "42d04d40",
   "metadata": {},
   "outputs": [],
   "source": [
    "#36 return on investment\n",
    "net_profit=int(input(\"enter the value of net_profit:\"))\n",
    "cost_of_investment=int(input(\"enter the value of cost of investment:\"))\n",
    "ROI=(net_profit/cost_of_investment)*100\n",
    "print(ROI)"
   ]
  },
  {
   "cell_type": "code",
   "execution_count": null,
   "id": "a6a34956",
   "metadata": {},
   "outputs": [],
   "source": [
    "#37 earning per share\n",
    "net_income=int(input(\"enter the net income:\"))\n",
    "AOS=int(input(\"enter the AOS:\"))\n",
    "EPS=net_income/AOS\n",
    "print(EPS)"
   ]
  },
  {
   "cell_type": "code",
   "execution_count": null,
   "id": "f9f04a7d",
   "metadata": {},
   "outputs": [],
   "source": [
    "#38 price earning ratio\n",
    "market_price_per_share=int(input(\"enter the value per share:\"))\n",
    "net_income=int(input(\"enter the net income:\"))\n",
    "AOS=int(input(\"enter the AOS value:\"))\n",
    "EPS=net_income/AOS\n",
    "PER=market_price_per_share/EPS\n",
    "print(PER)\n",
    "\n"
   ]
  },
  {
   "cell_type": "code",
   "execution_count": null,
   "id": "0b209ffc",
   "metadata": {},
   "outputs": [],
   "source": [
    "# 39 Debt_to_Equity_Ratio\n",
    "Total_Debt=int(input(\"enter value of Total_Debt\"))\n",
    "Total_Equity=int(input(\"enter value of Total_Equity\"))\n",
    "Debt_to_Equity_Ratio=Total_Debt/Total_Equity\n",
    "print(\"Debt_to_Equity_Ratio is\",Debt_to_Equity_Ratio)"
   ]
  },
  {
   "cell_type": "code",
   "execution_count": null,
   "id": "217b0806",
   "metadata": {},
   "outputs": [],
   "source": [
    "# 40 discount on products\n",
    "bag=int(input(\"enter the price of bag:\"))\n",
    "shirt=int(input(\"enter the price of shirt:\"))\n",
    "pant=int(input(\"enter the price of pant:\"))\n",
    "mobile=int(input(\"enter the price of mobile:\"))\n",
    "\n",
    "if choices:\n",
    "    print(\"1bag\\n2.shirt\\n3.pant\\n4.mobile\")\n",
    "    choice=int(input(\"enter your choice:\"))\n",
    "    if choice==1:\n",
    "        discount=bag*(20/100)\n",
    "        print(\"discount on bag is:\",discount)\n",
    "    elif choice==2:\n",
    "        discount=shirt*(34/100)\n",
    "        print(\"discount on shirt is:\",discount)\n",
    "    elif choice==3:\n",
    "        discount=pant*(12/100)\n",
    "        print(\"discount on pant is:\",discount)\n",
    "    elif choice==4:\n",
    "        discount=mobile*(5/100)\n",
    "        print(\"discount on mobile is:\", discount)\n",
    "else:\n",
    "    print(\"these item have no discount,sorry!\")"
   ]
  },
  {
   "cell_type": "code",
   "execution_count": null,
   "id": "94f869a6",
   "metadata": {},
   "outputs": [],
   "source": []
  }
 ],
 "metadata": {
  "kernelspec": {
   "display_name": "Python 3 (ipykernel)",
   "language": "python",
   "name": "python3"
  },
  "language_info": {
   "codemirror_mode": {
    "name": "ipython",
    "version": 3
   },
   "file_extension": ".py",
   "mimetype": "text/x-python",
   "name": "python",
   "nbconvert_exporter": "python",
   "pygments_lexer": "ipython3",
   "version": "3.11.5"
  }
 },
 "nbformat": 4,
 "nbformat_minor": 5
}
