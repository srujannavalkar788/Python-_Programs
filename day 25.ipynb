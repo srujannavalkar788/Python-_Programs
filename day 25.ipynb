{
 "cells": [
  {
   "cell_type": "code",
   "execution_count": 3,
   "id": "65eb3da0",
   "metadata": {},
   "outputs": [],
   "source": [
    "#1 Write a Python function that prints out the first n rows of Pascal's triangle. Note : Pascal's triangle is an arithmetic and geometric figure first imagined by Blaise Pascal.\n",
    "#Sample Pascal's triangle :\n",
    "#pascal's triangle Each number is the two numbers above it added together\n",
    "\n",
    "def pascal_tri(n):\n",
    "    for i in range(n):\n",
    "        row=[1]*(i+1)\n",
    "        for j in range(1,i):\n",
    "            row[j]=prev_row[j]+ prev_row[j-1]\n",
    "        print(*row)\n",
    "        \n",
    "        prev_row=row[:]"
   ]
  },
  {
   "cell_type": "code",
   "execution_count": 4,
   "id": "3eb80cb8",
   "metadata": {},
   "outputs": [
    {
     "name": "stdout",
     "output_type": "stream",
     "text": [
      "1\n",
      "1 1\n",
      "1 2 1\n",
      "1 3 3 1\n",
      "1 4 6 4 1\n"
     ]
    }
   ],
   "source": [
    "n=5\n",
    "pascal_tri(n)"
   ]
  },
  {
   "cell_type": "code",
   "execution_count": 14,
   "id": "d8d04ac6",
   "metadata": {},
   "outputs": [],
   "source": [
    "# 2 Write a Python function to check whether a string is a pangram or not. Note : Pangrams are words or sentences containing every letter of the alphabet at least once.\n",
    "#For example : \"The quick brown fox jumps over the lazy dog\"\n",
    "import string\n",
    "def check(sentence):\n",
    "    sentence= sentence .lower().translate(str.maketrans('','',string.punctuation ))\n",
    "    \n",
    "    alphabets = set(string.ascii_lowercase)\n",
    "    \n",
    "    return alphabets.issubset(set(sentence))\n",
    "    \n"
   ]
  },
  {
   "cell_type": "code",
   "execution_count": 15,
   "id": "ad0acc28",
   "metadata": {},
   "outputs": [
    {
     "data": {
      "text/plain": [
       "True"
      ]
     },
     "execution_count": 15,
     "metadata": {},
     "output_type": "execute_result"
    }
   ],
   "source": [
    "sentence1=\"The quick brown fox jumps over the lazy dog\"\n",
    "check(sentence1)"
   ]
  },
  {
   "cell_type": "code",
   "execution_count": 23,
   "id": "998b94bb",
   "metadata": {},
   "outputs": [
    {
     "name": "stdout",
     "output_type": "stream",
     "text": [
      "Enter hyphen-separated words: green-red-yellow-black-white\n",
      "Sorted words: black-green-red-white-yellow\n"
     ]
    }
   ],
   "source": [
    "#3 Write a Python program that accepts a hyphen-separated sequence of words as input and prints the words in a \n",
    "#hyphen-separated sequence after sorting them alphabetically. \n",
    "#Sample Items : green-red-yellow-black-white Expected Result : black-green-red-white-yellow\n",
    "\n",
    "def sort_hyphenated_words(words):\n",
    "    \n",
    "  # Split the string into a list of words\n",
    "  word_list = words.split(\"-\")\n",
    "\n",
    "  # Sort the list of words alphabetically\n",
    "  word_list.sort()\n",
    "\n",
    "  # Join the sorted list back into a hyphen-separated string\n",
    "  return \"-\".join(word_list)\n",
    "\n",
    "# Get user input\n",
    "user_input = input(\"Enter hyphen-separated words: \")\n",
    "\n",
    "# Sort and print the words\n",
    "sorted_words = sort_hyphenated_words(user_input)\n",
    "print(\"Sorted words:\", sorted_words)"
   ]
  },
  {
   "cell_type": "code",
   "execution_count": 30,
   "id": "66514d92",
   "metadata": {},
   "outputs": [],
   "source": [
    "#4 Write a Python function to create and print a list where the values are the \n",
    "#squares of numbers between 1 and 30 (both included).\n",
    "\n",
    "def squares():\n",
    "    num=[]\n",
    "    \n",
    "    for i in range(1,31):\n",
    "        num.append(i**2)\n",
    "    print(num)\n",
    "        \n",
    "    "
   ]
  },
  {
   "cell_type": "code",
   "execution_count": 31,
   "id": "009450bc",
   "metadata": {},
   "outputs": [
    {
     "name": "stdout",
     "output_type": "stream",
     "text": [
      "[1, 4, 9, 16, 25, 36, 49, 64, 81, 100, 121, 144, 169, 196, 225, 256, 289, 324, 361, 400, 441, 484, 529, 576, 625, 676, 729, 784, 841, 900]\n"
     ]
    }
   ],
   "source": [
    "squares()"
   ]
  },
  {
   "cell_type": "code",
   "execution_count": 34,
   "id": "d330706a",
   "metadata": {},
   "outputs": [],
   "source": [
    "# 5 Write a Python program to create a chain of function decorators (bold, italic, underline etc.).\n",
    "import re\n",
    "\n",
    "def bold (text):\n",
    "    return f\"<b>{text}</b>\"\n",
    "\n",
    "def italic(text):\n",
    "    return f\"<i>{text}</i>\"\n",
    "\n",
    "def underline(text):\n",
    "    return f\"<u>{text}</i>\"\n",
    "\n",
    "def bold_italic(text):\n",
    "    def inner(text):\n",
    "        return italic(bold(text))\n",
    "    return inner\n",
    "\n",
    "def underline_bold(text):\n",
    "    def inner(text):\n",
    "        return  bold(underline(text))\n",
    "    return inner"
   ]
  },
  {
   "cell_type": "code",
   "execution_count": 44,
   "id": "0ea3adea",
   "metadata": {},
   "outputs": [
    {
     "name": "stdout",
     "output_type": "stream",
     "text": [
      "<b>my name is abhinav navalkar</b>\n",
      "<i>my name is abhinav navalkar</i>\n",
      "<u>my name is abhinav navalkar</i>\n",
      "<function bold_italic.<locals>.inner at 0x000001E333555620>\n",
      "<function underline_bold.<locals>.inner at 0x000001E333555620>\n"
     ]
    }
   ],
   "source": [
    "text=\"my name is abhinav navalkar\"\n",
    "print(bold(text))\n",
    "print(italic(text))\n",
    "print(underline(text))\n",
    "print(bold_italic(text))\n",
    "print(underline_bold(text))"
   ]
  },
  {
   "cell_type": "code",
   "execution_count": 45,
   "id": "859de42f",
   "metadata": {},
   "outputs": [
    {
     "name": "stdout",
     "output_type": "stream",
     "text": [
      "Hello, world!\n"
     ]
    }
   ],
   "source": [
    "# 6 Write a Python program to execute a string containing Python code.\n",
    "import builtins  # To access built-in functions like print\n",
    "\n",
    "def exec_string(code_str):\n",
    " \"\"\"Executes a string containing Python code.\n",
    "\n",
    " Args:\n",
    "   code_str: The string containing Python code.\n",
    " \"\"\"\n",
    " # Use a local namespace to avoid conflicts with global variables\n",
    " local_vars = {}\n",
    " local_vars.update(builtins.__dict__)  # Include built-in functions\n",
    "\n",
    " # Execute the code in the local namespace\n",
    " exec(code_str, globals(), local_vars)\n",
    "\n",
    "# Example usage\n",
    "code_str = \"print('Hello, world!')\"\n",
    "exec_string(code_str)  # Output: Hello, world!"
   ]
  },
  {
   "cell_type": "code",
   "execution_count": 57,
   "id": "08756708",
   "metadata": {},
   "outputs": [
    {
     "name": "stdout",
     "output_type": "stream",
     "text": [
      "This is the inner function.\n"
     ]
    }
   ],
   "source": [
    "#7 Write a Python program to access a function inside a function.\n",
    "def outer_function():\n",
    "    def inner_function():\n",
    "        print(\"This is the inner function.\")\n",
    "    inner_function()\n",
    "outer_function()\n"
   ]
  },
  {
   "cell_type": "code",
   "execution_count": 66,
   "id": "85a34a72",
   "metadata": {},
   "outputs": [
    {
     "name": "stdout",
     "output_type": "stream",
     "text": [
      "Number of local variables: 4\n"
     ]
    }
   ],
   "source": [
    "# 8 Write a Python program to detect the number of local variables declared in a function. Sample Output: 3\n",
    "import inspect\n",
    "\n",
    "def get_local_var_count(func):\n",
    "    frame = inspect.currentframe()#Gets the number of local variables declared in a function.  #Args func: The function to inspect.#Returns:the number of local variables declared in the function. # Get the function's frame using inspect.stack\n",
    "    # Get the function's code object\n",
    "    code = frame.f_code # Extract the number of local variables from the code object\n",
    "    num_local_vars = code.co_nlocals\n",
    "    return num_local_vars\n",
    "\n",
    "# Example function\n",
    "def sample_function(arg1, arg2):\n",
    "    var1 = \"Hello\"  #Sample function with local variables.\n",
    "    var2 = 10\n",
    "    var3 = [1, 2, 3]\n",
    "\n",
    "  # Do something with local variables\n",
    "\n",
    "# Get the number of local variables in the sample function\n",
    "num_local_vars = get_local_var_count(sample_function)\n",
    "\n",
    "print(\"Number of local variables:\", num_local_vars)  # Output: 3"
   ]
  },
  {
   "cell_type": "code",
   "execution_count": 70,
   "id": "3da9fa67",
   "metadata": {},
   "outputs": [
    {
     "name": "stdout",
     "output_type": "stream",
     "text": [
      "Square root after specific milliseconds: 2.0000Square root after specific milliseconds: 158.1139\n",
      "\n",
      "Square root after specific milliseconds: 12.0000\n",
      "Square root after specific milliseconds: 10.0000\n",
      "Square root after specific milliseconds: 15.0000\n",
      "Square root after specific milliseconds: 25.0000\n"
     ]
    }
   ],
   "source": [
    "# 9 Write a Python program that invokes a function after a specified period of time. \n",
    "#Sample Output: Square root after specific miliseconds: 4.0 10.0 158.42979517754858\n",
    "\n",
    "import time\n",
    "from threading import Timer\n",
    "\n",
    "def calculate_square_root(number):\n",
    "  \"\"\"Calculates and prints the square root of a number.\"\"\"\n",
    "  import math\n",
    "  result = math.sqrt(number)\n",
    "  print(f\"Square root after specific milliseconds: {result:.4f}\")  # Format result with 4 decimal places\n",
    "\n",
    "def delayed_function_call(delay_ms, function, *args):\n",
    "  \"\"\"\n",
    "  Invokes a function after a specified delay using threading.Timer.\n",
    "\n",
    "  Args:\n",
    "    delay_ms: The delay in milliseconds.\n",
    "    function: The function to be invoked.\n",
    "    *args: Arguments to be passed to the function.\n",
    "  \"\"\"\n",
    "  timer = Timer(delay_ms / 1000, function, args=args)  # Convert ms to seconds\n",
    "  timer.start()\n",
    "\n",
    "# Example usage with different delays\n",
    "numbers = [4, 100, 25000,144,225,625]\n",
    "delays = [1000, 5000, 1000,3000,6000,10000]\n",
    "\n",
    "for i in range(len(numbers)):\n",
    "  delayed_function_call(delays[i], calculate_square_root, numbers[i])"
   ]
  },
  {
   "cell_type": "code",
   "execution_count": 73,
   "id": "d7aea4b6",
   "metadata": {},
   "outputs": [],
   "source": [
    "#10 Write a Python function to sum all the numbers in a list. Sample List : (8, 2, 3, 0, 7) Expected Output : 20\n",
    "\n",
    "def list_sum ( items):\n",
    "    value=0\n",
    "    for n in items:\n",
    "        value+=n\n",
    "    return value"
   ]
  },
  {
   "cell_type": "code",
   "execution_count": 74,
   "id": "e9d374cf",
   "metadata": {},
   "outputs": [
    {
     "name": "stdout",
     "output_type": "stream",
     "text": [
      "20\n"
     ]
    }
   ],
   "source": [
    "list1=[8,2,3,0,7]\n",
    "\n",
    "print(list_sum(list1))"
   ]
  },
  {
   "cell_type": "code",
   "execution_count": null,
   "id": "c888b8be",
   "metadata": {},
   "outputs": [],
   "source": []
  }
 ],
 "metadata": {
  "kernelspec": {
   "display_name": "Python 3 (ipykernel)",
   "language": "python",
   "name": "python3"
  },
  "language_info": {
   "codemirror_mode": {
    "name": "ipython",
    "version": 3
   },
   "file_extension": ".py",
   "mimetype": "text/x-python",
   "name": "python",
   "nbconvert_exporter": "python",
   "pygments_lexer": "ipython3",
   "version": "3.11.5"
  }
 },
 "nbformat": 4,
 "nbformat_minor": 5
}
