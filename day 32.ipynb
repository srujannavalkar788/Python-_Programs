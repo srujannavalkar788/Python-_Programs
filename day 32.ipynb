{
 "cells": [
  {
   "cell_type": "code",
   "execution_count": 1,
   "id": "515f63d3",
   "metadata": {},
   "outputs": [
    {
     "name": "stdout",
     "output_type": "stream",
     "text": [
      "enter number 1:10\n",
      "enter number 2:20\n",
      "addition 30\n",
      "subtraction -10\n",
      "multiplication 200\n",
      "division 0.5\n"
     ]
    }
   ],
   "source": [
    "'''1. Write a program that prompts the user for two numbers and\n",
    "displays the addition, subtraction, multiplication, and division\n",
    "between them.'''\n",
    "\n",
    "\n",
    "num1=int(input('enter number 1:'))\n",
    "num2=int(input('enter number 2:'))\n",
    "\n",
    "add=num1+num2\n",
    "sub=num1-num2\n",
    "mul=num1*num2\n",
    "div=num1/num2\n",
    "\n",
    "print(\"addition\",add)\n",
    "print(\"subtraction\",sub)\n",
    "print(\"multiplication\",mul)\n",
    "print(\"division\",div)"
   ]
  },
  {
   "cell_type": "code",
   "execution_count": 2,
   "id": "4d54f58d",
   "metadata": {},
   "outputs": [
    {
     "name": "stdout",
     "output_type": "stream",
     "text": [
      "arithmetic mean 52.5\n"
     ]
    }
   ],
   "source": [
    "#2. Write a program that calculates the arithmetic mean of two numbers.\n",
    "\n",
    "n1=50\n",
    "n2=55\n",
    "mean=(n1+n2)/2\n",
    "print(\"arithmetic mean\",mean)"
   ]
  },
  {
   "cell_type": "code",
   "execution_count": 3,
   "id": "2a098e7c",
   "metadata": {},
   "outputs": [
    {
     "name": "stdout",
     "output_type": "stream",
     "text": [
      "enter your grade1:75\n",
      "enter your grade2:85\n",
      "enter your grade3:95\n",
      "mean of grades: 85.0\n"
     ]
    }
   ],
   "source": [
    "#3. Create a program that calculates and displays the arithmetic mean of three grades entered by the user.\n",
    "grade1=float(input('enter your grade1:'))\n",
    "grade2=float(input('enter your grade2:'))\n",
    "grade3=float(input('enter your grade3:'))\n",
    "\n",
    "mean_of_grades=(grade1+grade2+grade3)/3\n",
    "\n",
    "print(\"mean of grades:\",mean_of_grades)"
   ]
  },
  {
   "cell_type": "code",
   "execution_count": 4,
   "id": "96a67a42",
   "metadata": {},
   "outputs": [
    {
     "name": "stdout",
     "output_type": "stream",
     "text": [
      "enter a number:56\n",
      "enter a number:89\n",
      "enter a number:76\n",
      "geometric mean 72.35422154117448\n"
     ]
    }
   ],
   "source": [
    "#4. Write a program that calculates the geometric mean of three numbers entered by the user\n",
    "\n",
    "import math\n",
    "\n",
    "num1=float(input('enter a number:'))\n",
    "num2=float(input('enter a number:'))\n",
    "num3=float(input('enter a number:'))\n",
    "product=num1*num2*num3\n",
    "'''we calculate the geometric mean by taking the cubic root of the\n",
    "product using the math.pow function. We raise the product to the power of\n",
    "1/3 to obtain the cubic root'''\n",
    "geomatric_mean=math.pow(product,1/3)\n",
    "print(\"geometric mean\",geomatric_mean)\n"
   ]
  },
  {
   "cell_type": "code",
   "execution_count": 7,
   "id": "ddb6211d",
   "metadata": {},
   "outputs": [
    {
     "name": "stdout",
     "output_type": "stream",
     "text": [
      "enter the weight:49.5\n",
      "enter the height:3\n",
      "your BMI is: 5.5\n"
     ]
    }
   ],
   "source": [
    "#5. Write a program that calculates the BMI of an individual, using the formula BMI = weight / height² \n",
    "\n",
    "weight=float(input('enter the weight:'))\n",
    "height=int(input('enter the height:'))\n",
    "\n",
    "BMI=weight/(height**2)\n",
    "print('your BMI is:',BMI)"
   ]
  },
  {
   "cell_type": "code",
   "execution_count": 8,
   "id": "8ab6646e",
   "metadata": {},
   "outputs": [
    {
     "name": "stdout",
     "output_type": "stream",
     "text": [
      "enter the radius:45\n",
      "perimeter ofa circle is : 282.7433388230814\n"
     ]
    }
   ],
   "source": [
    "# 6. Create a program that calculates and displays the perimeter of a circle, prompting the user for the radius.\n",
    "import math\n",
    "\n",
    "radius=float(input('enter the radius:'))\n",
    "\n",
    "perimeter= 2*math.pi*radius\n",
    "print('perimeter ofa circle is :',perimeter)"
   ]
  },
  {
   "cell_type": "code",
   "execution_count": 12,
   "id": "95e77604",
   "metadata": {},
   "outputs": [
    {
     "name": "stdout",
     "output_type": "stream",
     "text": [
      "enter the radius:4\n",
      "area of circle is :\n"
     ]
    },
    {
     "data": {
      "text/plain": [
       "(None, 50.26548245743669)"
      ]
     },
     "execution_count": 12,
     "metadata": {},
     "output_type": "execute_result"
    }
   ],
   "source": [
    "#7. Write a program that calculates the area of a circle from the radius, using the formula A = πr²\n",
    "import math\n",
    "radius=float(input('enter the radius:'))\n",
    "\n",
    "area_of_circle=math.pi*radius**2\n",
    "print(\"area of circle is :\"),area_of_circle"
   ]
  },
  {
   "cell_type": "code",
   "execution_count": 16,
   "id": "e2ddc420",
   "metadata": {},
   "outputs": [
    {
     "name": "stdout",
     "output_type": "stream",
     "text": [
      "enter a:4\n",
      "enter b:25\n",
      "enter c:3\n",
      "delta of a quadratic equation: 577\n"
     ]
    }
   ],
   "source": [
    "#8. Write a program that calculates the delta of a quadratic equation (Δ = b² - 4ac).\n",
    "a=int(input('enter a:'))\n",
    "b=int(input('enter b:'))\n",
    "c=int(input('enter c:'))\n",
    "\n",
    "delta=b**2 - 4*a*c\n",
    "\n",
    "print('delta of a quadratic equation:',delta)"
   ]
  },
  {
   "cell_type": "code",
   "execution_count": 18,
   "id": "5bbb84b7",
   "metadata": {},
   "outputs": [
    {
     "name": "stdout",
     "output_type": "stream",
     "text": [
      "enter the width:12\n",
      "enter the length:24\n",
      "perimeter of ractangle: 72\n",
      "area of rectangle is: 288\n"
     ]
    }
   ],
   "source": [
    "# 9. Write a program that calculates the perimeter and area of a rectangle, using the formulas P = 2(w + l) and A = wl, where w\n",
    "#is the width and l is the length\n",
    "\n",
    "width=int(input('enter the width:'))\n",
    "length=int(input('enter the length:'))\n",
    "\n",
    "p=2*(width+length)\n",
    "print('perimeter of ractangle:',p)\n",
    "\n",
    "a=width*length\n",
    "print('area of rectangle is:',a)"
   ]
  },
  {
   "cell_type": "code",
   "execution_count": 19,
   "id": "663072ec",
   "metadata": {},
   "outputs": [
    {
     "name": "stdout",
     "output_type": "stream",
     "text": [
      "enter a:10\n",
      "enter b:5\n",
      "enter c:6\n",
      "enter h:8\n",
      "perimeter of a triangle is : 21\n",
      "area of a triangle is : 20.0\n"
     ]
    }
   ],
   "source": [
    "#10. Write a program that calculates the perimeter and area of a triangle, using the formulas P = a + b + c and A = (b * h) / 2,\n",
    "#where a, b and c are the sides of the triangle and h is the height relative to the side B.\n",
    "\n",
    "a=int(input('enter a:'))\n",
    "b=int(input('enter b:'))\n",
    "c=int(input('enter c:'))\n",
    "h=int(input('enter h:'))\n",
    "\n",
    "p=a+b+c\n",
    "print('perimeter of a triangle is :',p)\n",
    "\n",
    "a=(b*h)/2\n",
    "print(\"area of a triangle is :\",a)"
   ]
  },
  {
   "cell_type": "code",
   "execution_count": null,
   "id": "b369218a",
   "metadata": {},
   "outputs": [],
   "source": []
  }
 ],
 "metadata": {
  "kernelspec": {
   "display_name": "Python 3 (ipykernel)",
   "language": "python",
   "name": "python3"
  },
  "language_info": {
   "codemirror_mode": {
    "name": "ipython",
    "version": 3
   },
   "file_extension": ".py",
   "mimetype": "text/x-python",
   "name": "python",
   "nbconvert_exporter": "python",
   "pygments_lexer": "ipython3",
   "version": "3.11.5"
  }
 },
 "nbformat": 4,
 "nbformat_minor": 5
}
