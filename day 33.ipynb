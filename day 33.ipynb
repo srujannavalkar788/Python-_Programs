{
 "cells": [
  {
   "cell_type": "code",
   "execution_count": 2,
   "id": "889052df",
   "metadata": {},
   "outputs": [
    {
     "name": "stdout",
     "output_type": "stream",
     "text": [
      "enter the value of time:10.20\n",
      "enter the space variation value:56.4\n",
      "the averag velocity: 5.529411764705882\n"
     ]
    }
   ],
   "source": [
    "#11. Write a program that calculates the average velocity of an object, using the formula v = Δs/Δt, where v is the average\n",
    "# velocity, Δs is the space variation, and Δt is the time variation\n",
    "\n",
    "time_variation=float(input('enter the value of time:'))\n",
    "space_variation=float(input('enter the space variation value:'))\n",
    "\n",
    "average_velocity=space_variation/time_variation\n",
    "\n",
    "print('the averag velocity:',average_velocity)"
   ]
  },
  {
   "cell_type": "code",
   "execution_count": 4,
   "id": "84dbf4d2",
   "metadata": {},
   "outputs": [
    {
     "name": "stdout",
     "output_type": "stream",
     "text": [
      "enter the mass of the object:40\n",
      "enter the distance:35\n",
      "enter the time:2\n",
      "kinetic energy: 6125.0\n"
     ]
    }
   ],
   "source": [
    "#12. Write a program that calculates the kinetic energy of a moving object, using the formula E = (mv²) / 2, where E is the\n",
    "# kinetic energy, m is the mass of the object, and v is the velocity.\n",
    "\n",
    "mass=float(input('enter the mass of the object:'))\n",
    "distance=float(input('enter the distance:'))\n",
    "time=float(input('enter the time:'))\n",
    "\n",
    "velocity=distance/time\n",
    "kinetic_energy=(mass*velocity**2)/2\n",
    "\n",
    "print('kinetic energy:',kinetic_energy)"
   ]
  },
  {
   "cell_type": "code",
   "execution_count": 7,
   "id": "925fde54",
   "metadata": {},
   "outputs": [
    {
     "name": "stdout",
     "output_type": "stream",
     "text": [
      "enter the value of the force:40\n",
      "enter the distance:60\n",
      "work done by force acting on an object  2400.0\n"
     ]
    }
   ],
   "source": [
    "#13. Write a program that calculates the work done by a force acting on an object, using the formula T = F * d, where T is the\n",
    "#work, F is the applied force, and d is the distance traveled by the object.\n",
    "\n",
    "force=float(input('enter the value of the force:'))\n",
    "distance=float(input('enter the distance:'))\n",
    "\n",
    "work_done=force*distance\n",
    "print(\"work done by force acting on an object \",work_done)"
   ]
  },
  {
   "cell_type": "code",
   "execution_count": 8,
   "id": "9110eef4",
   "metadata": {},
   "outputs": [
    {
     "name": "stdout",
     "output_type": "stream",
     "text": [
      "enter the x1:3\n",
      "enter the y1:4\n",
      "enter the x2:6\n",
      "enter the y2:5\n",
      "distance 3.1622776601683795\n"
     ]
    }
   ],
   "source": [
    "#14. Write a program that reads the x and y position of two points in the Cartesian plane, and calculates the distance between them\n",
    "import math\n",
    "\n",
    "x1=int(input('enter the x1:'))\n",
    "y1=int(input('enter the y1:'))\n",
    "\n",
    "x2=int(input('enter the x2:'))\n",
    "y2=int(input('enter the y2:'))\n",
    "\n",
    "distance=math.sqrt((x2-x1)**2 + (y2-y1)**2)\n",
    "print('distance',distance)"
   ]
  },
  {
   "cell_type": "code",
   "execution_count": 9,
   "id": "1ac3dc04",
   "metadata": {},
   "outputs": [
    {
     "name": "stdout",
     "output_type": "stream",
     "text": [
      "enter the radius:4\n",
      "volume of sphere 268.082573106329\n"
     ]
    }
   ],
   "source": [
    "# 15. Create a program that prompts the user for the radius of a sphere and calculates and displays its volume.\n",
    "import math\n",
    "radius=int(input('enter the radius:'))\n",
    "volume=(4/3)*math.pi*radius**3\n",
    "print('volume of sphere',volume)\n"
   ]
  },
  {
   "cell_type": "code",
   "execution_count": 10,
   "id": "f9fa1271",
   "metadata": {},
   "outputs": [
    {
     "name": "stdout",
     "output_type": "stream",
     "text": [
      "enter your age:34\n",
      "your are age is legal\n"
     ]
    }
   ],
   "source": [
    "#16. Make a program that asks for a person's age and displays whether they are of legal age or not.\n",
    "\n",
    "age=int(input('enter your age:'))\n",
    "\n",
    "if age>=18:\n",
    "    print('your are age is legal')\n",
    "else:\n",
    "    print(\"your age is not legal\")"
   ]
  },
  {
   "cell_type": "code",
   "execution_count": 12,
   "id": "38db4496",
   "metadata": {},
   "outputs": [
    {
     "name": "stdout",
     "output_type": "stream",
     "text": [
      "enter the n1:45\n",
      "enter the n2:3\n",
      "n1 is greater\n"
     ]
    }
   ],
   "source": [
    "#17. Write a program that reads two numbers and tells you which one is bigger.\n",
    "\n",
    "\n",
    "n1=int(input('enter the n1:'))\n",
    "n2=int(input('enter the n2:'))\n",
    "\n",
    "if n1>n2:\n",
    "    print(\"n1 is greater\")\n",
    "else:\n",
    "    print('n2 is greater')"
   ]
  },
  {
   "cell_type": "code",
   "execution_count": 13,
   "id": "6a48992c",
   "metadata": {},
   "outputs": [
    {
     "name": "stdout",
     "output_type": "stream",
     "text": [
      "enter the n1:5\n",
      "enter the n2:6\n",
      "enter the n3:7\n",
      "n3 is greater\n"
     ]
    }
   ],
   "source": [
    "#18. Write a program that asks the user for three numbers and displays the largest one.\n",
    "\n",
    "n1=int(input('enter the n1:'))\n",
    "n2=int(input('enter the n2:'))\n",
    "n3=int(input('enter the n3:'))\n",
    "\n",
    "if n1>n2 and n1>n3:\n",
    "    print('n1 is greater')\n",
    "elif n2>n3 and n2>n1:\n",
    "    print('n2 is greater')\n",
    "else:\n",
    "    print('n3 is greater')"
   ]
  },
  {
   "cell_type": "code",
   "execution_count": 15,
   "id": "fc535cff",
   "metadata": {},
   "outputs": [
    {
     "name": "stdout",
     "output_type": "stream",
     "text": [
      "enter any number:3\n",
      "the given number is odd\n"
     ]
    }
   ],
   "source": [
    "#19. Write a program that reads a number and reports whether it is odd or even.\n",
    "\n",
    "n1=int(input('enter any number:'))\n",
    " \n",
    "if n1%2==0:\n",
    "    print('the given number is even')\n",
    "else:\n",
    "    print('the given number is odd')"
   ]
  },
  {
   "cell_type": "code",
   "execution_count": 21,
   "id": "e4e52e57",
   "metadata": {},
   "outputs": [
    {
     "name": "stdout",
     "output_type": "stream",
     "text": [
      "enter any number:0\n",
      "zero\n"
     ]
    }
   ],
   "source": [
    "#20. Write a program that reads a number and reports whether it is positive, negative or zero.\n",
    "num=int(input('enter any number:'))\n",
    "\n",
    "if num>0:\n",
    "    print(\"positive\")\n",
    "elif num==0:\n",
    "    print('zero')\n",
    "else:\n",
    "    print('negative')"
   ]
  },
  {
   "cell_type": "code",
   "execution_count": null,
   "id": "9b1b1108",
   "metadata": {},
   "outputs": [],
   "source": []
  }
 ],
 "metadata": {
  "kernelspec": {
   "display_name": "Python 3 (ipykernel)",
   "language": "python",
   "name": "python3"
  },
  "language_info": {
   "codemirror_mode": {
    "name": "ipython",
    "version": 3
   },
   "file_extension": ".py",
   "mimetype": "text/x-python",
   "name": "python",
   "nbconvert_exporter": "python",
   "pygments_lexer": "ipython3",
   "version": "3.11.5"
  }
 },
 "nbformat": 4,
 "nbformat_minor": 5
}
