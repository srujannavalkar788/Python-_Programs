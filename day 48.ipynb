{
 "cells": [
  {
   "cell_type": "code",
   "execution_count": 2,
   "id": "57865ab3",
   "metadata": {},
   "outputs": [
    {
     "name": "stdout",
     "output_type": "stream",
     "text": [
      "enter a number:4\n",
      "24\n"
     ]
    }
   ],
   "source": [
    "#91. Write a recursive function to calculate the factorial of a number.\n",
    "def factorial(n):\n",
    "    if n==0 or n==1:\n",
    "        return 1\n",
    "    else:\n",
    "        return n*factorial(n-1)\n",
    "    \n",
    "n=int(input('enter a number:'))\n",
    "print(factorial(n))"
   ]
  },
  {
   "cell_type": "code",
   "execution_count": 3,
   "id": "eacbc6c1",
   "metadata": {},
   "outputs": [
    {
     "name": "stdout",
     "output_type": "stream",
     "text": [
      "enter any number:10\n",
      "55\n"
     ]
    }
   ],
   "source": [
    "#92. Implement a recursive function to calculate the Fibonacci sequence up to a given number.\n",
    "def fibonacci(n):\n",
    "    if n==0:\n",
    "        return 0\n",
    "    elif n==1:\n",
    "        return 1\n",
    "    else:\n",
    "        return fibonacci(n-1)+fibonacci(n-2)\n",
    "    \n",
    "n=int(input('enter any number:'))\n",
    "print(fibonacci(n))\n",
    "    "
   ]
  },
  {
   "cell_type": "code",
   "execution_count": 18,
   "id": "21e3e180",
   "metadata": {},
   "outputs": [
    {
     "name": "stdout",
     "output_type": "stream",
     "text": [
      "enter any number:24\n",
      "False\n"
     ]
    }
   ],
   "source": [
    "#93. Create a recursive function to check if a number is prime.\n",
    "def is_prime(n,divisor=2):\n",
    "    if n<=1:\n",
    "        return False\n",
    "    if n==2:\n",
    "        return True\n",
    "    if n% divisor==0:\n",
    "        return False\n",
    "    if divisor *divisor>n:\n",
    "        return True\n",
    "    return is_prime(n,divisor+1)\n",
    "   \n",
    "n=int(input('enter any number:'))\n",
    "print(is_prime(n))\n"
   ]
  },
  {
   "cell_type": "code",
   "execution_count": 19,
   "id": "f8a33d23",
   "metadata": {},
   "outputs": [
    {
     "name": "stdout",
     "output_type": "stream",
     "text": [
      "enter the number:123\n",
      "6\n"
     ]
    }
   ],
   "source": [
    "#94. Develop a recursive function to calculate the sum of the digits of an integer.\n",
    "def sum_of_digit(n):\n",
    "    if n==0:\n",
    "        return False\n",
    "    return (n%10)+sum_of_digit(n//10)\n",
    "\n",
    "n=int(input('enter the number:'))\n",
    "print(sum_of_digit(n))"
   ]
  },
  {
   "cell_type": "code",
   "execution_count": 20,
   "id": "84672bc5",
   "metadata": {},
   "outputs": [
    {
     "name": "stdout",
     "output_type": "stream",
     "text": [
      "enter base2\n",
      "enter exponent4\n",
      "16\n"
     ]
    }
   ],
   "source": [
    "#95. Write a recursive function to calculate the power of an integer raised to an exponent.\n",
    "def power(base,exponent):\n",
    "    if exponent==0:\n",
    "        return 1\n",
    "    return base*power(base,exponent-1)\n",
    "\n",
    "base=int(input('enter base'))\n",
    "exp=int(input('enter exponent'))\n",
    "print(power(base,exp))"
   ]
  },
  {
   "cell_type": "code",
   "execution_count": 22,
   "id": "dfb66a90",
   "metadata": {},
   "outputs": [
    {
     "name": "stdout",
     "output_type": "stream",
     "text": [
      "enter a12\n",
      "enter b24\n",
      "12\n"
     ]
    }
   ],
   "source": [
    "#96. Implement a recursive function to find the greatest common divisor (GCD) of two numbers\n",
    "def gcd(a,b):\n",
    "    if b==0:\n",
    "        return a\n",
    "    return gcd(b,a%b)\n",
    "\n",
    "a=int(input('enter a'))\n",
    "b=int(input('enter b'))\n",
    "print(gcd(a,b))"
   ]
  },
  {
   "cell_type": "code",
   "execution_count": 23,
   "id": "d86b0a4c",
   "metadata": {},
   "outputs": [
    {
     "name": "stdout",
     "output_type": "stream",
     "text": [
      "enter stringabhinav\n",
      "vanihba\n"
     ]
    }
   ],
   "source": [
    "#97. Create a recursive function to reverse a string.\n",
    "def reverse_string(string):\n",
    "    if len(string)<=1:\n",
    "        return string\n",
    "    return reverse_string(string[1:])+string[0]\n",
    "\n",
    "string=input('enter string')\n",
    "print(reverse_string(string))"
   ]
  },
  {
   "cell_type": "code",
   "execution_count": 24,
   "id": "12c913fd",
   "metadata": {},
   "outputs": [
    {
     "name": "stdout",
     "output_type": "stream",
     "text": [
      "4\n"
     ]
    }
   ],
   "source": [
    "#98. Develop a recursive function to find the smallest value in an array.\n",
    "\n",
    "def find_smallest(arr):\n",
    "    if len(arr)==1:\n",
    "        return arr[0]\n",
    "    return min(arr[0],find_smallest(arr[1:]))\n",
    "\n",
    "arr=[23,45,67,8,43,9,32,4]\n",
    "print(find_smallest(arr))"
   ]
  },
  {
   "cell_type": "code",
   "execution_count": 28,
   "id": "63dd7efd",
   "metadata": {},
   "outputs": [
    {
     "name": "stdout",
     "output_type": "stream",
     "text": [
      "enter word:dad\n",
      "True\n"
     ]
    }
   ],
   "source": [
    "#99. Write a recursive function to determine whether a word is a palindrome\n",
    "def is_palindrome(word):\n",
    "    if len(word)<=1:\n",
    "        return True\n",
    "    if word[0]==word[-1]:\n",
    "        return is_palindrome(word[1:-1])\n",
    "    else:\n",
    "        return False\n",
    "word=input('enter word:')\n",
    "print(is_palindrome(word))"
   ]
  },
  {
   "cell_type": "code",
   "execution_count": 30,
   "id": "e9aae660",
   "metadata": {},
   "outputs": [
    {
     "name": "stdout",
     "output_type": "stream",
     "text": [
      "10\n"
     ]
    }
   ],
   "source": [
    "#100. Implement a recursive function to calculate the sum of elements of an array.\n",
    "def vector_sum(vector):\n",
    "    if len(vector)==0:\n",
    "        return 0\n",
    "    else:\n",
    "        return vector[0]+vector_sum(vector[1:])\n",
    "vector=[1,2,3,4]\n",
    "print(vector_sum(vector))"
   ]
  },
  {
   "cell_type": "code",
   "execution_count": null,
   "id": "75162c3c",
   "metadata": {},
   "outputs": [],
   "source": []
  }
 ],
 "metadata": {
  "kernelspec": {
   "display_name": "Python 3 (ipykernel)",
   "language": "python",
   "name": "python3"
  },
  "language_info": {
   "codemirror_mode": {
    "name": "ipython",
    "version": 3
   },
   "file_extension": ".py",
   "mimetype": "text/x-python",
   "name": "python",
   "nbconvert_exporter": "python",
   "pygments_lexer": "ipython3",
   "version": "3.11.5"
  }
 },
 "nbformat": 4,
 "nbformat_minor": 5
}
