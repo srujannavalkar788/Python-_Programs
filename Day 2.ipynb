{
 "cells": [
  {
   "cell_type": "code",
   "execution_count": null,
   "id": "64bce472",
   "metadata": {},
   "outputs": [],
   "source": [
    "#11. perimeter of square\n",
    "value=int(input(\"enter the value:\"))\n",
    "perimeter= 4*value\n",
    "print(\"perimeter of square is:\",perimeter)"
   ]
  },
  {
   "cell_type": "code",
   "execution_count": null,
   "id": "99ff0dee",
   "metadata": {},
   "outputs": [],
   "source": [
    "#12 circumference of circle\n",
    "r= int(input(\"enter the value:\"))\n",
    "c= 2*3.14*r\n",
    "print(\"circumference of circle is:\",c )"
   ]
  },
  {
   "cell_type": "code",
   "execution_count": null,
   "id": "febcb25d",
   "metadata": {},
   "outputs": [],
   "source": [
    "#13 pythagorean theorem\n",
    "import math\n",
    "a=int(input(\"enter the value:\"))\n",
    "b=int(input(\"enter the value:\"))\n",
    "c=math.sqrt(a**2+b**2)\n",
    "print(c)"
   ]
  },
  {
   "cell_type": "code",
   "execution_count": null,
   "id": "c803dbe4",
   "metadata": {},
   "outputs": [],
   "source": [
    "#14 volume of cone\n",
    "r=int(input(\"enter value of r:\"))\n",
    "h=int(input(\"enter value of h:\"))\n",
    "\n",
    "v=(1/3)*3.14*r*r*h\n",
    "print(\"volume of v\",v)"
   ]
  },
  {
   "cell_type": "code",
   "execution_count": null,
   "id": "ab765ac2",
   "metadata": {},
   "outputs": [],
   "source": [
    "#15 volume of sphere\n",
    "r=int(input(\"enter the radius:\"))\n",
    "v=(4/3)*3.14*r\n",
    "print(\"volume of sphere is:\",v)"
   ]
  },
  {
   "cell_type": "code",
   "execution_count": null,
   "id": "c5eea95c",
   "metadata": {},
   "outputs": [],
   "source": [
    "#16 distance formula\n",
    "x1=int(input(\"enter the value of x1:\"))\n",
    "x2=int(input(\"enter the value of x2:\"))\n",
    "y1=int(input(\"enter the value of y1:\"))\n",
    "y2=int(input(\"enter the value of y2:\"))\n",
    "\n",
    "d=math.sqrt((x2-x1)**2+(y2-y1)**2)\n",
    "print(d)"
   ]
  },
  {
   "cell_type": "code",
   "execution_count": null,
   "id": "f97dff04",
   "metadata": {},
   "outputs": [],
   "source": [
    "#17 simple intrest\n",
    "P=int(input(\"enter the value of P:\"))\n",
    "R=int(input(\"enter the value of R:\"))\n",
    "T=int(input(\"enter the value of T:\"))\n",
    "intrest=(P*R*T)/100\n",
    "print(intrest)"
   ]
  },
  {
   "cell_type": "code",
   "execution_count": null,
   "id": "dedb9431",
   "metadata": {},
   "outputs": [],
   "source": [
    "# 18 area of triangle\n",
    "b=int(input(\"enter the value:\"))\n",
    "h=int(input(\"enter the value:\"))\n",
    "a=(1/2)*(b*h)\n",
    "print(a)"
   ]
  },
  {
   "cell_type": "code",
   "execution_count": null,
   "id": "16aabf90",
   "metadata": {},
   "outputs": [],
   "source": [
    "# 19 speed \n",
    "distance =int(input(\"enter the distance:\"))\n",
    "time=float(input(\"enter the time:\"))\n",
    "\n",
    "speed = distance/time\n",
    "print(speed)"
   ]
  },
  {
   "cell_type": "code",
   "execution_count": null,
   "id": "d8322556",
   "metadata": {},
   "outputs": [],
   "source": [
    "# 20 area of trapazium\n",
    "b1=int(input(\"enter the value of b1:\"))\n",
    "b2=int(input(\"enter the value of b2:\"))\n",
    "h=int(input(\"enter the value of h:\"))\n",
    "\n",
    "area=(1/2)*(b1+b2)*h\n",
    "print(area)"
   ]
  }
 ],
 "metadata": {
  "kernelspec": {
   "display_name": "Python 3 (ipykernel)",
   "language": "python",
   "name": "python3"
  },
  "language_info": {
   "codemirror_mode": {
    "name": "ipython",
    "version": 3
   },
   "file_extension": ".py",
   "mimetype": "text/x-python",
   "name": "python",
   "nbconvert_exporter": "python",
   "pygments_lexer": "ipython3",
   "version": "3.11.5"
  }
 },
 "nbformat": 4,
 "nbformat_minor": 5
}
