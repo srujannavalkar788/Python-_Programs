{
 "cells": [
  {
   "cell_type": "code",
   "execution_count": 6,
   "id": "c724efce",
   "metadata": {},
   "outputs": [
    {
     "name": "stdout",
     "output_type": "stream",
     "text": [
      "25\n",
      "48\n"
     ]
    }
   ],
   "source": [
    "# 1 Write a Python program to create a lambda function that adds 15 to a given number passed in as an argument,\n",
    "#also create a lambda function that multiplies argument x with argument y and prints the result \n",
    "\n",
    "r=lambda a:a+15\n",
    "\n",
    "print(r(10))\n",
    "r=lambda x,y:x*y\n",
    "print(r(6,8))\n"
   ]
  },
  {
   "cell_type": "code",
   "execution_count": 13,
   "id": "c664c8c2",
   "metadata": {},
   "outputs": [
    {
     "name": "stdout",
     "output_type": "stream",
     "text": [
      "30\n",
      "45\n",
      "60\n",
      "75\n"
     ]
    }
   ],
   "source": [
    "#2 Write a Python program to create a function that takes one argument, and that argument will be multiplied with an unknown given number.\n",
    "#Sample Output:\n",
    "#Double the number of 15 = 30\n",
    "#Triple the number of 15 = 45\n",
    "#Quadruple the number of 15 = 60\n",
    "#Quintuple the number 15 = 75\n",
    "\n",
    "def fun_compute(n):\n",
    "    return lambda x:x*n\n",
    "\n",
    "result=fun_compute(2)\n",
    "print(result(15))\n",
    "result=fun_compute(3)\n",
    "print(result(15))\n",
    "result=fun_compute(4)\n",
    "print(result(15))\n",
    "result=fun_compute(5)\n",
    "print(result(15))"
   ]
  },
  {
   "cell_type": "code",
   "execution_count": 15,
   "id": "0ccefb15",
   "metadata": {},
   "outputs": [
    {
     "name": "stdout",
     "output_type": "stream",
     "text": [
      "subject makrs\n",
      "[('English', 88), ('Science', 90), ('Maths', 97), ('Social sciences', 82)]\n",
      "sort subject marks\n",
      "[('Maths', 97), ('Science', 90), ('English', 88), ('Social sciences', 82)]\n"
     ]
    }
   ],
   "source": [
    "#3 Write a Python program to sort a list of tuples using Lambda.\n",
    "\n",
    "subject_marks = [('English', 88), ('Science', 90), ('Maths', 97), ('Social sciences', 82)]\n",
    " \n",
    "print(\"subject makrs\")\n",
    "print(subject_marks)\n",
    "\n",
    "subject_marks.sort(key=lambda x:x[1] ,reverse=True)\n",
    "print( 'sort subject marks')\n",
    "print(subject_marks)"
   ]
  },
  {
   "cell_type": "code",
   "execution_count": 25,
   "id": "a7dc1241",
   "metadata": {},
   "outputs": [
    {
     "name": "stdout",
     "output_type": "stream",
     "text": [
      "[{'make': 'Nokia', 'model': 216, 'color': 'Black'}, {'make': 'Samsung', 'model': 7, 'color': 'Blue'}, {'make': 'Mi Max', 'model': '2', 'color': 'Gold'}]\n"
     ]
    }
   ],
   "source": [
    "#4  Write a Python program to sort a list of dictionaries using Lambda.\n",
    "\n",
    "d1=[{'make': 'Nokia', 'model': 216, 'color': 'Black'}, {'make': 'Mi Max', 'model': '2', 'color': 'Gold'}, \n",
    " {'make': 'Samsung', 'model': 7, 'color': 'Blue'}]\n",
    "sorted_model=sorted(d1,key=lambda x:x['color'])\n",
    "print(sorted_model)"
   ]
  },
  {
   "cell_type": "code",
   "execution_count": 31,
   "id": "97fdd24f",
   "metadata": {},
   "outputs": [
    {
     "name": "stdout",
     "output_type": "stream",
     "text": [
      "[2, 4, 6, 8, 10]\n",
      "[1, 3, 5, 7, 9]\n"
     ]
    }
   ],
   "source": [
    "#5Write a Python program to filter a list of integers using Lambda.\n",
    "num=[1,2,3,4,5,6,7,8,9,10]\n",
    "\n",
    "e_num=filter(lambda a: a%2==0 ,num)\n",
    "print(list(e_num))\n",
    "\n",
    "o_num=filter(lambda a: a%2!=0,num)\n",
    "print(list(o_num))"
   ]
  },
  {
   "cell_type": "code",
   "execution_count": 39,
   "id": "adbe9d35",
   "metadata": {},
   "outputs": [
    {
     "name": "stdout",
     "output_type": "stream",
     "text": [
      "[1, 4, 9, 16, 25, 36, 49, 64, 81]\n",
      "[1, 8, 27, 64, 125, 216, 343, 512, 729]\n"
     ]
    }
   ],
   "source": [
    "#6 Write a Python program to square and cube every number in a given list of integers using Lambda.\n",
    "\n",
    "num=[1,2,3,4,5,6,7,8,9]\n",
    "square_cube=map(lambda x:x**2,num)\n",
    "\n",
    "print(list(square_cube))\n",
    "square_cube=map(lambda x:x**3,num)\n",
    "print(list(square_cube))"
   ]
  },
  {
   "cell_type": "code",
   "execution_count": 40,
   "id": "042789ba",
   "metadata": {},
   "outputs": [
    {
     "name": "stdout",
     "output_type": "stream",
     "text": [
      "True\n"
     ]
    }
   ],
   "source": [
    "#7 Write a Python program to find whether a given string starts with a given character using Lambda\n",
    "start_with=lambda x: True if x.startswith('p') else False\n",
    "\n",
    "print(start_with('python'))"
   ]
  },
  {
   "cell_type": "code",
   "execution_count": 41,
   "id": "f6a79d17",
   "metadata": {},
   "outputs": [],
   "source": [
    "#8 Write a  Python program to extract year, month, date and time using Lambda\n",
    "\n",
    "import datetime"
   ]
  },
  {
   "cell_type": "code",
   "execution_count": 51,
   "id": "916703c1",
   "metadata": {},
   "outputs": [
    {
     "name": "stdout",
     "output_type": "stream",
     "text": [
      "2024-03-08 10:02:50.024484\n",
      "2024\n",
      "8\n",
      "10:02:50.024484\n",
      "3\n"
     ]
    }
   ],
   "source": [
    "now=datetime.datetime.now()\n",
    "\n",
    "print(now)\n",
    "\n",
    "year=lambda x:x.year\n",
    "\n",
    "month=lambda x:x.month\n",
    "\n",
    "day=lambda x: x.day\n",
    "\n",
    "t=lambda x: x.time()\n",
    "\n",
    "print(year(now))\n",
    "print(day(now))\n",
    "print (t(now))\n",
    "print(month(now))"
   ]
  },
  {
   "cell_type": "code",
   "execution_count": 52,
   "id": "8e5b3e39",
   "metadata": {},
   "outputs": [
    {
     "name": "stdout",
     "output_type": "stream",
     "text": [
      "Fibonacci series upto 2:\n",
      "[0, 1]\n",
      "\n",
      "Fibonacci series upto 5:\n",
      "[0, 1, 1, 2, 3]\n",
      "\n",
      "Fibonacci series upto 6:\n",
      "[0, 1, 1, 2, 3, 5]\n",
      "\n",
      "Fibonacci series upto 9:\n",
      "[0, 1, 1, 2, 3, 5, 8, 13, 21]\n"
     ]
    }
   ],
   "source": [
    "#9  print fibonacci series using lambda function\n",
    "\n",
    "from functools import reduce\n",
    "\n",
    "\n",
    "fib_series = lambda n: reduce(lambda x, _: x + [x[-1] + x[-2]], range(n - 2), [0, 1])\n",
    "\n",
    "\n",
    "print(\"Fibonacci series upto 2:\")\n",
    "print(fib_series(2))\n",
    "\n",
    "\n",
    "print(\"\\nFibonacci series upto 5:\")\n",
    "print(fib_series(5))\n",
    "\n",
    "\n",
    "print(\"\\nFibonacci series upto 6:\")\n",
    "print(fib_series(6))\n",
    "\n",
    "\n",
    "print(\"\\nFibonacci series upto 9:\")\n",
    "print(fib_series(9)) \n"
   ]
  },
  {
   "cell_type": "code",
   "execution_count": 53,
   "id": "1c06fb6c",
   "metadata": {},
   "outputs": [
    {
     "name": "stdout",
     "output_type": "stream",
     "text": [
      "[1, 2, 8, 9]\n"
     ]
    }
   ],
   "source": [
    "#10 Write a Python program to find the intersection of two given arrays using Lambda.\n",
    "num1 = [1, 2, 3, 5, 7, 8, 9, 10]\n",
    "num2 = [1, 2, 4, 8, 9]\n",
    "\n",
    "res=filter(lambda x:x in num1,num2)\n",
    "print(list(res))"
   ]
  },
  {
   "cell_type": "code",
   "execution_count": null,
   "id": "441eb529",
   "metadata": {},
   "outputs": [],
   "source": []
  }
 ],
 "metadata": {
  "kernelspec": {
   "display_name": "Python 3 (ipykernel)",
   "language": "python",
   "name": "python3"
  },
  "language_info": {
   "codemirror_mode": {
    "name": "ipython",
    "version": 3
   },
   "file_extension": ".py",
   "mimetype": "text/x-python",
   "name": "python",
   "nbconvert_exporter": "python",
   "pygments_lexer": "ipython3",
   "version": "3.11.5"
  }
 },
 "nbformat": 4,
 "nbformat_minor": 5
}
