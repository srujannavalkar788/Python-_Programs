{
 "cells": [
  {
   "cell_type": "code",
   "execution_count": 1,
   "id": "2bc1fcb7",
   "metadata": {},
   "outputs": [],
   "source": [
    "#1 square root of a number using def function\n",
    "def sqrt(num):\n",
    "    a=num*0.5\n",
    "    print(a)"
   ]
  },
  {
   "cell_type": "code",
   "execution_count": 3,
   "id": "5557c73f",
   "metadata": {},
   "outputs": [
    {
     "name": "stdout",
     "output_type": "stream",
     "text": [
      "enter any number:24\n",
      "12.0\n"
     ]
    }
   ],
   "source": [
    "n=int(input(\"enter any number:\"))\n",
    "sqrt(n)"
   ]
  },
  {
   "cell_type": "code",
   "execution_count": 4,
   "id": "ffe3d9b9",
   "metadata": {},
   "outputs": [],
   "source": [
    "#2 eligible for voting or not\n",
    "\n",
    "def vote(age):\n",
    "    if age>=18:\n",
    "        print(\"you are eligible for voting:\")\n",
    "    else:\n",
    "        print(\"you are not eligible\")"
   ]
  },
  {
   "cell_type": "code",
   "execution_count": 6,
   "id": "2f2c23a2",
   "metadata": {},
   "outputs": [
    {
     "name": "stdout",
     "output_type": "stream",
     "text": [
      "enter your age:12\n",
      "you are not eligible\n"
     ]
    }
   ],
   "source": [
    "age=int(input('enter your age:'))\n",
    "vote(age)"
   ]
  },
  {
   "cell_type": "code",
   "execution_count": 14,
   "id": "a629922b",
   "metadata": {},
   "outputs": [],
   "source": [
    "# 3 \n",
    "def speed():\n",
    "    dis=int(input('enter the distance:'))\n",
    "    time=float(input('enter the time:'))\n",
    "    s=dis/time\n",
    "    print('speed is',s,'kmph')"
   ]
  },
  {
   "cell_type": "code",
   "execution_count": 15,
   "id": "64fe7439",
   "metadata": {},
   "outputs": [
    {
     "name": "stdout",
     "output_type": "stream",
     "text": [
      "enter the distance:60\n",
      "enter the time:2\n",
      "speed is 30.0 kmph\n"
     ]
    }
   ],
   "source": [
    "speed()"
   ]
  },
  {
   "cell_type": "code",
   "execution_count": 20,
   "id": "6d6db242",
   "metadata": {},
   "outputs": [],
   "source": [
    "#4\n",
    "def GCD_HCF():\n",
    "    x=int(input('enter any number:'))\n",
    "    y=int(input('enter any number:'))\n",
    "    while (y!=0):\n",
    "        x,y=y,x%y\n",
    "        print(x)"
   ]
  },
  {
   "cell_type": "code",
   "execution_count": 21,
   "id": "e3b89b12",
   "metadata": {},
   "outputs": [
    {
     "name": "stdout",
     "output_type": "stream",
     "text": [
      "enter any number:24\n",
      "enter any number:21\n",
      "21\n",
      "3\n"
     ]
    }
   ],
   "source": [
    "GCD_HCF()"
   ]
  },
  {
   "cell_type": "code",
   "execution_count": 28,
   "id": "df6b8d8f",
   "metadata": {},
   "outputs": [],
   "source": [
    "#5\n",
    "def fact():\n",
    "    n=int(input('enter any number:'))\n",
    "    res=1\n",
    "    a=1\n",
    "    while(a<=n):\n",
    "        res=res*a\n",
    "        a=a+1\n",
    "    print(res)"
   ]
  },
  {
   "cell_type": "code",
   "execution_count": 30,
   "id": "825cfea3",
   "metadata": {},
   "outputs": [
    {
     "name": "stdout",
     "output_type": "stream",
     "text": [
      "enter any number:4\n",
      "24\n"
     ]
    }
   ],
   "source": [
    "fact()"
   ]
  },
  {
   "cell_type": "code",
   "execution_count": 31,
   "id": "ebad9a1e",
   "metadata": {},
   "outputs": [],
   "source": [
    "#6 all factor of a number\n",
    "\n",
    "def factors():\n",
    "    n=int(input('enter any number:'))\n",
    "    print('all factors')\n",
    "    i=1\n",
    "    while(i<=n):\n",
    "        if n%i==0:\n",
    "            print(i)\n",
    "        i=i+1\n"
   ]
  },
  {
   "cell_type": "code",
   "execution_count": 32,
   "id": "1db6a0b6",
   "metadata": {},
   "outputs": [
    {
     "name": "stdout",
     "output_type": "stream",
     "text": [
      "enter any number:46\n",
      "all factors\n",
      "1\n",
      "2\n",
      "23\n",
      "46\n"
     ]
    }
   ],
   "source": [
    "factors()"
   ]
  },
  {
   "cell_type": "code",
   "execution_count": 35,
   "id": "9f019155",
   "metadata": {},
   "outputs": [],
   "source": [
    "#7 DECIMAL TO BINARY\n",
    "def D_B():\n",
    "    num=int(input('enter any number:'))\n",
    "    bin=0\n",
    "    p=1\n",
    "    n=num\n",
    "    while(n>0):\n",
    "        rem=int(n % 2)\n",
    "        bin=bin+rem*p\n",
    "        p=p*10\n",
    "        n=n/2\n",
    "    print(\"binary number of\",num,\"is\",bin)"
   ]
  },
  {
   "cell_type": "code",
   "execution_count": 36,
   "id": "1d5e3e44",
   "metadata": {},
   "outputs": [
    {
     "name": "stdout",
     "output_type": "stream",
     "text": [
      "enter any number:10\n",
      "binary number of 10 is 1010\n"
     ]
    }
   ],
   "source": [
    "D_B()"
   ]
  },
  {
   "cell_type": "code",
   "execution_count": 37,
   "id": "cc885494",
   "metadata": {},
   "outputs": [],
   "source": [
    "#8\n",
    "def check():\n",
    "    a=int(input('enter any number:'))\n",
    "    if a%2==0:\n",
    "        print('even')\n",
    "    else:\n",
    "        print('odd')"
   ]
  },
  {
   "cell_type": "code",
   "execution_count": 38,
   "id": "ac2f26c9",
   "metadata": {},
   "outputs": [
    {
     "name": "stdout",
     "output_type": "stream",
     "text": [
      "enter any number:4\n",
      "even\n"
     ]
    }
   ],
   "source": [
    "check()"
   ]
  },
  {
   "cell_type": "code",
   "execution_count": 39,
   "id": "fc530353",
   "metadata": {},
   "outputs": [],
   "source": [
    "#9\n",
    "def check(a):\n",
    "    if a>=0:\n",
    "        print('positive')\n",
    "    else:\n",
    "        print('negative')\n",
    "        "
   ]
  },
  {
   "cell_type": "code",
   "execution_count": 41,
   "id": "8a26fa84",
   "metadata": {},
   "outputs": [
    {
     "name": "stdout",
     "output_type": "stream",
     "text": [
      "enter any number:34\n",
      "positive\n"
     ]
    }
   ],
   "source": [
    "n=int(input('enter any number:'))\n",
    "check(n)"
   ]
  },
  {
   "cell_type": "code",
   "execution_count": 42,
   "id": "d76e4e4c",
   "metadata": {},
   "outputs": [],
   "source": [
    "#10\n",
    "def fibonacci():\n",
    "    n=int(input('enter the series value:'))\n",
    "    a,b=0,1\n",
    "    for i in range(n):\n",
    "        print(a,end=' ')\n",
    "        a,b=b,a+b\n",
    "    print()"
   ]
  },
  {
   "cell_type": "code",
   "execution_count": 44,
   "id": "55183b7e",
   "metadata": {},
   "outputs": [
    {
     "name": "stdout",
     "output_type": "stream",
     "text": [
      "enter the series value:10\n",
      "0 1 1 2 3 5 8 13 21 34 \n"
     ]
    }
   ],
   "source": [
    "fibonacci()"
   ]
  },
  {
   "cell_type": "code",
   "execution_count": null,
   "id": "00ea5de3",
   "metadata": {},
   "outputs": [],
   "source": []
  }
 ],
 "metadata": {
  "kernelspec": {
   "display_name": "Python 3 (ipykernel)",
   "language": "python",
   "name": "python3"
  },
  "language_info": {
   "codemirror_mode": {
    "name": "ipython",
    "version": 3
   },
   "file_extension": ".py",
   "mimetype": "text/x-python",
   "name": "python",
   "nbconvert_exporter": "python",
   "pygments_lexer": "ipython3",
   "version": "3.11.5"
  }
 },
 "nbformat": 4,
 "nbformat_minor": 5
}
