{
 "cells": [
  {
   "cell_type": "code",
   "execution_count": 6,
   "id": "ea12b0b5",
   "metadata": {},
   "outputs": [
    {
     "name": "stdout",
     "output_type": "stream",
     "text": [
      "(0,0):1\n",
      "(0,1):2\n",
      "(0,2):3\n",
      "(1,0):4\n",
      "(1,1):5\n",
      "(1,2):6\n",
      "(2,0):7\n",
      "(2,1):8\n",
      "(2,2):9\n",
      "[1, 2, 3]\n",
      "[4, 5, 6]\n",
      "[7, 8, 9]\n",
      "15\n"
     ]
    }
   ],
   "source": [
    "#81. Write a program that fills a 3x3 matrix with values entered by the user and displays the sum of the main diagonal values.\n",
    "\n",
    "matrix=[[0,0,0],\n",
    "        [0,0,0],\n",
    "        [0,0,0]]\n",
    "\n",
    "for i in range(3):\n",
    "    for j in range(3):\n",
    "        value=int(input(\"({},{}):\".format(i,j)))\n",
    "        matrix[i][j]=value\n",
    "sum_diagonal=0\n",
    "\n",
    "for i in range(3):\n",
    "    sum_diagonal+=matrix[i][i]\n",
    "    \n",
    "for row in matrix:\n",
    "    print(row)\n",
    "print(sum_diagonal)"
   ]
  },
  {
   "cell_type": "code",
   "execution_count": 9,
   "id": "cdfea82a",
   "metadata": {},
   "outputs": [
    {
     "name": "stdout",
     "output_type": "stream",
     "text": [
      "[12, 49, 52, 89]\n",
      "[90, 48, 57, 64]\n",
      "[48, 92, 35, 27]\n",
      "[75, 22, 29, 6]\n",
      "\n",
      "[12, 90, 48, 75]\n",
      "[49, 48, 92, 22]\n",
      "[52, 57, 35, 29]\n",
      "[89, 64, 27, 6]\n"
     ]
    }
   ],
   "source": [
    "#82. Write a program that fills a 4x4 matrix with random values and displays the transposed matrix.\n",
    "import random\n",
    "\n",
    "matrix=[[0,0,0,0],\n",
    "        [0,0,0,0],\n",
    "        [0,0,0,0],\n",
    "        [0,0,0,0]]\n",
    "\n",
    "for i in range(4):\n",
    "    for j in range(4):\n",
    "        matrix[i][j]=random.randint(1,100)\n",
    "\n",
    "for row in matrix:\n",
    "    print(row)\n",
    "print()\n",
    "    \n",
    "trans_matrix=[[0,0,0,0],\n",
    "              [0,0,0,0],\n",
    "              [0,0,0,0],\n",
    "              [0,0,0,0]]\n",
    "\n",
    "for i in range(4):\n",
    "    for j in range(4):\n",
    "        trans_matrix[i][j]=matrix[j][i]\n",
    "\n",
    "for row in trans_matrix:\n",
    "    print(row)"
   ]
  },
  {
   "cell_type": "code",
   "execution_count": 3,
   "id": "bd99e364",
   "metadata": {},
   "outputs": [
    {
     "name": "stdout",
     "output_type": "stream",
     "text": [
      "(1,1):1\n",
      "(1,2):2\n",
      "(2,1):3\n",
      "(2,2):4\n",
      "(1,1):5\n",
      "(1,2):6\n",
      "(2,1):7\n",
      "(2,2):8\n",
      "12\n"
     ]
    }
   ],
   "source": [
    "#83. Write a program that reads two 2x2 matrices and displays the sum of the two matrices.\n",
    "matrix1=[[0,0],[0,0]]\n",
    "\n",
    "matrix2=[[0,0],[0,0]]\n",
    "\n",
    "sum_matrix=[[0,0],[0,0]]\n",
    "\n",
    "for i in range(2):\n",
    "    for j in range(2):\n",
    "        matrix1[i][j]=int(input(f\"({i + 1},{j + 1}):\"))\n",
    "        \n",
    "for i in range(2):\n",
    "    for j in range(2):\n",
    "        matrix2[i][j]=int(input(f\"({i + 1},{j + 1}):\"))\n",
    "        \n",
    "        \n",
    "        \n",
    "for i in range(2):\n",
    "    for  j in range(2):\n",
    "        sum_matrix=matrix1[i][j] + matrix2[i][j]\n",
    "\n",
    "        \n",
    "print(sum_matrix)"
   ]
  },
  {
   "cell_type": "code",
   "execution_count": null,
   "id": "528a333a",
   "metadata": {},
   "outputs": [],
   "source": [
    "#84. Write a program that fills a 5x5 matrix with integers and displays the largest value in the matrix and its position.\n",
    "\n",
    "matrix=[[0]*5 for _ in range(5)]\n",
    "\n",
    "for i in range(5):\n",
    "    for j in range(5):\n",
    "        matrix[i][j]=int(input(f'({i+1},{j+1}):'))\n",
    "        \n",
    "max_value=marix[0][0]\n",
    "max_position=(0,0)\n",
    "\n"
   ]
  }
 ],
 "metadata": {
  "kernelspec": {
   "display_name": "Python 3 (ipykernel)",
   "language": "python",
   "name": "python3"
  },
  "language_info": {
   "codemirror_mode": {
    "name": "ipython",
    "version": 3
   },
   "file_extension": ".py",
   "mimetype": "text/x-python",
   "name": "python",
   "nbconvert_exporter": "python",
   "pygments_lexer": "ipython3",
   "version": "3.11.5"
  }
 },
 "nbformat": 4,
 "nbformat_minor": 5
}
