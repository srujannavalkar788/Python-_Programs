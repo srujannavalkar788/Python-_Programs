{
 "cells": [
  {
   "cell_type": "code",
   "execution_count": null,
   "id": "1aa8752d",
   "metadata": {},
   "outputs": [],
   "source": [
    "# 42 vote eligibility\n",
    "age=int(input(\"enter your age:\"))\n",
    "\n",
    "if age>=18:\n",
    "    print(\"you are eligible for vote\")\n",
    "else:\n",
    "    print(\"you are not eligible for vote\")"
   ]
  },
  {
   "cell_type": "code",
   "execution_count": null,
   "id": "884502c0",
   "metadata": {},
   "outputs": [],
   "source": [
    "#43 discount \n",
    "amount=int(input(\"enter the amount:\"))\n",
    "if amount>=200:\n",
    "    discount=amount*0.1\n",
    "    final_amount=amount-discount\n",
    "    print(\"you get 10% discount!,final amount:\",final_amount)\n",
    "else:\n",
    "    print(\"you didn't get any discount\")"
   ]
  },
  {
   "cell_type": "code",
   "execution_count": null,
   "id": "a152fe2e",
   "metadata": {},
   "outputs": [],
   "source": [
    "# 44 user login\n",
    "user_name=str(input(\"enter your user name:\"))\n",
    "password=str(input(\"enter your password:\"))\n",
    "\n",
    "if user_name1==\"srujan\" and password==\"pass123\":\n",
    "    print(\"you have login successfully\")\n",
    "else:\n",
    "    print(\"invalid user name and password\")"
   ]
  },
  {
   "cell_type": "code",
   "execution_count": null,
   "id": "6ff3d6e6",
   "metadata": {},
   "outputs": [],
   "source": [
    "#45 shape identification\n",
    "side=int(input(\"enter the side:\"))\n",
    "\n",
    "if side==3:\n",
    "    print(\"it is a triangle\")\n",
    "elif side==4:\n",
    "    print(\"it is a square\")\n",
    "elif side==5:\n",
    "    print(\"it is a pentagon\")\n",
    "else:\n",
    "    print(\" I don't know\")"
   ]
  },
  {
   "cell_type": "code",
   "execution_count": null,
   "id": "6036afd9",
   "metadata": {},
   "outputs": [],
   "source": [
    "# 46 movie ticket pricing\n",
    "name=str(input(\"enter your name:\"))\n",
    "quali=str(input(\"you are student or not:\"))\n",
    "movie_ticket_price=400\n",
    "\n",
    "if quali==\"yes\":\n",
    "    discount=movie_ticket_price*0.2\n",
    "    final_amount=movie_ticket_price-discount\n",
    "    print(\"your final amount is\",final_amount)\n",
    "else:\n",
    "    print(\"no discount\",movie_ticket_price)\n",
    "        "
   ]
  },
  {
   "cell_type": "code",
   "execution_count": null,
   "id": "37846557",
   "metadata": {},
   "outputs": [],
   "source": [
    "#47 speed violation\n",
    "speed=int(input(\"enter the speed of vechicle:\"))\n",
    "if speed>=100:\n",
    "    print(\"over speeding \")\n",
    "    print(\"fine=500\")\n",
    "elif speed>=70 or speed<100:\n",
    "    print(\"moderate speeding\")\n",
    "    print(\"fine=300\")\n",
    "elif speed<50:\n",
    "    print(\"nice driving\")"
   ]
  },
  {
   "cell_type": "code",
   "execution_count": null,
   "id": "05e90b2f",
   "metadata": {},
   "outputs": [],
   "source": [
    "# 48 AIRLINE PRICING\n",
    "distance=int(input(\"enter the diatance you want to travel:\"))\n",
    "if distance>=500:\n",
    "    ticket_price=5000\n",
    "    print(\"ticket price is:\",ticket_price)\n",
    "elif distance>=300 or distance<500:\n",
    "    ticket_price=3500\n",
    "    print(\"ticket price is:\",ticket_price)\n",
    "    \n",
    "\n",
    "        "
   ]
  },
  {
   "cell_type": "code",
   "execution_count": null,
   "id": "47bb29e0",
   "metadata": {},
   "outputs": [],
   "source": [
    "# 49 schoolarship eligibility\n",
    "anual_income=int(input(\"enter your anual income:\"))\n",
    "\n",
    "if anual_income<800000:\n",
    "    print(\"you are eligible for scholarship\")\n",
    "else:\n",
    "    print(\"you are not eligible scholarship\")"
   ]
  },
  {
   "cell_type": "code",
   "execution_count": null,
   "id": "f6108e4b",
   "metadata": {},
   "outputs": [],
   "source": [
    "# 50 ELECTRICITY BILL CHARGE CALCULATION\n",
    "UNIT=int(input(\"enter the amount of unit:\"))\n",
    "\n",
    "if unit>=1 or unit<100"
   ]
  }
 ],
 "metadata": {
  "kernelspec": {
   "display_name": "Python 3 (ipykernel)",
   "language": "python",
   "name": "python3"
  },
  "language_info": {
   "codemirror_mode": {
    "name": "ipython",
    "version": 3
   },
   "file_extension": ".py",
   "mimetype": "text/x-python",
   "name": "python",
   "nbconvert_exporter": "python",
   "pygments_lexer": "ipython3",
   "version": "3.11.5"
  }
 },
 "nbformat": 4,
 "nbformat_minor": 5
}
