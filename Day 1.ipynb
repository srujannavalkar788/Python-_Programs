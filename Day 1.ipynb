{
 "cells": [
  {
   "cell_type": "code",
   "execution_count": 3,
   "id": "c5b3f684",
   "metadata": {},
   "outputs": [
    {
     "name": "stdout",
     "output_type": "stream",
     "text": [
      "enter the number:4\n",
      "4\n",
      "square root of : (4, 2.0)\n"
     ]
    }
   ],
   "source": [
    "#1. python program to calculate square root\n",
    "num=int(input(\"enter the number:\"))\n",
    "print(num)\n",
    "\n",
    "num_sqrt= num**0.5\n",
    "print(\"square root of :\",(num,num_sqrt))"
   ]
  },
  {
   "cell_type": "code",
   "execution_count": 4,
   "id": "7d3cbb37",
   "metadata": {},
   "outputs": [
    {
     "name": "stdout",
     "output_type": "stream",
     "text": [
      "enter the radius:45\n",
      "25434.0\n"
     ]
    }
   ],
   "source": [
    "#2. Area of Sphere\n",
    "r=int(input(\"enter the radius:\"))\n",
    "area_of_sphere= 4*3.14*r**2\n",
    "print(area_of_sphere)"
   ]
  },
  {
   "cell_type": "code",
   "execution_count": 6,
   "id": "bf8a7566",
   "metadata": {},
   "outputs": [
    {
     "name": "stdout",
     "output_type": "stream",
     "text": [
      "enter the length:4\n",
      "enter the width:6\n",
      "enter the height:3\n",
      "108\n"
     ]
    }
   ],
   "source": [
    "#3. Area of cuiboid\n",
    "l=int(input(\"enter the length:\"))\n",
    "w=int(input(\"enter the width:\"))\n",
    "h=int(input(\"enter the height:\"))\n",
    "\n",
    "area_of_cuiboid= 2*l*w + 2*l*h + 2*h*w\n",
    "print(area_of_cuiboid)"
   ]
  },
  {
   "cell_type": "code",
   "execution_count": 7,
   "id": "d8751746",
   "metadata": {},
   "outputs": [
    {
     "name": "stdout",
     "output_type": "stream",
     "text": [
      "enter year:2014\n",
      "enter month:6\n",
      "     June 2014\n",
      "Mo Tu We Th Fr Sa Su\n",
      "                   1\n",
      " 2  3  4  5  6  7  8\n",
      " 9 10 11 12 13 14 15\n",
      "16 17 18 19 20 21 22\n",
      "23 24 25 26 27 28 29\n",
      "30\n",
      "\n"
     ]
    }
   ],
   "source": [
    "#4. program to display calender of month and year\n",
    "import calendar\n",
    "yy=int(input(\"enter year:\"))\n",
    "mm=int(input(\"enter month:\"))\n",
    "\n",
    "print(calendar.month(yy,mm))"
   ]
  },
  {
   "cell_type": "code",
   "execution_count": null,
   "id": "e99ae140",
   "metadata": {},
   "outputs": [],
   "source": [
    "#5. if condition program\n",
    "a=int(45)\n",
    "b=int(55)\n",
    "if b<a:\n",
    "    print(\"a is smaller.\")\n",
    "print(\"a is not smaller.\")"
   ]
  },
  {
   "cell_type": "code",
   "execution_count": null,
   "id": "46288d41",
   "metadata": {},
   "outputs": [],
   "source": [
    "#6. if else condition program\n",
    "a=int(89)\n",
    "b=int(76)\n",
    "if a>b:\n",
    "    print(\"a is greater.\")\n",
    "else:\n",
    "    print(\"a is smaller.\")"
   ]
  },
  {
   "cell_type": "code",
   "execution_count": null,
   "id": "5a9030db",
   "metadata": {},
   "outputs": [],
   "source": [
    "#7. if else elif condition program\n",
    "a=int(input(\"enter the number:\"))\n",
    "b=int(input(\"enter the number:\"))\n",
    "\n",
    "if a>b:\n",
    "    print(\"a is greater than b.\")\n",
    "elif a<b:\n",
    "    print(\"a is smaller than b.\")\n",
    "elif a==b:\n",
    "    print(\"a is equal to b.\")\n",
    "else:\n",
    "    print(\"a and b are not equal.\")"
   ]
  },
  {
   "cell_type": "code",
   "execution_count": null,
   "id": "d598b31a",
   "metadata": {},
   "outputs": [],
   "source": [
    "#8. salary comparision of two employee\n",
    "OM_salary=float(input(\"OM please enter your salary:\")) \n",
    "RAM_salary=float(input(\"RAM please enter your salary:\"))\n",
    "\n",
    "if OM_salary > RAM_salary: print(\"OM is more experienced than RAM.\") \n",
    "elif RAM_salary > OM_salary:\n",
    "    print(\"RAM is more experienced than OM.\") \n",
    "elif OM_salary==RAM_salary:\n",
    "    print(\"both are experienced.\")"
   ]
  },
  {
   "cell_type": "code",
   "execution_count": null,
   "id": "85851db8",
   "metadata": {},
   "outputs": [],
   "source": [
    "#9. conversion of kilometer into miles\n",
    "kilometer=int(input(\"enter value in  kilometer:\"))\n",
    "\n",
    "conv_fac=0.621371\n",
    "\n",
    "miles=kilometer*conv_fac\n",
    "print(\"value of kilometers is:\",miles,\"miles\")"
   ]
  },
  {
   "cell_type": "code",
   "execution_count": null,
   "id": "704b1be8",
   "metadata": {},
   "outputs": [],
   "source": [
    "#10. simple calculator\n",
    "num1=int(input(\"enter first number:\"))\n",
    "num2=int(input(\"enter second number:\"))\n",
    "opereation=input(\"enter the operation:\")\n",
    "choice= +,-,*,/\n",
    "if choice= +:\n",
    "    print(num1 + num2)\n",
    "elif choice= - :\n",
    "    print(num1- num2)\n",
    "elif choice = *:\n",
    "    print(num1 * num2)\n",
    "elif choice= /:\n",
    "    print(num1 /num2)"
   ]
  }
 ],
 "metadata": {
  "kernelspec": {
   "display_name": "Python 3 (ipykernel)",
   "language": "python",
   "name": "python3"
  },
  "language_info": {
   "codemirror_mode": {
    "name": "ipython",
    "version": 3
   },
   "file_extension": ".py",
   "mimetype": "text/x-python",
   "name": "python",
   "nbconvert_exporter": "python",
   "pygments_lexer": "ipython3",
   "version": "3.11.5"
  }
 },
 "nbformat": 4,
 "nbformat_minor": 5
}
