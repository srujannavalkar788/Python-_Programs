{
 "cells": [
  {
   "cell_type": "code",
   "execution_count": 3,
   "id": "1ac50966",
   "metadata": {},
   "outputs": [
    {
     "name": "stdout",
     "output_type": "stream",
     "text": [
      "86\n",
      "2\n",
      "643\n",
      "5\n"
     ]
    }
   ],
   "source": [
    "#1. Write a Python program to find the maximum and minimum value of a given flattened array.\n",
    "\n",
    "array1=[2,3,4,86,38,40,4]\n",
    "array2=[5,74,643,89,42,7]\n",
    "print(max(array1))\n",
    "print(min(array1))\n",
    "\n",
    "print(max(array2))\n",
    "print(min(array2))"
   ]
  },
  {
   "cell_type": "code",
   "execution_count": 18,
   "id": "36cd3d09",
   "metadata": {},
   "outputs": [
    {
     "name": "stdout",
     "output_type": "stream",
     "text": [
      "[[0 1 2]\n",
      " [3 4 5]\n",
      " [6 7 8]]\n",
      "max value in x is: 8\n",
      "min value in x is: 0\n"
     ]
    }
   ],
   "source": [
    "#2. Write a NumPy program to get the minimum and maximum value of a given array along the second axis. \n",
    "import numpy as np\n",
    "x=np.arange(9).reshape((3,3))\n",
    "print(x)\n",
    "\n",
    "print(\"max value in x is:\",np.amax(x))\n",
    "print(\"min value in x is:\",np.amin(x))"
   ]
  },
  {
   "cell_type": "code",
   "execution_count": 36,
   "id": "c1c721d3",
   "metadata": {},
   "outputs": [
    {
     "name": "stdout",
     "output_type": "stream",
     "text": [
      "mean of the data is: 429.9310344827586\n"
     ]
    }
   ],
   "source": [
    "#3 MEAN\n",
    "data=[23,46,364,86,44,76,8,896,4,2,4,4,4,4,4,4,56,800,6,5,80,5,3,6,841,35,8995,3,60]\n",
    "\n",
    "mean=sum(data)/len(data)\n",
    "print(\"mean of the data is:\",mean)"
   ]
  },
  {
   "cell_type": "code",
   "execution_count": 47,
   "id": "5cf8bf12",
   "metadata": {},
   "outputs": [
    {
     "name": "stdout",
     "output_type": "stream",
     "text": [
      "[2, 3, 3, 4, 4, 4, 4, 4, 4, 4, 5, 5, 6, 6, 8, 23, 35, 44, 46, 56, 60, 76, 80, 86, 364, 800, 841, 896, 8995]\n",
      "median of the data is: 15.0\n"
     ]
    }
   ],
   "source": [
    "#4 MEDIAN\n",
    "sorted_data=sorted(data)\n",
    "print(sorted_data)\n",
    "median=(len(sorted_data)+1)/2\n",
    "print('median of the data is:',median)\n",
    "\n"
   ]
  },
  {
   "cell_type": "code",
   "execution_count": 42,
   "id": "64636a04",
   "metadata": {},
   "outputs": [
    {
     "name": "stdout",
     "output_type": "stream",
     "text": [
      "The mode(s) of the data is/are: [4]\n"
     ]
    }
   ],
   "source": [
    "#5MODE\n",
    "def find_mode(_sorted_data):\n",
    "    data_counts = {}# Create a dictionary to store the frequency of each data point.\n",
    "    for item in sorted_data:\n",
    "        \n",
    "        if item in data_counts:\n",
    "            data_counts[item] += 1\n",
    "        else:\n",
    "            data_counts[item] = 1\n",
    "    max_count = max(data_counts.values())# Find the data point(s) with the highest frequency.\n",
    "    modes = [item for item, count in data_counts.items() if count == max_count]\n",
    "\n",
    "  # Return the mode(s) only if there's a unique most frequent value(s).\n",
    "    return modes if max_count > 1 else None\n",
    "\n",
    "# Example usage\n",
    "modes = find_mode(sorted_data)\n",
    "print(f\"The mode(s) of the data is/are: {modes}\")"
   ]
  },
  {
   "cell_type": "code",
   "execution_count": 43,
   "id": "3b61c7b6",
   "metadata": {},
   "outputs": [],
   "source": [
    "#6\n",
    "import statistics"
   ]
  },
  {
   "cell_type": "code",
   "execution_count": 46,
   "id": "61c89043",
   "metadata": {},
   "outputs": [
    {
     "name": "stdout",
     "output_type": "stream",
     "text": [
      "mean of the data is: 429.9310344827586\n",
      "mode of the data is: 4\n",
      "median of the data is: 8\n",
      "standard deviation of the data is: 1667.5974148250034\n",
      "variance of the data is: 2780881.1379310344\n"
     ]
    }
   ],
   "source": [
    "print(\"mean of the data is:\",statistics.mean(sorted_data))\n",
    "print(\"mode of the data is:\",statistics.mode(sorted_data))\n",
    "print(\"median of the data is:\",statistics.median(sorted_data))\n",
    "print(\"standard deviation of the data is:\",statistics.stdev(sorted_data))\n",
    "print(\"variance of the data is:\",statistics.variance(sorted_data))\n"
   ]
  },
  {
   "cell_type": "code",
   "execution_count": 48,
   "id": "d4d5c30c",
   "metadata": {},
   "outputs": [
    {
     "data": {
      "text/plain": [
       "7.25"
      ]
     },
     "execution_count": 48,
     "metadata": {},
     "output_type": "execute_result"
    }
   ],
   "source": [
    "#7\n",
    "q1=len(sorted_data)*25/100\n",
    "q1\n"
   ]
  },
  {
   "cell_type": "code",
   "execution_count": 51,
   "id": "c4694e91",
   "metadata": {},
   "outputs": [
    {
     "data": {
      "text/plain": [
       "4.0"
      ]
     },
     "execution_count": 51,
     "metadata": {},
     "output_type": "execute_result"
    }
   ],
   "source": [
    "#8\n",
    "q1=sorted_data[7]+0.25*(sorted_data[8]-sorted_data[7])\n",
    "q1"
   ]
  },
  {
   "cell_type": "code",
   "execution_count": 54,
   "id": "4cf631b4",
   "metadata": {},
   "outputs": [
    {
     "data": {
      "text/plain": [
       "21.75"
      ]
     },
     "execution_count": 54,
     "metadata": {},
     "output_type": "execute_result"
    }
   ],
   "source": [
    "#9\n",
    "q3=len(sorted_data)*75/100\n",
    "q3"
   ]
  },
  {
   "cell_type": "code",
   "execution_count": 55,
   "id": "4c258851",
   "metadata": {},
   "outputs": [
    {
     "data": {
      "text/plain": [
       "79.0"
      ]
     },
     "execution_count": 55,
     "metadata": {},
     "output_type": "execute_result"
    }
   ],
   "source": [
    "#10\n",
    "q3=sorted_data[21]+0.75*(sorted_data[22]-sorted_data[21])\n",
    "q3"
   ]
  },
  {
   "cell_type": "code",
   "execution_count": 56,
   "id": "651ead2f",
   "metadata": {},
   "outputs": [
    {
     "data": {
      "text/plain": [
       "75.0"
      ]
     },
     "execution_count": 56,
     "metadata": {},
     "output_type": "execute_result"
    }
   ],
   "source": [
    "IQR= q3-q1\n",
    "IQR"
   ]
  },
  {
   "cell_type": "code",
   "execution_count": 58,
   "id": "c7cf258b",
   "metadata": {},
   "outputs": [
    {
     "name": "stdout",
     "output_type": "stream",
     "text": [
      "lower bound of the data is: -108.5\n",
      "upper bound of the data is: 191.5\n"
     ]
    }
   ],
   "source": [
    "#11\n",
    "lower_bound=q1-1.5*(IQR)\n",
    "print(\"lower bound of the data is:\",lower_bound)\n",
    "\n",
    "upper_bound=q3+1.5*(IQR)\n",
    "print(\"upper bound of the data is:\",upper_bound)\n"
   ]
  },
  {
   "cell_type": "code",
   "execution_count": null,
   "id": "b578bf0d",
   "metadata": {},
   "outputs": [],
   "source": []
  }
 ],
 "metadata": {
  "kernelspec": {
   "display_name": "Python 3 (ipykernel)",
   "language": "python",
   "name": "python3"
  },
  "language_info": {
   "codemirror_mode": {
    "name": "ipython",
    "version": 3
   },
   "file_extension": ".py",
   "mimetype": "text/x-python",
   "name": "python",
   "nbconvert_exporter": "python",
   "pygments_lexer": "ipython3",
   "version": "3.11.5"
  }
 },
 "nbformat": 4,
 "nbformat_minor": 5
}
