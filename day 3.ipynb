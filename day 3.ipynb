{
 "cells": [
  {
   "cell_type": "code",
   "execution_count": null,
   "id": "980e48b5",
   "metadata": {},
   "outputs": [],
   "source": [
    "# 21 area of rectangle\n",
    "l=int(input(\"enter the length:\"))\n",
    "b=int(input(\"enter the breath:\"))\n",
    "a=l*b\n",
    "print(a)"
   ]
  },
  {
   "cell_type": "code",
   "execution_count": null,
   "id": "f22fe2ef",
   "metadata": {},
   "outputs": [],
   "source": [
    "#22 perimeter of rectangle\n",
    "l=int(input(\"enter the l:\"))\n",
    "w=int(input(\"enter the w:\"))\n",
    "p=2*(l+w)\n",
    "print(p)"
   ]
  },
  {
   "cell_type": "code",
   "execution_count": null,
   "id": "e785cfc4",
   "metadata": {},
   "outputs": [],
   "source": [
    "# 23 area of circle \n",
    "r=int(input(\"enter the r:\"))\n",
    "a=3.14*r**2\n",
    "print(a)"
   ]
  },
  {
   "cell_type": "code",
   "execution_count": null,
   "id": "75f73b81",
   "metadata": {},
   "outputs": [],
   "source": [
    "# 24 circumference of circle\n",
    "r=int(input(\"enter the r:\"))\n",
    "c=2*3.14*r\n",
    "print(c)"
   ]
  },
  {
   "cell_type": "code",
   "execution_count": null,
   "id": "09a74379",
   "metadata": {},
   "outputs": [],
   "source": [
    "# 25 surface area of sphere\n",
    "r=int(input(\"enter the r:\"))\n",
    "s=4*3.14*(r**2)\n",
    "print(s)"
   ]
  },
  {
   "cell_type": "code",
   "execution_count": null,
   "id": "dbc6ed05",
   "metadata": {},
   "outputs": [],
   "source": [
    "#26  C to F conversion \n",
    "f =float(input(\"enter the F:\"))\n",
    "c=(5/9)*(f-32)\n",
    "print(c)\n"
   ]
  },
  {
   "cell_type": "code",
   "execution_count": null,
   "id": "a71453e5",
   "metadata": {},
   "outputs": [],
   "source": [
    "# 27 perimeter of tiangle\n",
    "a=int(input(\"enter the a:\"))\n",
    "b=int(input(\"enter th b:\"))\n",
    "c=int(input(\"enter th c:\"))\n",
    "z=a+b+c\n",
    "print(z)"
   ]
  },
  {
   "cell_type": "code",
   "execution_count": null,
   "id": "22384e31",
   "metadata": {},
   "outputs": [],
   "source": [
    "#28 #Slope of a line: y2-y1/x2-x1\n",
    "x1=int(input(\"value of x1 is \"))\n",
    "x2=int(input(\"value of x2 is \"))\n",
    "y1=int(input(\"value of y1 is \"))\n",
    "y2=int(input(\"value of y2 is \"))\n",
    "z=(y2-y1)/(x2-x1)\n",
    "print(\"Slope of a line\",z)"
   ]
  },
  {
   "cell_type": "code",
   "execution_count": null,
   "id": "e94a7659",
   "metadata": {},
   "outputs": [],
   "source": [
    "#29 Newton's Second Law : F=MA\n",
    "m=int(input(\"value of m is \"))\n",
    "a=int(input(\"value of a is \"))\n",
    "F=m*a\n",
    "print(\"Force is \",F)"
   ]
  },
  {
   "cell_type": "code",
   "execution_count": null,
   "id": "2570da5e",
   "metadata": {},
   "outputs": [],
   "source": [
    "# 30 kinetic energy\n",
    "m=int(input(\"enter the m:\"))\n",
    "v=int(input(\"enter the v:\"))\n",
    "\n",
    "k=(1/2)*m*(v**2)\n",
    "print(k)"
   ]
  },
  {
   "cell_type": "code",
   "execution_count": null,
   "id": "aec2175f",
   "metadata": {},
   "outputs": [],
   "source": []
  },
  {
   "cell_type": "code",
   "execution_count": null,
   "id": "fb41e5bd",
   "metadata": {},
   "outputs": [],
   "source": []
  },
  {
   "cell_type": "code",
   "execution_count": null,
   "id": "de1a9025",
   "metadata": {},
   "outputs": [],
   "source": []
  },
  {
   "cell_type": "code",
   "execution_count": null,
   "id": "8c9f0b47",
   "metadata": {},
   "outputs": [],
   "source": []
  }
 ],
 "metadata": {
  "kernelspec": {
   "display_name": "Python 3 (ipykernel)",
   "language": "python",
   "name": "python3"
  },
  "language_info": {
   "codemirror_mode": {
    "name": "ipython",
    "version": 3
   },
   "file_extension": ".py",
   "mimetype": "text/x-python",
   "name": "python",
   "nbconvert_exporter": "python",
   "pygments_lexer": "ipython3",
   "version": "3.11.5"
  }
 },
 "nbformat": 4,
 "nbformat_minor": 5
}
