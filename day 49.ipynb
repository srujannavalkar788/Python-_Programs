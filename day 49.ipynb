{
 "cells": [
  {
   "cell_type": "code",
   "execution_count": 4,
   "id": "6c30013e",
   "metadata": {},
   "outputs": [
    {
     "name": "stdout",
     "output_type": "stream",
     "text": [
      "multiplication 600\n",
      "sum 70\n"
     ]
    }
   ],
   "source": [
    "#1: Calculate the multiplication and sum of two numbers\n",
    "#Given two integer numbers, return their product only if the product is equal to or lower than 1000. Otherwise, return their sum.\n",
    "\n",
    "def multi_sum(n1,n2):\n",
    "    prod=n1*n2\n",
    "    if prod<=1000:\n",
    "        return prod\n",
    "    else:\n",
    "        return n1+n2\n",
    "\n",
    "res=multi_sum(20,30)\n",
    "print('multiplication',res)\n",
    "res=multi_sum(40,30)\n",
    "print('sum',res)"
   ]
  },
  {
   "cell_type": "code",
   "execution_count": 8,
   "id": "827e7d44",
   "metadata": {},
   "outputs": [
    {
     "name": "stdout",
     "output_type": "stream",
     "text": [
      "1\n",
      "3\n",
      "5\n",
      "7\n",
      "9\n",
      "11\n",
      "13\n",
      "15\n",
      "17\n",
      "19\n"
     ]
    }
   ],
   "source": [
    "#2Write a program to iterate the first 10 numbers, and in each iteration, print the sum of the current and previous number.\n",
    "previous_num=0\n",
    "\n",
    "for i in range(1,11):\n",
    "    sum=previous_num+i\n",
    "    previous_num=i\n",
    "    print(sum)\n",
    "    \n",
    "    \n",
    "    "
   ]
  },
  {
   "cell_type": "code",
   "execution_count": 14,
   "id": "8429d76b",
   "metadata": {},
   "outputs": [
    {
     "name": "stdout",
     "output_type": "stream",
     "text": [
      "enter a string:pynative\n",
      "p\n",
      "n\n",
      "t\n",
      "v\n"
     ]
    }
   ],
   "source": [
    "#3Write a program to accept a string from the user and display characters that are present at an even index number\n",
    "s=input('enter a string:')\n",
    "size=len(s)\n",
    "\n",
    "for char in range(0,size-1,2):\n",
    "    print(s[char])"
   ]
  },
  {
   "cell_type": "code",
   "execution_count": 17,
   "id": "271f5eb6",
   "metadata": {},
   "outputs": [
    {
     "name": "stdout",
     "output_type": "stream",
     "text": [
      "enter a string:abhinav\n",
      "nav\n"
     ]
    }
   ],
   "source": [
    "#4 Write a program to remove characters from a string starting from zero up to n and return a new string.\n",
    "s=input('enter a string:')\n",
    "\n",
    "slicing=s[4:]\n",
    "print(slicing)\n"
   ]
  },
  {
   "cell_type": "code",
   "execution_count": 21,
   "id": "217687b7",
   "metadata": {},
   "outputs": [
    {
     "name": "stdout",
     "output_type": "stream",
     "text": [
      "True\n"
     ]
    }
   ],
   "source": [
    "#5 Write a function to return True if the first and last number of a given list is same. \n",
    "#If numbers are different then return False.\n",
    "\n",
    "def same(l1):\n",
    "    \n",
    "    if l1[0]==l1[-1]:\n",
    "        return True\n",
    "    else:\n",
    "        return False\n",
    "l1=[1,2,3,4,5,1]\n",
    "print(same(l1))"
   ]
  },
  {
   "cell_type": "code",
   "execution_count": 22,
   "id": "48d3ccc4",
   "metadata": {},
   "outputs": [
    {
     "name": "stdout",
     "output_type": "stream",
     "text": [
      "10\n",
      "20\n",
      "55\n"
     ]
    }
   ],
   "source": [
    "#6 Iterate the given list of numbers and print only those numbers which are divisible by 5\n",
    "l1=[10,20,33,46,55]\n",
    "\n",
    "for num in l1:\n",
    "    if num %5==0:\n",
    "        print(num)"
   ]
  },
  {
   "cell_type": "code",
   "execution_count": 1,
   "id": "b54ded16",
   "metadata": {},
   "outputs": [
    {
     "data": {
      "text/plain": [
       "2"
      ]
     },
     "execution_count": 1,
     "metadata": {},
     "output_type": "execute_result"
    }
   ],
   "source": [
    "# 7 Write a program to find how many times substring “Emma” appears in the given string.\n",
    "s=\"Emma is good developer. Emma is a writer\"\n",
    "s.count('Emma')"
   ]
  },
  {
   "cell_type": "code",
   "execution_count": 2,
   "id": "083f3559",
   "metadata": {},
   "outputs": [
    {
     "name": "stdout",
     "output_type": "stream",
     "text": [
      " \n",
      "1  \n",
      "2 2  \n",
      "3 3 3  \n",
      "4 4 4 4  \n",
      "5 5 5 5 5  \n"
     ]
    }
   ],
   "source": [
    "#8 Print the following pattern\n",
    "'''1 \n",
    "2 2 \n",
    "3 3 3 \n",
    "4 4 4 4 \n",
    "5 5 5 5 5'''\n",
    "\n",
    "row=5\n",
    "\n",
    "for i in range(row+1):\n",
    "    for j in range(i):\n",
    "        print(i,end=\" \")\n",
    "    print(' ')"
   ]
  },
  {
   "cell_type": "code",
   "execution_count": 18,
   "id": "adb04570",
   "metadata": {},
   "outputs": [
    {
     "name": "stdout",
     "output_type": "stream",
     "text": [
      "non palindrome\n"
     ]
    }
   ],
   "source": [
    "# 9 Write a program to check if the given number is a palindrome number.\n",
    "n=545\n",
    "# another technique\n",
    "rev_num=0\n",
    "while n>0:\n",
    "    rem=n%10\n",
    "    rev_num=(rev_num*10)+rem\n",
    "    n=n//10\n",
    "    \n",
    "    \n",
    "if n==rev_num:\n",
    "    print(\"palindrome\")\n",
    "else:\n",
    "    print('non palindrome')"
   ]
  },
  {
   "cell_type": "code",
   "execution_count": 19,
   "id": "8d880847",
   "metadata": {},
   "outputs": [
    {
     "name": "stdout",
     "output_type": "stream",
     "text": [
      "original number 121\n",
      "Given number palindrome\n",
      "original number 125\n",
      "Given number is not palindrome\n"
     ]
    }
   ],
   "source": [
    "def palindrome(number):\n",
    "    print(\"original number\", number)\n",
    "    original_num = number\n",
    "    \n",
    "    # reverse the given number\n",
    "    reverse_num = 0\n",
    "    while number > 0:\n",
    "        reminder = number % 10\n",
    "        reverse_num = (reverse_num * 10) + reminder\n",
    "        number = number // 10\n",
    "\n",
    "    # check numbers\n",
    "    if original_num == reverse_num:\n",
    "        print(\"Given number palindrome\")\n",
    "    else:\n",
    "        print(\"Given number is not palindrome\")\n",
    "\n",
    "palindrome(121)\n",
    "palindrome(125)"
   ]
  },
  {
   "cell_type": "code",
   "execution_count": 25,
   "id": "a27e9a72",
   "metadata": {},
   "outputs": [
    {
     "name": "stdout",
     "output_type": "stream",
     "text": [
      "[25, 35, 45, 75]\n"
     ]
    }
   ],
   "source": [
    "#10 Create a new list from two list using the following condition\n",
    "\n",
    "list1 = [10, 20, 25, 30, 35]\n",
    "list2 = [40, 45, 60, 75, 90]\n",
    "\n",
    "new_list=[]\n",
    "\n",
    "for i in (list1):\n",
    "    if i %2!=0:\n",
    "        new_list.append(i)\n",
    "for j in list2:\n",
    "    if j %2!=0:\n",
    "        new_list.append(j)\n",
    "print(new_list)\n",
    "\n",
    "    "
   ]
  },
  {
   "cell_type": "code",
   "execution_count": 28,
   "id": "41f2f089",
   "metadata": {},
   "outputs": [
    {
     "name": "stdout",
     "output_type": "stream",
     "text": [
      "6 3 5 7 "
     ]
    }
   ],
   "source": [
    "\n",
    "    "
   ]
  },
  {
   "cell_type": "code",
   "execution_count": null,
   "id": "b2d11fdf",
   "metadata": {},
   "outputs": [],
   "source": []
  }
 ],
 "metadata": {
  "kernelspec": {
   "display_name": "Python 3 (ipykernel)",
   "language": "python",
   "name": "python3"
  },
  "language_info": {
   "codemirror_mode": {
    "name": "ipython",
    "version": 3
   },
   "file_extension": ".py",
   "mimetype": "text/x-python",
   "name": "python",
   "nbconvert_exporter": "python",
   "pygments_lexer": "ipython3",
   "version": "3.11.5"
  }
 },
 "nbformat": 4,
 "nbformat_minor": 5
}
