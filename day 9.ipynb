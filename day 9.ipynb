{
 "cells": [
  {
   "cell_type": "code",
   "execution_count": 1,
   "id": "3c93cc0b",
   "metadata": {},
   "outputs": [
    {
     "name": "stdout",
     "output_type": "stream",
     "text": [
      "enter your age:34\n",
      "you are eligible for vote\n"
     ]
    }
   ],
   "source": [
    "#1\n",
    "age=int(input(\"enter your age:\"))\n",
    "if age>=18:\n",
    "    print(\"you are eligible for vote\")\n",
    "else:\n",
    "    print(\"your are not eligible for vote\")\n",
    "    "
   ]
  },
  {
   "cell_type": "code",
   "execution_count": 1,
   "id": "3de38ac3",
   "metadata": {},
   "outputs": [
    {
     "name": "stdout",
     "output_type": "stream",
     "text": [
      "*  \n",
      "* *  \n",
      "* * *  \n",
      "* * * *  \n"
     ]
    }
   ],
   "source": [
    "#2 \n",
    "n=4\n",
    "for i in range(n):\n",
    "    for j in range(i+1):\n",
    "        print(\"*\",end=' ')\n",
    "    print(' ')"
   ]
  },
  {
   "cell_type": "code",
   "execution_count": 2,
   "id": "fce95aec",
   "metadata": {},
   "outputs": [
    {
     "name": "stdout",
     "output_type": "stream",
     "text": [
      "* * * *  \n",
      "* * *  \n",
      "* *  \n",
      "*  \n"
     ]
    }
   ],
   "source": [
    "#3 \n",
    "n=4\n",
    "for i in range(n):\n",
    "    for j in range(i,n):\n",
    "        print('*',end=' ')\n",
    "    print(' ')"
   ]
  },
  {
   "cell_type": "code",
   "execution_count": 3,
   "id": "200e5b8e",
   "metadata": {},
   "outputs": [
    {
     "name": "stdout",
     "output_type": "stream",
     "text": [
      "        *  \n",
      "      * *  \n",
      "    * * *  \n",
      "  * * * *  \n"
     ]
    }
   ],
   "source": [
    "#4 \n",
    "n=4\n",
    "for i in range(n):\n",
    "    for j in range(i,n):\n",
    "        print(' ',end=' ')\n",
    "    for j in range(i+1):\n",
    "        print('*',end=' ')\n",
    "    print(' ')"
   ]
  },
  {
   "cell_type": "code",
   "execution_count": 4,
   "id": "46144f6b",
   "metadata": {},
   "outputs": [
    {
     "name": "stdout",
     "output_type": "stream",
     "text": [
      "  * * * *  \n",
      "    * * *  \n",
      "      * *  \n",
      "        *  \n"
     ]
    }
   ],
   "source": [
    "#5 \n",
    "n=4\n",
    "for i in range(n):\n",
    "    for j in range(i+1):\n",
    "        print(' ',end=' ')\n",
    "    for j in range(i,n):\n",
    "        print('*',end=' ')\n",
    "    print(' ')"
   ]
  },
  {
   "cell_type": "code",
   "execution_count": 7,
   "id": "da07f885",
   "metadata": {},
   "outputs": [
    {
     "name": "stdout",
     "output_type": "stream",
     "text": [
      "enter your score:68\n",
      "grade C\n"
     ]
    }
   ],
   "source": [
    "#6 #If a student scores above 90, assign grade A\n",
    "#If a student scores above 75, assign grade B\n",
    "#If a student scores above 65, assign grade C\n",
    "\n",
    "sc=int(input('enter your score:'))\n",
    "if sc>=90:\n",
    "    print('grade A')\n",
    "elif sc>=75 and sc<90:\n",
    "    print('grade B')\n",
    "elif sc>=65 and sc<75:\n",
    "    print('grade C')\n",
    "else:\n",
    "    print(\"boundery pass\")"
   ]
  },
  {
   "cell_type": "code",
   "execution_count": 8,
   "id": "7ac3ed7f",
   "metadata": {},
   "outputs": [
    {
     "name": "stdout",
     "output_type": "stream",
     "text": [
      "enter the number:3\n",
      "positive number\n"
     ]
    }
   ],
   "source": [
    "#7 \n",
    "num=int(input('enter the number:'))\n",
    "if num>=0:\n",
    "    print('positive number')\n",
    "else:\n",
    "    print('neagtive number')"
   ]
  },
  {
   "cell_type": "code",
   "execution_count": 9,
   "id": "d404d7ea",
   "metadata": {},
   "outputs": [
    {
     "name": "stdout",
     "output_type": "stream",
     "text": [
      "enter the number a:3\n",
      "enter the number b:6\n",
      "b is greater\n"
     ]
    }
   ],
   "source": [
    "#8 GREATER NUMBER\n",
    "a =int(input('enter the number a:'))\n",
    "b=int(input('enter the number b:'))\n",
    "\n",
    "if a>b:\n",
    "    print(\"a is greater than b\")\n",
    "elif a==b:\n",
    "    print('both are equal')\n",
    "else:\n",
    "    print('b is greater')"
   ]
  },
  {
   "cell_type": "code",
   "execution_count": 12,
   "id": "8618c59d",
   "metadata": {},
   "outputs": [
    {
     "name": "stdout",
     "output_type": "stream",
     "text": [
      "enter the number a:13234\n",
      "enter the number b:432\n",
      "enter the number c:231\n",
      "a is greater the both number b and c\n"
     ]
    }
   ],
   "source": [
    "#9 \n",
    "a=int(input('enter the number a:'))\n",
    "b=int(input('enter the number b:'))\n",
    "c=int(input('enter the number c:'))\n",
    "if a>b or a>c:\n",
    "    print('a is greater the both number b and c')"
   ]
  },
  {
   "cell_type": "code",
   "execution_count": 13,
   "id": "c7d43b72",
   "metadata": {},
   "outputs": [
    {
     "name": "stdout",
     "output_type": "stream",
     "text": [
      "enter the number a:223\n",
      "enter the number b:3422\n",
      "a is not greater than b\n"
     ]
    }
   ],
   "source": [
    "#10 \n",
    "a= int(input('enter the number a:'))\n",
    "b=int(input('enter the number b:'))\n",
    "if not a>b:\n",
    "    print('a is not greater than b')"
   ]
  },
  {
   "cell_type": "code",
   "execution_count": null,
   "id": "6dbe6154",
   "metadata": {},
   "outputs": [],
   "source": []
  }
 ],
 "metadata": {
  "kernelspec": {
   "display_name": "Python 3 (ipykernel)",
   "language": "python",
   "name": "python3"
  },
  "language_info": {
   "codemirror_mode": {
    "name": "ipython",
    "version": 3
   },
   "file_extension": ".py",
   "mimetype": "text/x-python",
   "name": "python",
   "nbconvert_exporter": "python",
   "pygments_lexer": "ipython3",
   "version": "3.11.5"
  }
 },
 "nbformat": 4,
 "nbformat_minor": 5
}
