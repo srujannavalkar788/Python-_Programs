{
 "cells": [
  {
   "cell_type": "code",
   "execution_count": 5,
   "id": "12be034c",
   "metadata": {},
   "outputs": [
    {
     "name": "stdout",
     "output_type": "stream",
     "text": [
      "enter the day:sunday\n",
      "it is weekend\n"
     ]
    }
   ],
   "source": [
    "#31. Write a program that asks for the name of a day of the week and displays whether it is a weekday (Monday to Friday) \n",
    "#or a weekend day (Saturday and Sunday).\n",
    "\n",
    "day=input('enter the day:')\n",
    "\n",
    "if day=='saturday'or day=='sunday':\n",
    "    print('it is weekend')\n",
    "else:\n",
    "    print('it is weekday')\n",
    "          \n",
    "\n"
   ]
  },
  {
   "cell_type": "code",
   "execution_count": 6,
   "id": "d4950e56",
   "metadata": {},
   "outputs": [
    {
     "name": "stdout",
     "output_type": "stream",
     "text": [
      "enter the weight:56\n",
      "enter the height:175\n",
      "Underweight\n",
      "0.0018285714285714285\n"
     ]
    }
   ],
   "source": [
    "#32. Write a program that asks for a person's height and weight and calculates their body mass index (BMI), displaying\n",
    "#the corresponding category (underweight, normal weight, overweight, obese, severely obese).\n",
    "\n",
    "weight=int(input('enter the weight:'))\n",
    "height=float(input('enter the height:'))\n",
    "\n",
    "bmi=weight/(height**2)\n",
    "\n",
    "if bmi<18.5:\n",
    "    print('Underweight')\n",
    "elif bmi<25:\n",
    "    print('Normal weight')\n",
    "elif bmi<30:\n",
    "    print('overweight')\n",
    "elif bmi<35:\n",
    "    print('obese')\n",
    "else:\n",
    "    print('Severly obese')\n",
    "\n",
    "print(bmi)"
   ]
  },
  {
   "cell_type": "code",
   "execution_count": 8,
   "id": "ac6c9a09",
   "metadata": {},
   "outputs": [
    {
     "name": "stdout",
     "output_type": "stream",
     "text": [
      "enter the number:15\n",
      "the number is divisible by 5 and 3 both \n"
     ]
    }
   ],
   "source": [
    "#33. Write a program that asks for an integer and checks if it is divisible by 3 and 5 at the same time\n",
    "\n",
    "num=int(input('enter the number:'))\n",
    "\n",
    "if num%3==0 and num%5==0:\n",
    "    print('the number is divisible by 5 and 3 both ')\n",
    "else:\n",
    "    print('the number is not divisible by 5 and 3')"
   ]
  },
  {
   "cell_type": "code",
   "execution_count": 23,
   "id": "551d5c63",
   "metadata": {},
   "outputs": [
    {
     "name": "stdout",
     "output_type": "stream",
     "text": [
      "enter your age:18\n",
      "you are adult\n"
     ]
    }
   ],
   "source": [
    "#34. Create a program that asks for a person's age and displays whether they are a child (0-12 years old), teenager\n",
    "#(13-17 years old), adult (18-59 years old), or elderly (60 years old or older).\n",
    "\n",
    "person_age=int(input('enter your age:'))\n",
    "\n",
    "if person_age<=12:\n",
    "    print('you are child')\n",
    "elif person_age<=17:\n",
    "    print('you are teenager')\n",
    "elif person_age<=59:\n",
    "    print('you are adult')\n",
    "else:\n",
    "    print('you are elderly')"
   ]
  },
  {
   "cell_type": "code",
   "execution_count": 24,
   "id": "77b07661",
   "metadata": {},
   "outputs": [
    {
     "name": "stdout",
     "output_type": "stream",
     "text": [
      "enter any number 1:10\n",
      "enter any number 2:2\n",
      "yes\n"
     ]
    }
   ],
   "source": [
    "#35. Make a program that asks for two numbers and displays if the first is divisible by the second\n",
    "n1=int(input('enter any number 1:'))\n",
    "n2=int(input('enter any number 2:'))\n",
    "if n1%n2==0:\n",
    "    print('yes')\n",
    "else:\n",
    "    print('No')"
   ]
  },
  {
   "cell_type": "code",
   "execution_count": 31,
   "id": "37c583d1",
   "metadata": {},
   "outputs": [
    {
     "name": "stdout",
     "output_type": "stream",
     "text": [
      "0 1 2 3 4 5 6 7 8 9 10 "
     ]
    }
   ],
   "source": [
    "#36. Write a program that displays the numbers 1 through 10 using a loop. \n",
    "#Using while\n",
    "num=0\n",
    "\n",
    "while num<11:\n",
    "    print(num,end=' ')\n",
    "    num+=1"
   ]
  },
  {
   "cell_type": "code",
   "execution_count": 29,
   "id": "f93558fa",
   "metadata": {},
   "outputs": [
    {
     "name": "stdout",
     "output_type": "stream",
     "text": [
      "0 1 2 3 4 5 6 7 8 9 10 "
     ]
    }
   ],
   "source": [
    "#Using for\n",
    "\n",
    "for i in range(11):\n",
    "    print(i,end=' ')"
   ]
  },
  {
   "cell_type": "code",
   "execution_count": 32,
   "id": "a5956ea2",
   "metadata": {},
   "outputs": [
    {
     "name": "stdout",
     "output_type": "stream",
     "text": [
      "0 1 2 3 4 5 6 7 8 9 10 11 12 13 14 15 16 17 18 19 20 21 22 23 24 25 26 27 28 29 30 31 32 33 34 35 36 37 38 39 40 41 42 43 44 45 46 47 48 49 50 51 52 53 54 55 56 57 58 59 60 61 62 63 64 65 66 67 68 69 70 71 72 73 74 75 76 77 78 79 80 81 82 83 84 85 86 87 88 89 90 91 92 93 94 95 96 97 98 99 100 "
     ]
    }
   ],
   "source": [
    "#37. Write a program that displays all numbers from 1 to 100\n",
    "#using while \n",
    "\n",
    "num=0\n",
    "while num<=100:\n",
    "    print(num,end=' ')\n",
    "    num+=1"
   ]
  },
  {
   "cell_type": "code",
   "execution_count": 34,
   "id": "8b30882c",
   "metadata": {},
   "outputs": [
    {
     "name": "stdout",
     "output_type": "stream",
     "text": [
      "0 1 2 3 4 5 6 7 8 9 10 11 12 13 14 15 16 17 18 19 20 21 22 23 24 25 26 27 28 29 30 31 32 33 34 35 36 37 38 39 40 41 42 43 44 45 46 47 48 49 50 51 52 53 54 55 56 57 58 59 60 61 62 63 64 65 66 67 68 69 70 71 72 73 74 75 76 77 78 79 80 81 82 83 84 85 86 87 88 89 90 91 92 93 94 95 96 97 98 99 100 "
     ]
    }
   ],
   "source": [
    "#using for\n",
    "for i in range(101):\n",
    "    print(i,end=' ')"
   ]
  },
  {
   "cell_type": "code",
   "execution_count": 42,
   "id": "ce96605d",
   "metadata": {},
   "outputs": [
    {
     "name": "stdout",
     "output_type": "stream",
     "text": [
      "2 is even 4 is even 6 is even 8 is even 10 is even 12 is even 14 is even 16 is even 18 is even 20 is even 22 is even 24 is even 26 is even 28 is even 30 is even 32 is even 34 is even 36 is even 38 is even 40 is even 42 is even 44 is even 46 is even 48 is even 50 is even 52 is even 54 is even 56 is even 58 is even 60 is even 62 is even 64 is even 66 is even 68 is even 70 is even 72 is even 74 is even 76 is even 78 is even 80 is even 82 is even 84 is even 86 is even 88 is even 90 is even 92 is even 94 is even 96 is even 98 is even 100 is even "
     ]
    }
   ],
   "source": [
    "#38. Write a program that prints all even numbers from 1 to 100.\n",
    "#using  for\n",
    "for i in range(1,101):\n",
    "    if i%2==0:\n",
    "        print(i,'is even',end=' ')\n",
    "    \n",
    "\n",
    "    "
   ]
  },
  {
   "cell_type": "code",
   "execution_count": 43,
   "id": "d42b1d69",
   "metadata": {},
   "outputs": [
    {
     "name": "stdout",
     "output_type": "stream",
     "text": [
      "0 2 4 6 8 10 12 14 16 18 20 22 24 26 28 30 32 34 36 38 40 42 44 46 48 50 52 54 56 58 60 62 64 66 68 70 72 74 76 78 80 82 84 86 88 90 92 94 96 98 100 "
     ]
    }
   ],
   "source": [
    "# using while\n",
    "num=0\n",
    "while num<=100:\n",
    "    if num%2==0:\n",
    "        print(num,end=' ')\n",
    "    num+=1"
   ]
  },
  {
   "cell_type": "code",
   "execution_count": 49,
   "id": "d5765afe",
   "metadata": {},
   "outputs": [
    {
     "name": "stdout",
     "output_type": "stream",
     "text": [
      "even 0 even 2 even 4 even 6 even 8 even 10 even 12 even 14 even 16 even 18 even 20 even 22 even 24 even 26 even 28 even 30 even 32 even 34 even 36 even 38 even 40 even 42 even 44 even 46 even 48 even 50 odd 51 odd 53 odd 55 odd 57 odd 59 odd 61 odd 63 odd 65 odd 67 odd 69 odd 71 odd 73 odd 75 odd 77 odd 79 odd 81 odd 83 odd 85 odd 87 odd 89 odd 91 odd 93 odd 95 odd 97 odd 99 "
     ]
    }
   ],
   "source": [
    "#39. Write a program that displays even numbers 1 to 50 and odd numbers 51 to 100 using a repeating loop.\n",
    "num=0\n",
    "\n",
    "while num<=100:\n",
    "    if num<=50:\n",
    "        if num%2==0:\n",
    "            print('even', num,end=' ')\n",
    "    else:\n",
    "        if num%2!=0:\n",
    "            print('odd',num,end=' ')\n",
    "    num+=1\n",
    "    "
   ]
  },
  {
   "cell_type": "code",
   "execution_count": 53,
   "id": "5713b5c3",
   "metadata": {},
   "outputs": [
    {
     "name": "stdout",
     "output_type": "stream",
     "text": [
      "enter any number:12\n",
      "0 12 24 36 48 60 72 84 96 108 120 "
     ]
    }
   ],
   "source": [
    "#40. Create a program that prompts the user for a number and displays the table of that number using a loop.\n",
    "\n",
    "num=int(input('enter any number:'))\n",
    "for i in range(0,11):\n",
    "    print(num*i,end=' ')\n",
    "    "
   ]
  },
  {
   "cell_type": "code",
   "execution_count": 54,
   "id": "2a7c0e67",
   "metadata": {},
   "outputs": [
    {
     "name": "stdout",
     "output_type": "stream",
     "text": [
      "number:12\n",
      "0\n",
      "12\n",
      "24\n",
      "36\n",
      "48\n",
      "60\n",
      "72\n",
      "84\n",
      "96\n",
      "108\n",
      "120\n"
     ]
    }
   ],
   "source": [
    "num=int(input('number:'))\n",
    "i=0\n",
    "while i<=10:\n",
    "    p=num*i\n",
    "    print(p)\n",
    "    i+=1\n",
    "    "
   ]
  },
  {
   "cell_type": "code",
   "execution_count": null,
   "id": "45601c5f",
   "metadata": {},
   "outputs": [],
   "source": []
  }
 ],
 "metadata": {
  "kernelspec": {
   "display_name": "Python 3 (ipykernel)",
   "language": "python",
   "name": "python3"
  },
  "language_info": {
   "codemirror_mode": {
    "name": "ipython",
    "version": 3
   },
   "file_extension": ".py",
   "mimetype": "text/x-python",
   "name": "python",
   "nbconvert_exporter": "python",
   "pygments_lexer": "ipython3",
   "version": "3.11.5"
  }
 },
 "nbformat": 4,
 "nbformat_minor": 5
}
