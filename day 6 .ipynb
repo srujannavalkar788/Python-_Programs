{
 "cells": [
  {
   "cell_type": "code",
   "execution_count": 1,
   "id": "8c48423f",
   "metadata": {},
   "outputs": [
    {
     "name": "stdout",
     "output_type": "stream",
     "text": [
      "enter number\n",
      "1\n",
      "enter number\n",
      "2\n",
      "enter number\n",
      "3\n",
      "enter number\n",
      "4\n",
      "enter number\n",
      "5\n",
      "enter number\n",
      "6\n",
      "enter number\n",
      "7\n",
      "enter number\n",
      "8\n",
      "enter number\n",
      "9\n",
      "enter number\n",
      "10\n",
      "average is 5.5\n"
     ]
    }
   ],
   "source": [
    "# 1 sum of average of  numbers\n",
    "\n",
    "sum=0\n",
    "a=1\n",
    "while(a<=10):\n",
    "    print(\"enter number\")\n",
    "    num=int(input())\n",
    "    sum=sum+num\n",
    "    a=a+1\n",
    "    average=sum/10\n",
    "print(\"average is\",average)"
   ]
  },
  {
   "cell_type": "code",
   "execution_count": 13,
   "id": "05926238",
   "metadata": {},
   "outputs": [
    {
     "name": "stdout",
     "output_type": "stream",
     "text": [
      "*\n",
      "**\n",
      "***\n",
      "****\n",
      "*****\n"
     ]
    }
   ],
   "source": [
    "# 2 print the pattern\n",
    "\n",
    "# A\n",
    "a=1\n",
    "while(a<=5):\n",
    "    print (\"*\"*a)\n",
    "    a=a+1\n",
    "    \n"
   ]
  },
  {
   "cell_type": "code",
   "execution_count": 14,
   "id": "26aaf68f",
   "metadata": {},
   "outputs": [
    {
     "name": "stdout",
     "output_type": "stream",
     "text": [
      "enter the first number:34\n",
      "enter the second number:56\n",
      "56\n",
      "34\n",
      "22\n",
      "12\n",
      "10\n",
      "2\n"
     ]
    }
   ],
   "source": [
    "#3 print GCD or HCF\n",
    "x=int(input(\"enter the first number:\"))\n",
    "y=int(input(\"enter the second number:\"))\n",
    "\n",
    "while(y!=0):\n",
    "    x,y=y,x%y\n",
    "    print(x)\n"
   ]
  },
  {
   "cell_type": "code",
   "execution_count": 15,
   "id": "64807b13",
   "metadata": {},
   "outputs": [
    {
     "name": "stdout",
     "output_type": "stream",
     "text": [
      "enter any number:3\n",
      "6\n"
     ]
    }
   ],
   "source": [
    "#4 factorial\n",
    "num=int(input(\"enter any number:\"))\n",
    "res=1\n",
    "a=1\n",
    "while(a<=num):\n",
    "    res=res*a\n",
    "    a=a+1\n",
    "print(res)"
   ]
  },
  {
   "cell_type": "code",
   "execution_count": 18,
   "id": "232312a1",
   "metadata": {},
   "outputs": [
    {
     "name": "stdout",
     "output_type": "stream",
     "text": [
      "10\n",
      "10 9 8 7 6 5 4 3 2 1 "
     ]
    }
   ],
   "source": [
    "#5 n natural number in descending order\n",
    "n=int(input())\n",
    "\n",
    "while(n!=0):\n",
    "    print(n,end=\" \")\n",
    "    n=n-1"
   ]
  },
  {
   "cell_type": "code",
   "execution_count": 25,
   "id": "1167a165",
   "metadata": {},
   "outputs": [
    {
     "name": "stdout",
     "output_type": "stream",
     "text": [
      "number\t\tsquare\n",
      "1 \t\t 1\n",
      "2 \t\t 4\n",
      "3 \t\t 9\n",
      "4 \t\t 16\n",
      "5 \t\t 25\n",
      "6 \t\t 36\n",
      "7 \t\t 49\n",
      "8 \t\t 64\n",
      "9 \t\t 81\n",
      "10 \t\t 100\n"
     ]
    }
   ],
   "source": [
    "#6 PRINT FIRST 10 INTEGER AND THEIR SQUARES\n",
    "num=1\n",
    "print(\"number\\t\\tsquare\")\n",
    "while(num<=10):\n",
    "    print(num,\"\\t\\t\",num**2)\n",
    "    num+=1\n",
    "    "
   ]
  },
  {
   "cell_type": "code",
   "execution_count": 33,
   "id": "c4c88759",
   "metadata": {},
   "outputs": [
    {
     "name": "stdout",
     "output_type": "stream",
     "text": [
      "enter any number:56754\n",
      "number is not armstrong\n"
     ]
    }
   ],
   "source": [
    "# 7 write a program to chaeck a number is armstrong or not\n",
    "#armstrong number is number equal to the sum of its digit cube 153=1^3+5^3+3^3\n",
    "\n",
    "num1=(input(\"enter any number:\"))\n",
    "p=0\n",
    "L=len(num1)\n",
    "L1=list(num1)\n",
    "i=0\n",
    "while(i<L):\n",
    "    p=p+int(L1[i])**3\n",
    "    i=i+1\n",
    "if int(num1)==p:\n",
    "    print(\"number is armstrong\")\n",
    "else:\n",
    "    print(\"number is not armstrong\")\n"
   ]
  },
  {
   "cell_type": "code",
   "execution_count": 40,
   "id": "6ecaa72b",
   "metadata": {},
   "outputs": [
    {
     "name": "stdout",
     "output_type": "stream",
     "text": [
      "enter positive number:10\n",
      "binary number of 10 is 1010\n"
     ]
    }
   ],
   "source": [
    "#8  convert decimal to binary\n",
    "num=int(input(\"enter positive number:\"))\n",
    "bin=0\n",
    "p=1\n",
    "n=num\n",
    "while(n>0):\n",
    "    rem=int(n % 2)\n",
    "    bin=bin+rem*p\n",
    "    p=p*10\n",
    "    n=n/2\n",
    "print(\"binary number of\",num,\"is\",bin)"
   ]
  },
  {
   "cell_type": "code",
   "execution_count": 44,
   "id": "57f44b1b",
   "metadata": {},
   "outputs": [
    {
     "name": "stdout",
     "output_type": "stream",
     "text": [
      "23\n",
      "45\n",
      "79\n"
     ]
    }
   ],
   "source": [
    "#9 write a program to print only odd number from the given list using whil loop\n",
    "\n",
    "L=[23,45,76,22,76,79]\n",
    "\n",
    "i=0\n",
    "while(i<len(L)):\n",
    "    if L[i] % 2 !=0:\n",
    "        print(L[i])\n",
    "    i=i+1"
   ]
  },
  {
   "cell_type": "code",
   "execution_count": 45,
   "id": "b31ac6d8",
   "metadata": {},
   "outputs": [
    {
     "name": "stdout",
     "output_type": "stream",
     "text": [
      "enter any number:46\n",
      "factors of number\n",
      "1\n",
      "2\n",
      "23\n",
      "46\n"
     ]
    }
   ],
   "source": [
    "#10 all factor of a number\n",
    "n=int(input(\"enter any number:\"))\n",
    "print(\"factors of number\")\n",
    "i=1\n",
    "while(i<=n):\n",
    "    if n % i==0:\n",
    "        print(i)\n",
    "    i=i+1\n"
   ]
  },
  {
   "cell_type": "code",
   "execution_count": null,
   "id": "484da2d8",
   "metadata": {},
   "outputs": [],
   "source": []
  }
 ],
 "metadata": {
  "kernelspec": {
   "display_name": "Python 3 (ipykernel)",
   "language": "python",
   "name": "python3"
  },
  "language_info": {
   "codemirror_mode": {
    "name": "ipython",
    "version": 3
   },
   "file_extension": ".py",
   "mimetype": "text/x-python",
   "name": "python",
   "nbconvert_exporter": "python",
   "pygments_lexer": "ipython3",
   "version": "3.11.5"
  }
 },
 "nbformat": 4,
 "nbformat_minor": 5
}
