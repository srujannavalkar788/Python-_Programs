{
 "cells": [
  {
   "cell_type": "code",
   "execution_count": 3,
   "id": "1d192e47",
   "metadata": {},
   "outputs": [
    {
     "name": "stdout",
     "output_type": "stream",
     "text": [
      "enter a string:dad\n",
      "palindrome\n"
     ]
    }
   ],
   "source": [
    "#1 check palindrome\n",
    "def is_palindrome(s):\n",
    "    return s==s[::-1]\n",
    "\n",
    "string=input('enter a string:')\n",
    "\n",
    "if is_palindrome(string):\n",
    "    print(\"palindrome\")\n",
    "else:\n",
    "    print('not palindrome')\n",
    "    "
   ]
  },
  {
   "cell_type": "code",
   "execution_count": 7,
   "id": "811d7538",
   "metadata": {},
   "outputs": [
    {
     "name": "stdout",
     "output_type": "stream",
     "text": [
      "enter a:20\n",
      "enter b:49\n",
      "enter c:58\n",
      "max number is: 58\n"
     ]
    }
   ],
   "source": [
    "#2. Find the Largest Among Three Numbers:\n",
    "a=int(input('enter a:'))\n",
    "b=int(input('enter b:'))\n",
    "c=int(input('enter c:'))\n",
    "\n",
    "maximum=max(a,b,c)\n",
    "print('max number is:',maximum)"
   ]
  },
  {
   "cell_type": "code",
   "execution_count": 16,
   "id": "4e9630b9",
   "metadata": {},
   "outputs": [
    {
     "name": "stdout",
     "output_type": "stream",
     "text": [
      "enter any number:10\n",
      "10\n",
      "20\n",
      "30\n",
      "40\n",
      "50\n",
      "60\n",
      "70\n",
      "80\n",
      "90\n",
      "100\n"
     ]
    }
   ],
   "source": [
    "#3. Print Multiplication Table:\n",
    "\n",
    "n=int(input('enter any number:'))\n",
    "\n",
    "\n",
    "for i in range(1,11):\n",
    "    prod=i*n\n",
    "    print(prod)"
   ]
  },
  {
   "cell_type": "code",
   "execution_count": 18,
   "id": "b0bbbcc8",
   "metadata": {},
   "outputs": [
    {
     "name": "stdout",
     "output_type": "stream",
     "text": [
      "enter any temperature36\n",
      "96.8\n"
     ]
    }
   ],
   "source": [
    "#4. Convert Celsius to Fahrenheit:\n",
    "celcius=float(input('enter any temperature'))\n",
    "\n",
    "fahrenheit=(celcius* 9/5)+32\n",
    "print(fahrenheit)"
   ]
  },
  {
   "cell_type": "code",
   "execution_count": 32,
   "id": "7ed7b413",
   "metadata": {},
   "outputs": [
    {
     "name": "stdout",
     "output_type": "stream",
     "text": [
      "[0, 3, 6, 23, 64, 97]\n"
     ]
    }
   ],
   "source": [
    "#6. Bubble Sort Algorithm:\n",
    "def bubble_sort(arr):\n",
    "    n=len(arr)\n",
    "    for i in range(n-1):\n",
    "        for j in range(0,n-i-1):\n",
    "            if arr[j] > arr[j+1]:\n",
    "                arr[j],arr[j+1]=arr[j+1],arr[j]\n",
    "arr=[64,3,6,97,0,23]\n",
    "bubble_sort(arr)\n",
    "print(arr)"
   ]
  },
  {
   "cell_type": "code",
   "execution_count": 34,
   "id": "6cc99180",
   "metadata": {},
   "outputs": [
    {
     "name": "stdout",
     "output_type": "stream",
     "text": [
      "enter a year:2024\n",
      "leap year\n"
     ]
    }
   ],
   "source": [
    "#7. Check Leap Year:\n",
    "\n",
    "def is_leap_year(year):\n",
    "    if year%4==0 and year%100!=0 or year %400==0:\n",
    "        return True\n",
    "        return False\n",
    "    \n",
    "year=int(input('enter a year:'))\n",
    "if is_leap_year(year):\n",
    "    print('leap year')\n",
    "else:\n",
    "    print('non leap year')"
   ]
  },
  {
   "cell_type": "code",
   "execution_count": 38,
   "id": "956f7c34",
   "metadata": {},
   "outputs": [
    {
     "name": "stdout",
     "output_type": "stream",
     "text": [
      "enter a string:abhinav\n",
      "3\n"
     ]
    }
   ],
   "source": [
    "#8. Count Vowels in a String:\n",
    "def count_vowels(s):\n",
    "    vowels='aeiouAEIOU'\n",
    "    count=0\n",
    "    for char in s:\n",
    "        if char in vowels:\n",
    "            count+=1\n",
    "    return count\n",
    "string=input('enter a string:')\n",
    "print(count_vowels(string))"
   ]
  },
  {
   "cell_type": "code",
   "execution_count": 55,
   "id": "d8fcac01",
   "metadata": {},
   "outputs": [
    {
     "name": "stdout",
     "output_type": "stream",
     "text": [
      "enter the any number:24\n",
      "enter thr any number:12\n",
      "24\n"
     ]
    }
   ],
   "source": [
    "#9. Find the LCM of Two Numbers:\n",
    "def compute_lcm(x,y):\n",
    "    if x>y:\n",
    "        greater=x\n",
    "    else:\n",
    "        greater=y\n",
    "\n",
    "    while True:\n",
    "        if greater %x==0 and greater %y==0:\n",
    "            lcm=greater\n",
    "            break\n",
    "            greater+=1\n",
    "    return lcm\n",
    "    \n",
    "n1=int(input('enter the any number:'))\n",
    "n2=int(input('enter thr any number:'))\n",
    "\n",
    "print(compute_lcm(n1,n2))"
   ]
  },
  {
   "cell_type": "code",
   "execution_count": null,
   "id": "9e758a17",
   "metadata": {},
   "outputs": [],
   "source": [
    "#10. Basic Class and Object:\n"
   ]
  },
  {
   "cell_type": "code",
   "execution_count": null,
   "id": "4f226c4b",
   "metadata": {},
   "outputs": [],
   "source": []
  }
 ],
 "metadata": {
  "kernelspec": {
   "display_name": "Python 3 (ipykernel)",
   "language": "python",
   "name": "python3"
  },
  "language_info": {
   "codemirror_mode": {
    "name": "ipython",
    "version": 3
   },
   "file_extension": ".py",
   "mimetype": "text/x-python",
   "name": "python",
   "nbconvert_exporter": "python",
   "pygments_lexer": "ipython3",
   "version": "3.11.5"
  }
 },
 "nbformat": 4,
 "nbformat_minor": 5
}
