{
 "cells": [
  {
   "cell_type": "code",
   "execution_count": 3,
   "id": "1e58dd31",
   "metadata": {},
   "outputs": [
    {
     "name": "stdout",
     "output_type": "stream",
     "text": [
      "enter the score of test1:6\n",
      "enter the score of test2:6\n",
      "you  pass the first test\n",
      "you pass the second test\n"
     ]
    }
   ],
   "source": [
    "#21. Make a program that reads the scores of two tests and reports whether the student passed (score greater than or equal to 6)\n",
    "#or failed (score less than 6) in each of the tests.\n",
    "\n",
    "score_of_test1=float(input('enter the score of test1:'))\n",
    "score_of_test2=float(input('enter the score of test2:'))\n",
    "\n",
    "if score_of_test1>=6:\n",
    "    print(\"you  pass the first test\")\n",
    "else:\n",
    "    print('you fail the first test')\n",
    "if score_of_test2>=6:\n",
    "    print('you pass the second test')\n",
    "else:\n",
    "    print('you fail the second test')"
   ]
  },
  {
   "cell_type": "code",
   "execution_count": 4,
   "id": "795814f0",
   "metadata": {},
   "outputs": [
    {
     "name": "stdout",
     "output_type": "stream",
     "text": [
      "enter grade1:67\n",
      "enter grade2:98\n",
      "you pass\n"
     ]
    }
   ],
   "source": [
    "#22. Make a program that reads the grades of two tests, calculates the simple arithmetic mean, and informs whether the student passed (average greater\n",
    "#than or equal to 6) or failed (average less than 6).\n",
    "\n",
    "grade1=int(input('enter grade1:'))\n",
    "grade2=int(input('enter grade2:'))\n",
    "\n",
    "average_grade=(grade1+grade2)/2\n",
    "\n",
    "if average_grade>=6:\n",
    "    print('you pass')\n",
    "else:\n",
    "    print('you fail')"
   ]
  },
  {
   "cell_type": "code",
   "execution_count": 8,
   "id": "690976b9",
   "metadata": {},
   "outputs": [
    {
     "name": "stdout",
     "output_type": "stream",
     "text": [
      "enter n1:3\n",
      "enter n2:3\n",
      "enter n3:4\n",
      "the sum is divisible by 5\n"
     ]
    }
   ],
   "source": [
    "#23. Make a program that reads three numbers, and informs if their sum is divisible by 5 or not.\n",
    "\n",
    "n1=int(input('enter n1:'))\n",
    "n2=int(input('enter n2:'))\n",
    "n3=int(input('enter n3:'))\n",
    "\n",
    "sum=n1+n2+n3\n",
    "\n",
    "if sum%5==0:\n",
    "    print('the sum is divisible by 5')\n",
    "else:\n",
    "    print('sum is not divisible by 5')"
   ]
  },
  {
   "cell_type": "code",
   "execution_count": 13,
   "id": "7c7bffd2",
   "metadata": {},
   "outputs": [
    {
     "name": "stdout",
     "output_type": "stream",
     "text": [
      "enter n1:0\n",
      "enter n2:0\n",
      "enter n3:0\n",
      "sum is zero\n"
     ]
    }
   ],
   "source": [
    "#24. Create a program that reads three numbers and checks if their sum is positive, negative or equal to zero\n",
    "n1=int(input('enter n1:'))\n",
    "n2=int(input('enter n2:'))\n",
    "n3=int(input('enter n3:'))\n",
    "sum=n1+n2+n3\n",
    "\n",
    "if sum>0:\n",
    "    print('sum is positive')\n",
    "elif sum==0:\n",
    "    print('sum is zero')\n",
    "else:\n",
    "    print('sum is negative')"
   ]
  },
  {
   "cell_type": "code",
   "execution_count": 17,
   "id": "a0435725",
   "metadata": {},
   "outputs": [
    {
     "name": "stdout",
     "output_type": "stream",
     "text": [
      "enter n1:5\n",
      "enter n2:78\n",
      "enter n3:5\n",
      "number in ascending order 78 5 5\n"
     ]
    }
   ],
   "source": [
    "#25. Make a program that reads three numbers, and displays them on the screen in ascending order\n",
    "n1=int(input('enter n1:'))\n",
    "n2=int(input('enter n2:'))\n",
    "n3=int(input('enter n3:'))\n",
    "\n",
    "\n",
    "if n1>=n2 and n1>=n3:\n",
    "    if n2>=n3:\n",
    "        print('number is ascending order',n1,n2,n3)\n",
    "    else:\n",
    "        print('number in ascending order',n1,n3,n2)\n",
    "elif n2>=n1 and n2>=n3:\n",
    "    if n1>=n3:\n",
    "        print('number in ascending order',n2,n1,n3)\n",
    "    else:\n",
    "        print('number in ascending order',n2,n3,n1)\n",
    "else:\n",
    "    if n1>=n3:\n",
    "        print('number in ascending order ',n3,n1,n2)\n",
    "    else:\n",
    "        print('number in ascending order',n3,n2,n1)\n"
   ]
  },
  {
   "cell_type": "code",
   "execution_count": 18,
   "id": "0f43d5bd",
   "metadata": {},
   "outputs": [],
   "source": [
    "# another type \n",
    "numbers=[n1,n2,n3]\n",
    "numbers.sort()\n",
    "\n"
   ]
  },
  {
   "cell_type": "code",
   "execution_count": 19,
   "id": "7f03f396",
   "metadata": {},
   "outputs": [
    {
     "data": {
      "text/plain": [
       "[5, 5, 78]"
      ]
     },
     "execution_count": 19,
     "metadata": {},
     "output_type": "execute_result"
    }
   ],
   "source": [
    "numbers"
   ]
  },
  {
   "cell_type": "code",
   "execution_count": 22,
   "id": "58b4f0aa",
   "metadata": {},
   "outputs": [
    {
     "name": "stdout",
     "output_type": "stream",
     "text": [
      "enter age1:34\n",
      "enter age2:56\n",
      "enter age3:42\n",
      "3\n"
     ]
    }
   ],
   "source": [
    "#26. Make a program that reads the age of three people and how many of them are of legal age (age 18 or older).\n",
    "age1=int(input('enter age1:'))\n",
    "age2=int(input('enter age2:'))\n",
    "age3=int(input('enter age3:'))\n",
    "\n",
    "count=0\n",
    "\n",
    "if age1>=18:\n",
    "    count+=1\n",
    "if age2>=18:\n",
    "    count+=1\n",
    "if age3>=18:\n",
    "    count+=1\n",
    "print(count)\n",
    "    "
   ]
  },
  {
   "cell_type": "code",
   "execution_count": 23,
   "id": "26209c21",
   "metadata": {},
   "outputs": [
    {
     "name": "stdout",
     "output_type": "stream",
     "text": [
      "enter side1:34\n",
      "enter side2:56\n",
      "enter side3:3\n",
      "these are not sides of the triangle\n"
     ]
    }
   ],
   "source": [
    "#27. Write a program that reads three numbers and tells you if they can be the\n",
    "#sides of a triangle (the sum of two sides must always be greater than the third side).\n",
    "\n",
    "s1=int(input('enter side1:'))\n",
    "s2=int(input('enter side2:'))\n",
    "s3=int(input('enter side3:'))\n",
    "if s1+s2>s3 and s2+s3>s1 and s1+s3>s2:\n",
    "    print('these are the sides of a triangle')\n",
    "else:\n",
    "    print('these are not sides of the triangle')"
   ]
  },
  {
   "cell_type": "code",
   "execution_count": 27,
   "id": "6f4095ab",
   "metadata": {},
   "outputs": [
    {
     "name": "stdout",
     "output_type": "stream",
     "text": [
      "enter DOB2003\n",
      "you are legal for vote\n"
     ]
    }
   ],
   "source": [
    "#28. Make a program that reads the year of birth of a person and informs if he is able to vote (age greater than or equal to 16 years old).\n",
    "\n",
    "yearofbirth=int(input('enter DOB'))\n",
    "\n",
    "import datetime\n",
    "\n",
    "currentyear=datetime.datetime.now().year\n",
    "\n",
    "age=currentyear-yearofbirth\n",
    "if age>=16:\n",
    "    print('you are legal for vote')\n",
    "else:\n",
    "    print('you are not legal for vote')"
   ]
  },
  {
   "cell_type": "code",
   "execution_count": 29,
   "id": "20866027",
   "metadata": {},
   "outputs": [
    {
     "name": "stdout",
     "output_type": "stream",
     "text": [
      "enter the age:29\n",
      "voting is obligatory for you\n"
     ]
    }
   ],
   "source": [
    "#29. Make a program that reads a person's age and informs if he is not able to vote (age less than 16 years old), if he is able to vote but is not obligated (16,\n",
    "#17 years old, or age equal to or greater than 70 years), or if it is obligatory (18 to 69 years old).\n",
    "\n",
    "age=int(input('enter the age:'))\n",
    "\n",
    "if age <16:\n",
    "    print('you are not able to vote')\n",
    "elif age>=18 and age<=69:\n",
    "    print('voting is obligatory for you')\n",
    "else:\n",
    "    print('you are able to vote but it is not obligatory')\n"
   ]
  },
  {
   "cell_type": "code",
   "execution_count": 31,
   "id": "8ecdcd93",
   "metadata": {},
   "outputs": [
    {
     "name": "stdout",
     "output_type": "stream",
     "text": [
      "enter g1:3\n",
      "enter g2:4\n",
      "enter g3:5\n",
      "in recovery\n"
     ]
    }
   ],
   "source": [
    "#30. Make a program that reads three grades from a student and reports whether he passed (final grade greater than or equal to 7), failed (final grade\n",
    "#less than 4) or was in recovery (final grade between 4 and 7).\n",
    "grade1=int(input('enter g1:'))\n",
    "grade2=int(input('enter g2:'))\n",
    "grade3=int(input('enter g3:'))\n",
    "\n",
    "final=(grade1+grade2+grade3)/3\n",
    "\n",
    "if final>=7:\n",
    "    print('pass')\n",
    "elif 4<=final<=7:\n",
    "    print('in recovery')\n",
    "else:\n",
    "    print('fail')"
   ]
  },
  {
   "cell_type": "code",
   "execution_count": null,
   "id": "dfa8c9a3",
   "metadata": {},
   "outputs": [],
   "source": []
  }
 ],
 "metadata": {
  "kernelspec": {
   "display_name": "Python 3 (ipykernel)",
   "language": "python",
   "name": "python3"
  },
  "language_info": {
   "codemirror_mode": {
    "name": "ipython",
    "version": 3
   },
   "file_extension": ".py",
   "mimetype": "text/x-python",
   "name": "python",
   "nbconvert_exporter": "python",
   "pygments_lexer": "ipython3",
   "version": "3.11.5"
  }
 },
 "nbformat": 4,
 "nbformat_minor": 5
}
