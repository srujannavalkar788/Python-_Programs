{
 "cells": [
  {
   "cell_type": "code",
   "execution_count": 1,
   "id": "e772209a",
   "metadata": {},
   "outputs": [
    {
     "name": "stdout",
     "output_type": "stream",
     "text": [
      "matches: ['e', 'u', 'i', 'o', 'o', 'u', 'o', 'e', 'e', 'a', 'o']\n"
     ]
    }
   ],
   "source": [
    "#1 \n",
    "import re\n",
    "\n",
    "text=\"The quick brown fox jumps over the lazy dog\"\n",
    "\n",
    "match=re.findall(r\"[aeiou]\",text)\n",
    "print(\"matches:\",match)"
   ]
  },
  {
   "cell_type": "code",
   "execution_count": 4,
   "id": "c31a54c3",
   "metadata": {},
   "outputs": [
    {
     "name": "stdout",
     "output_type": "stream",
     "text": [
      "['.', '.', '.']\n",
      "['\\\\']\n"
     ]
    }
   ],
   "source": [
    "#2\n",
    "import re\n",
    "text=\"The quick brown. fox jumps over. the lazy dog.\\\\\"\n",
    "\n",
    "match=re.findall(r\"\\.\",text)\n",
    "print(match)\n",
    "\n",
    "match=re.findall(r\"\\\\\",text)\n",
    "print(match)"
   ]
  },
  {
   "cell_type": "code",
   "execution_count": 11,
   "id": "a7a4fe78",
   "metadata": {},
   "outputs": [
    {
     "name": "stdout",
     "output_type": "stream",
     "text": [
      "['n fox']\n",
      "['he', 've', 'he']\n"
     ]
    }
   ],
   "source": [
    "#3\n",
    "import re\n",
    "text=\"The quick brown fox jumps over the lazy dog\"\n",
    "\n",
    "m=re.findall(r\"...ox\",text)# it will match \n",
    "print(m)\n",
    "\n",
    "m=re.findall(r\".e\",text)# it will match single character followed by e\n",
    "print(m)"
   ]
  },
  {
   "cell_type": "code",
   "execution_count": 14,
   "id": "45e195fd",
   "metadata": {},
   "outputs": [
    {
     "name": "stdout",
     "output_type": "stream",
     "text": [
      "['The']\n",
      "[]\n"
     ]
    }
   ],
   "source": [
    "#4 \n",
    "import re\n",
    "text=\"The quick brown fox jumps over the lazy dog\"\n",
    "match=re.findall(r\"^T\\w+\",text) # it will match the word starting with T\n",
    "print(match)\n",
    "match=re.findall(r\"^[a-z]\\w+\",text)\n",
    "print(match)\n"
   ]
  },
  {
   "cell_type": "code",
   "execution_count": 15,
   "id": "0e878a43",
   "metadata": {},
   "outputs": [
    {
     "name": "stdout",
     "output_type": "stream",
     "text": [
      "Matches: []\n",
      "Matches: []\n"
     ]
    }
   ],
   "source": [
    "#5\n",
    "import re\n",
    "\n",
    "text = \"The quick brown fox jumps over the lazy dog\"\n",
    "\n",
    "# Match words ending with \"dog\"\n",
    "matches = re.findall(r\"\\w+dog$\", text)\n",
    "print(\"Matches:\", matches)\n",
    "\n",
    "# Match words ending with a period\n",
    "matches = re.findall(r\"\\w+\\.$\", text)\n",
    "print(\"Matches:\", matches)\n"
   ]
  },
  {
   "cell_type": "code",
   "execution_count": 16,
   "id": "c9034854",
   "metadata": {},
   "outputs": [
    {
     "name": "stdout",
     "output_type": "stream",
     "text": [
      "Matches: ['own', 'ox', 'over', 'og']\n",
      "Matches: ['own']\n"
     ]
    }
   ],
   "source": [
    "#6\n",
    "import re\n",
    "\n",
    "text = \"The quick brown fox jumps over the lazy dog\"\n",
    "\n",
    "# Match words containing \"o\" followed by zero or more characters\n",
    "matches = re.findall(r\"o\\w*\", text)\n",
    "print(\"Matches:\", matches)\n",
    "\n",
    "# Match words containing \"ow\" followed by zero or more characters\n",
    "matches = re.findall(r\"ow\\w*\", text)\n",
    "print(\"Matches:\", matches)\n"
   ]
  },
  {
   "cell_type": "code",
   "execution_count": 17,
   "id": "594e7de3",
   "metadata": {},
   "outputs": [
    {
     "name": "stdout",
     "output_type": "stream",
     "text": [
      "Matches: ['own', 'ox', 'over', 'og']\n",
      "Matches: ['own']\n"
     ]
    }
   ],
   "source": [
    "#7\n",
    "import re\n",
    "\n",
    "text = \"The quick brown fox jumps over the lazy dog\"\n",
    "\n",
    "# Match words containing \"o\" followed by one or more characters\n",
    "matches = re.findall(r\"o\\w+\", text)\n",
    "print(\"Matches:\", matches)\n",
    "\n",
    "# Match words containing \"ow\" followed by one or more characters\n",
    "matches = re.findall(r\"ow\\w+\", text)\n",
    "print(\"Matches:\", matches)"
   ]
  },
  {
   "cell_type": "code",
   "execution_count": 18,
   "id": "52c21a4d",
   "metadata": {},
   "outputs": [
    {
     "name": "stdout",
     "output_type": "stream",
     "text": [
      "Matches: ['x']\n",
      "Matches: ['ox']\n"
     ]
    }
   ],
   "source": [
    "#8\n",
    "import re\n",
    "\n",
    "text = \"The quick brown fox jumps over the lazy dog\"\n",
    "\n",
    "# Match words containing \"x\" followed by zero or one occurrence of \"e\"\n",
    "matches = re.findall(r\"xe?\", text)\n",
    "print(\"Matches:\", matches)\n",
    "\n",
    "# Match words containing \"ox\" followed by zero or one occurrence of \"e\"\n",
    "matches = re.findall(r\"oxe?\", text)\n",
    "print(\"Matches:\", matches)\n"
   ]
  },
  {
   "cell_type": "code",
   "execution_count": 19,
   "id": "dd0ad4d9",
   "metadata": {},
   "outputs": [
    {
     "name": "stdout",
     "output_type": "stream",
     "text": [
      "Matches: ['wn fox']\n",
      "Matches: ['The', 'ove', 'the']\n"
     ]
    }
   ],
   "source": [
    "#9\n",
    "import re\n",
    "\n",
    "text = \"The quick brown fox jumps over the lazy dog\"\n",
    "\n",
    "# Match words containing exactly three characters followed by \"ox\"\n",
    "matches = re.findall(r\"...\\wox\", text)\n",
    "print(\"Matches:\", matches)\n",
    "\n",
    "# Match words containing exactly two characters followed by \"e\"\n",
    "matches = re.findall(r\"..e\", text)\n",
    "print(\"Matches:\", matches)"
   ]
  },
  {
   "cell_type": "code",
   "execution_count": 20,
   "id": "b9e00d9b",
   "metadata": {},
   "outputs": [
    {
     "name": "stdout",
     "output_type": "stream",
     "text": [
      "Matches: ['brown', 'jumps']\n",
      "Matches: ['lazy', 'dog']\n"
     ]
    }
   ],
   "source": [
    "#10\n",
    "import re\n",
    "\n",
    "text = \"The quick brown fox jumps over the lazy dog\"\n",
    "\n",
    "# Match words containing \"brown\" or \"jumps\"\n",
    "matches = re.findall(r\"brown|jumps\", text)\n",
    "print(\"Matches:\", matches)\n",
    "\n",
    "# Match words containing \"lazy\" or \"dog\"\n",
    "matches = re.findall(r\"lazy|dog\", text)\n",
    "print(\"Matches:\", matches)\n"
   ]
  },
  {
   "cell_type": "code",
   "execution_count": null,
   "id": "fd70c8cb",
   "metadata": {},
   "outputs": [],
   "source": []
  }
 ],
 "metadata": {
  "kernelspec": {
   "display_name": "Python 3 (ipykernel)",
   "language": "python",
   "name": "python3"
  },
  "language_info": {
   "codemirror_mode": {
    "name": "ipython",
    "version": 3
   },
   "file_extension": ".py",
   "mimetype": "text/x-python",
   "name": "python",
   "nbconvert_exporter": "python",
   "pygments_lexer": "ipython3",
   "version": "3.11.5"
  }
 },
 "nbformat": 4,
 "nbformat_minor": 5
}
