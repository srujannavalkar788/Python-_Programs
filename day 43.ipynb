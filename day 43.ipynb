{
 "cells": [
  {
   "cell_type": "code",
   "execution_count": 1,
   "id": "624eeccf",
   "metadata": {},
   "outputs": [
    {
     "name": "stdout",
     "output_type": "stream",
     "text": [
      "hello world\n"
     ]
    }
   ],
   "source": [
    "#1\n",
    "print('hello world')"
   ]
  },
  {
   "cell_type": "code",
   "execution_count": 2,
   "id": "cd3ccf1d",
   "metadata": {},
   "outputs": [
    {
     "name": "stdout",
     "output_type": "stream",
     "text": [
      "enter any number:10\n",
      "enter any number:2\n",
      "sum 12\n",
      "sub 8\n",
      "mul 20\n",
      "div 5.0\n"
     ]
    }
   ],
   "source": [
    "#2 simple calculator\n",
    "a=int(input('enter any number:'))\n",
    "b=int(input('enter any number:'))\n",
    "\n",
    "print(\"sum\",a+b)\n",
    "print('sub',a-b)\n",
    "print('mul',a*b)\n",
    "print('div',a/b)\n"
   ]
  },
  {
   "cell_type": "code",
   "execution_count": 5,
   "id": "39eb21e5",
   "metadata": {},
   "outputs": [
    {
     "name": "stdout",
     "output_type": "stream",
     "text": [
      "enter the number:4\n",
      "factorial 24\n"
     ]
    }
   ],
   "source": [
    "#3 factorial \n",
    "def factorial(n):\n",
    "    if n==0:\n",
    "        return 1 \n",
    "    else:\n",
    "        return n*factorial(n-1)\n",
    "    \n",
    "num=int(input('enter the number:'))\n",
    "print('factorial',factorial(num))"
   ]
  },
  {
   "cell_type": "code",
   "execution_count": 8,
   "id": "0f055aab",
   "metadata": {},
   "outputs": [
    {
     "name": "stdout",
     "output_type": "stream",
     "text": [
      "enter the term10\n",
      "0\n",
      "1\n",
      "1\n",
      "2\n",
      "3\n",
      "5\n",
      "8\n",
      "13\n",
      "21\n",
      "34\n"
     ]
    }
   ],
   "source": [
    "#4 fibonacci sequence \n",
    "def fibonacci(n):\n",
    "    if n<=1:\n",
    "        return n\n",
    "    else:\n",
    "        return fibonacci(n-1)+fibonacci(n-2)\n",
    "    \n",
    "term=int(input('enter the term'))\n",
    "for i in range(term):\n",
    "    print(fibonacci(i))"
   ]
  },
  {
   "cell_type": "code",
   "execution_count": 13,
   "id": "ffdc451e",
   "metadata": {},
   "outputs": [
    {
     "name": "stdout",
     "output_type": "stream",
     "text": [
      "enter any number:3\n",
      "non prime\n"
     ]
    }
   ],
   "source": [
    "#5 check the prime number\n",
    "def is_prime(n):\n",
    "    if n<=1:\n",
    "        return False\n",
    "    for i in range(2,int(n**0.5)+1):\n",
    "        if n % i==0:\n",
    "            return False\n",
    "        return True\n",
    "\n",
    "num=int(input('enter any number:'))\n",
    "\n",
    "if is_prime(num):\n",
    "    print('prime')\n",
    "else:\n",
    "    print('non prime')\n",
    "    \n",
    "    "
   ]
  },
  {
   "cell_type": "code",
   "execution_count": 14,
   "id": "0e7d26cd",
   "metadata": {},
   "outputs": [
    {
     "name": "stdout",
     "output_type": "stream",
     "text": [
      "enter p:20\n",
      "enter r:30\n",
      "enter t:40\n",
      "simple interest : 240.0\n"
     ]
    }
   ],
   "source": [
    "# 6 simple interest\n",
    "\n",
    "p=int(input('enter p:'))\n",
    "r=int(input('enter r:'))\n",
    "t=int(input('enter t:'))\n",
    "\n",
    "SI=(p*r*t)/100\n",
    "print(\"simple interest :\",SI)"
   ]
  },
  {
   "cell_type": "code",
   "execution_count": 16,
   "id": "2fe1721b",
   "metadata": {},
   "outputs": [
    {
     "name": "stdout",
     "output_type": "stream",
     "text": [
      "enter any number:3\n",
      "odd\n"
     ]
    }
   ],
   "source": [
    "#7 even odd\n",
    "\n",
    "num=int(input('enter any number:'))\n",
    "if num %2==0:\n",
    "    print('even')\n",
    "else:\n",
    "    print('odd')"
   ]
  },
  {
   "cell_type": "code",
   "execution_count": 17,
   "id": "0c3ff406",
   "metadata": {},
   "outputs": [
    {
     "name": "stdout",
     "output_type": "stream",
     "text": [
      "enter the radius:4\n",
      "50.26548245743669\n"
     ]
    }
   ],
   "source": [
    "# 8 area of circle\n",
    "import math\n",
    "r=int(input('enter the radius:'))\n",
    "area=math.pi*r**2\n",
    "print(area)"
   ]
  },
  {
   "cell_type": "code",
   "execution_count": 19,
   "id": "c86faa55",
   "metadata": {},
   "outputs": [
    {
     "name": "stdout",
     "output_type": "stream",
     "text": [
      "[0, 1, 4, 9, 16, 25, 36, 49, 64, 81]\n"
     ]
    }
   ],
   "source": [
    "#9 list compressions\n",
    "squares=[i**2 for i in range(10)]\n",
    "print(squares)"
   ]
  },
  {
   "cell_type": "code",
   "execution_count": 22,
   "id": "f3b78a84",
   "metadata": {},
   "outputs": [
    {
     "name": "stdout",
     "output_type": "stream",
     "text": [
      "data from file: hello this is smaple text.\n"
     ]
    }
   ],
   "source": [
    "#10 simple file handling\n",
    "with open('output.txt','w')as file:\n",
    "    file.write('hello this is smaple text.')\n",
    "    \n",
    "with open(\"output.txt\",'r')as file:\n",
    "    data=file.read()\n",
    "    print('data from file:',data)"
   ]
  },
  {
   "cell_type": "code",
   "execution_count": null,
   "id": "ef42a31a",
   "metadata": {},
   "outputs": [],
   "source": []
  }
 ],
 "metadata": {
  "kernelspec": {
   "display_name": "Python 3 (ipykernel)",
   "language": "python",
   "name": "python3"
  },
  "language_info": {
   "codemirror_mode": {
    "name": "ipython",
    "version": 3
   },
   "file_extension": ".py",
   "mimetype": "text/x-python",
   "name": "python",
   "nbconvert_exporter": "python",
   "pygments_lexer": "ipython3",
   "version": "3.11.5"
  }
 },
 "nbformat": 4,
 "nbformat_minor": 5
}
