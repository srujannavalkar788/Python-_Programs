{
 "cells": [
  {
   "cell_type": "code",
   "execution_count": 1,
   "id": "9b99367e",
   "metadata": {},
   "outputs": [
    {
     "name": "stdout",
     "output_type": "stream",
     "text": [
      "orange\n",
      "green\n",
      "yellow\n",
      "red\n",
      "brown\n",
      "pink\n",
      "blue\n"
     ]
    }
   ],
   "source": [
    "#1 \n",
    "colors= ('orange','green','yellow','red','brown','pink','blue')\n",
    "\n",
    "for index in range(len(colors)):\n",
    "    print(colors[index])"
   ]
  },
  {
   "cell_type": "code",
   "execution_count": 4,
   "id": "d316a0f3",
   "metadata": {},
   "outputs": [
    {
     "name": "stdout",
     "output_type": "stream",
     "text": [
      "orange\n",
      "green\n",
      "yellow\n",
      "red\n",
      "brown\n",
      "pink\n",
      "blue\n"
     ]
    }
   ],
   "source": [
    "#2 \n",
    "i=0\n",
    "while i <len(colors):\n",
    "    print(colors[i])\n",
    "    i+=1"
   ]
  },
  {
   "cell_type": "code",
   "execution_count": 5,
   "id": "e1a46edf",
   "metadata": {},
   "outputs": [
    {
     "name": "stdout",
     "output_type": "stream",
     "text": [
      "[10, 20, (30, 40)]\n"
     ]
    }
   ],
   "source": [
    "#3 \n",
    "a=[10,20,(30,40)]  # 30&40 are tuple\n",
    "print(a)"
   ]
  },
  {
   "cell_type": "code",
   "execution_count": 6,
   "id": "7648888a",
   "metadata": {},
   "outputs": [
    {
     "data": {
      "text/plain": [
       "list"
      ]
     },
     "execution_count": 6,
     "metadata": {},
     "output_type": "execute_result"
    }
   ],
   "source": [
    "#4\n",
    "type(a)"
   ]
  },
  {
   "cell_type": "code",
   "execution_count": 7,
   "id": "f24a3581",
   "metadata": {},
   "outputs": [
    {
     "data": {
      "text/plain": [
       "2709503833216"
      ]
     },
     "execution_count": 7,
     "metadata": {},
     "output_type": "execute_result"
    }
   ],
   "source": [
    "#5 \n",
    "id(a)"
   ]
  },
  {
   "cell_type": "code",
   "execution_count": 8,
   "id": "fdfba5e2",
   "metadata": {},
   "outputs": [
    {
     "name": "stdout",
     "output_type": "stream",
     "text": [
      "[10, 20, (30, 40), (50, 60)]\n"
     ]
    }
   ],
   "source": [
    "a.append((50,60))\n",
    "print(a)"
   ]
  },
  {
   "cell_type": "code",
   "execution_count": 9,
   "id": "7488a395",
   "metadata": {},
   "outputs": [
    {
     "name": "stdout",
     "output_type": "stream",
     "text": [
      "['p1', 'q1', 'p2', 'q2', 'p3', 'q3', 'p4', 'q4']\n"
     ]
    }
   ],
   "source": [
    "# 6Write a Python program to create a list by concatenating a given list with a range from 1 to n.\n",
    "#Sample list : ['p', 'q']\n",
    "\n",
    "l1=['p','q']\n",
    "n=4\n",
    "\n",
    "new_list=['{}{}'.format(x,y) for y in range(1,n+1) for x in l1]\n",
    "print(new_list)\n",
    "    "
   ]
  },
  {
   "cell_type": "code",
   "execution_count": 10,
   "id": "0ee1a3e6",
   "metadata": {},
   "outputs": [
    {
     "name": "stdout",
     "output_type": "stream",
     "text": [
      "{'White', 'Green'}\n"
     ]
    }
   ],
   "source": [
    "#7 \n",
    "color1 = \"Red\", \"Green\", \"Orange\", \"White\"\n",
    "color2 = \"Black\", \"Green\", \"White\", \"Pink\"\n",
    "\n",
    "print(set(color1) & set(color2))"
   ]
  },
  {
   "cell_type": "code",
   "execution_count": null,
   "id": "b62b9e4b",
   "metadata": {},
   "outputs": [],
   "source": [
    "#8 \n"
   ]
  }
 ],
 "metadata": {
  "kernelspec": {
   "display_name": "Python 3 (ipykernel)",
   "language": "python",
   "name": "python3"
  },
  "language_info": {
   "codemirror_mode": {
    "name": "ipython",
    "version": 3
   },
   "file_extension": ".py",
   "mimetype": "text/x-python",
   "name": "python",
   "nbconvert_exporter": "python",
   "pygments_lexer": "ipython3",
   "version": "3.11.5"
  }
 },
 "nbformat": 4,
 "nbformat_minor": 5
}
