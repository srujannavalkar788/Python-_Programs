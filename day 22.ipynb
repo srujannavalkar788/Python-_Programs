{
 "cells": [
  {
   "cell_type": "code",
   "execution_count": 24,
   "id": "8cd0ace2",
   "metadata": {},
   "outputs": [],
   "source": [
    "#1 . Write a Python program to create a class representing a Circle. Include methods to calculate its area and perimeter.\n",
    "\n",
    "class circle():\n",
    "    def inputs(self):\n",
    "        self.r=int(input('enter the radius:'))\n",
    "class area(circle):\n",
    "    def Carea(self):\n",
    "        self.area= 3.14*(self.r**2)\n",
    "        print('area of circle is:',self.area)\n",
    "class perimeter(circle):\n",
    "    def Cperi(self):\n",
    "        self.peri=2*3.14*self.r\n",
    "        print(self.peri)"
   ]
  },
  {
   "cell_type": "code",
   "execution_count": 25,
   "id": "06bf1e11",
   "metadata": {},
   "outputs": [],
   "source": [
    "obj=area()"
   ]
  },
  {
   "cell_type": "code",
   "execution_count": 26,
   "id": "f78c29dd",
   "metadata": {},
   "outputs": [
    {
     "name": "stdout",
     "output_type": "stream",
     "text": [
      "enter the radius:4\n"
     ]
    }
   ],
   "source": [
    "obj.inputs()"
   ]
  },
  {
   "cell_type": "code",
   "execution_count": 27,
   "id": "a9c89dc9",
   "metadata": {},
   "outputs": [
    {
     "name": "stdout",
     "output_type": "stream",
     "text": [
      "area of circle is: 50.24\n"
     ]
    }
   ],
   "source": [
    "obj.Carea()"
   ]
  },
  {
   "cell_type": "code",
   "execution_count": 28,
   "id": "49f67f87",
   "metadata": {},
   "outputs": [],
   "source": [
    "obj2=perimeter()"
   ]
  },
  {
   "cell_type": "code",
   "execution_count": 29,
   "id": "da5f8440",
   "metadata": {},
   "outputs": [
    {
     "name": "stdout",
     "output_type": "stream",
     "text": [
      "enter the radius:24\n"
     ]
    }
   ],
   "source": [
    "obj2.inputs()"
   ]
  },
  {
   "cell_type": "code",
   "execution_count": 30,
   "id": "59fca705",
   "metadata": {},
   "outputs": [
    {
     "name": "stdout",
     "output_type": "stream",
     "text": [
      "150.72\n"
     ]
    }
   ],
   "source": [
    "obj2.Cperi()"
   ]
  },
  {
   "cell_type": "code",
   "execution_count": 39,
   "id": "8607ec6d",
   "metadata": {},
   "outputs": [],
   "source": [
    "from datetime import date\n",
    "\n"
   ]
  },
  {
   "cell_type": "code",
   "execution_count": 1,
   "id": "34e72e14",
   "metadata": {},
   "outputs": [],
   "source": [
    "# 2. Write a Python program to create a person class. \n",
    "#Include attributes like name, country and date of birth. Implement a method to determine the person's age\n",
    "from datetime import date\n",
    "class person():\n",
    "    def __init_(self ,name,country,DOB):\n",
    "        self.Name=name\n",
    "        self.Country=country\n",
    "        self.DOB=DOB\n",
    "    def age_cal(self):\n",
    "        today=date.today()\n",
    "        age=today.year - self.DOB.year\n",
    "        if today< date(today.year,self.DOB.month,self.DOB.day):\n",
    "            age-=1\n",
    "        return age\n"
   ]
  },
  {
   "cell_type": "code",
   "execution_count": 11,
   "id": "1b48a0c0",
   "metadata": {},
   "outputs": [
    {
     "ename": "TypeError",
     "evalue": "person() takes no arguments",
     "output_type": "error",
     "traceback": [
      "\u001b[1;31m---------------------------------------------------------------------------\u001b[0m",
      "\u001b[1;31mTypeError\u001b[0m                                 Traceback (most recent call last)",
      "Cell \u001b[1;32mIn[11], line 1\u001b[0m\n\u001b[1;32m----> 1\u001b[0m person1\u001b[38;5;241m=\u001b[39m\u001b[43mperson\u001b[49m\u001b[43m(\u001b[49m\u001b[38;5;124;43m'\u001b[39;49m\u001b[38;5;124;43msrujan\u001b[39;49m\u001b[38;5;124;43m'\u001b[39;49m\u001b[43m,\u001b[49m\u001b[38;5;124;43m'\u001b[39;49m\u001b[38;5;124;43mindia\u001b[39;49m\u001b[38;5;124;43m'\u001b[39;49m\u001b[43m,\u001b[49m\u001b[43mdate\u001b[49m\u001b[43m(\u001b[49m\u001b[38;5;241;43m2003\u001b[39;49m\u001b[43m,\u001b[49m\u001b[38;5;241;43m4\u001b[39;49m\u001b[43m,\u001b[49m\u001b[38;5;241;43m29\u001b[39;49m\u001b[43m)\u001b[49m\u001b[43m)\u001b[49m\n\u001b[0;32m      2\u001b[0m \u001b[38;5;28mprint\u001b[39m(\u001b[38;5;124m\"\u001b[39m\u001b[38;5;124mperson1:\u001b[39m\u001b[38;5;124m\"\u001b[39m)\n\u001b[0;32m      3\u001b[0m \u001b[38;5;28mprint\u001b[39m(\u001b[38;5;124m'\u001b[39m\u001b[38;5;124mname\u001b[39m\u001b[38;5;124m'\u001b[39m,person1\u001b[38;5;241m.\u001b[39mname)\n",
      "\u001b[1;31mTypeError\u001b[0m: person() takes no arguments"
     ]
    }
   ],
   "source": [
    "person1=person('srujan','india',date(2003,4,29))\n",
    "print(\"person1:\")\n",
    "print('name',person1.name)\n",
    "print('country',person1.country)\n",
    "print('DOB',person1.DOB)\n",
    "print('age',person1.age_cal())"
   ]
  },
  {
   "cell_type": "code",
   "execution_count": 49,
   "id": "a888686f",
   "metadata": {},
   "outputs": [],
   "source": [
    "#3Write a Python program to create a calculator class. Include methods for basic arithmetic operations.\n",
    "\n",
    "class calculator():\n",
    "    def add(self,x,y):\n",
    "        return x+y\n",
    "    def sub(self,x,y):\n",
    "        return x-y\n",
    "    def mul(self,x,y):\n",
    "        return x*y\n",
    "    def div(self,x,y):\n",
    "        if y!=0:\n",
    "            return x/y\n",
    "        else:\n",
    "            print('cannot divide by zero')\n",
    "        "
   ]
  },
  {
   "cell_type": "code",
   "execution_count": 50,
   "id": "d13e692d",
   "metadata": {},
   "outputs": [],
   "source": [
    "cal=calculator()"
   ]
  },
  {
   "cell_type": "code",
   "execution_count": 51,
   "id": "015e26b2",
   "metadata": {},
   "outputs": [
    {
     "data": {
      "text/plain": [
       "7"
      ]
     },
     "execution_count": 51,
     "metadata": {},
     "output_type": "execute_result"
    }
   ],
   "source": [
    "cal.add(2,5)"
   ]
  },
  {
   "cell_type": "code",
   "execution_count": 52,
   "id": "a05634c7",
   "metadata": {},
   "outputs": [
    {
     "data": {
      "text/plain": [
       "-25"
      ]
     },
     "execution_count": 52,
     "metadata": {},
     "output_type": "execute_result"
    }
   ],
   "source": [
    "cal.sub(5,30)"
   ]
  },
  {
   "cell_type": "code",
   "execution_count": 53,
   "id": "e9abf5ad",
   "metadata": {},
   "outputs": [
    {
     "data": {
      "text/plain": [
       "10"
      ]
     },
     "execution_count": 53,
     "metadata": {},
     "output_type": "execute_result"
    }
   ],
   "source": [
    "cal.mul(2,5)"
   ]
  },
  {
   "cell_type": "code",
   "execution_count": 54,
   "id": "0e4ab9c8",
   "metadata": {},
   "outputs": [
    {
     "data": {
      "text/plain": [
       "5.0"
      ]
     },
     "execution_count": 54,
     "metadata": {},
     "output_type": "execute_result"
    }
   ],
   "source": [
    "cal.div(10,2)"
   ]
  },
  {
   "cell_type": "code",
   "execution_count": 2,
   "id": "c84b3aac",
   "metadata": {},
   "outputs": [
    {
     "name": "stdout",
     "output_type": "stream",
     "text": [
      "210\n"
     ]
    }
   ],
   "source": [
    "#4  sum the numbers from 1 to 20 using for loop\n",
    "\n",
    "sum=0\n",
    "for i in range(1,21):\n",
    "    sum+=i\n",
    "print(sum)"
   ]
  },
  {
   "cell_type": "code",
   "execution_count": 2,
   "id": "9d217f28",
   "metadata": {},
   "outputs": [
    {
     "name": "stdout",
     "output_type": "stream",
     "text": [
      "100\n",
      "99\n",
      "98\n",
      "97\n",
      "96\n",
      "95\n",
      "94\n",
      "93\n",
      "92\n",
      "91\n",
      "90\n",
      "89\n",
      "88\n",
      "87\n",
      "86\n",
      "85\n",
      "84\n",
      "83\n",
      "82\n",
      "81\n",
      "80\n",
      "79\n",
      "78\n",
      "77\n",
      "76\n",
      "75\n",
      "74\n",
      "73\n",
      "72\n",
      "71\n",
      "70\n",
      "69\n",
      "68\n",
      "67\n",
      "66\n",
      "65\n",
      "64\n",
      "63\n",
      "62\n",
      "61\n",
      "60\n",
      "59\n",
      "58\n",
      "57\n",
      "56\n",
      "55\n",
      "54\n",
      "53\n",
      "52\n",
      "51\n",
      "50\n",
      "49\n",
      "48\n",
      "47\n",
      "46\n",
      "45\n",
      "44\n",
      "43\n",
      "42\n",
      "41\n",
      "40\n",
      "39\n",
      "38\n",
      "37\n",
      "36\n",
      "35\n",
      "34\n",
      "33\n",
      "32\n",
      "31\n",
      "30\n",
      "29\n",
      "28\n",
      "27\n",
      "26\n",
      "25\n",
      "24\n",
      "23\n",
      "22\n",
      "21\n",
      "20\n",
      "19\n",
      "18\n",
      "17\n",
      "16\n",
      "15\n",
      "14\n",
      "13\n",
      "12\n",
      "11\n",
      "10\n",
      "9\n",
      "8\n",
      "7\n",
      "6\n",
      "5\n",
      "4\n",
      "3\n",
      "2\n",
      "1\n"
     ]
    }
   ],
   "source": [
    "#5 Display the numbers in reverse from 100 to 1\n",
    "num=101\n",
    "while num>1:\n",
    "    num-=1\n",
    "    print(num)"
   ]
  },
  {
   "cell_type": "code",
   "execution_count": 3,
   "id": "d1dcfffa",
   "metadata": {},
   "outputs": [
    {
     "name": "stdout",
     "output_type": "stream",
     "text": [
      "10\n",
      "12\n",
      "14\n",
      "16\n",
      "18\n",
      "20\n",
      "22\n",
      "24\n",
      "26\n",
      "28\n",
      "30\n",
      "32\n",
      "34\n",
      "36\n",
      "38\n",
      "40\n",
      "42\n",
      "44\n",
      "46\n",
      "48\n",
      "50\n"
     ]
    }
   ],
   "source": [
    "# 6 Display multiples of 2 from 10 to 50 using range\n",
    "for i in range(10,51):\n",
    "    if i%2==0:\n",
    "        print(i)"
   ]
  },
  {
   "cell_type": "code",
   "execution_count": 6,
   "id": "44f88b44",
   "metadata": {},
   "outputs": [],
   "source": [
    "#7 )From the below nested dictionary, pick the word \"Bangalore\". \n",
    "\n",
    "d = {1:'One',2:[1,{'Two':['Ch','Cbe','Salem',{'Place':[5,6,7,'Bangalore']}]}]}"
   ]
  },
  {
   "cell_type": "code",
   "execution_count": 7,
   "id": "006f0872",
   "metadata": {},
   "outputs": [
    {
     "data": {
      "text/plain": [
       "'Bangalore'"
      ]
     },
     "execution_count": 7,
     "metadata": {},
     "output_type": "execute_result"
    }
   ],
   "source": [
    "d[2][1]['Two'][3]['Place'][3]"
   ]
  },
  {
   "cell_type": "code",
   "execution_count": 11,
   "id": "46f1fe5a",
   "metadata": {},
   "outputs": [],
   "source": [
    "#8 Use functions to return square of numbers from 2 to 5 \n",
    "def print_square():\n",
    "    for i in range(2,6):\n",
    "        sq=i**2\n",
    "        print(sq)"
   ]
  },
  {
   "cell_type": "code",
   "execution_count": 12,
   "id": "6a093e0d",
   "metadata": {},
   "outputs": [
    {
     "name": "stdout",
     "output_type": "stream",
     "text": [
      "4\n",
      "9\n",
      "16\n",
      "25\n"
     ]
    }
   ],
   "source": [
    "print_square()"
   ]
  },
  {
   "cell_type": "code",
   "execution_count": 13,
   "id": "fd7e9271",
   "metadata": {},
   "outputs": [
    {
     "data": {
      "text/plain": [
       "17.2"
      ]
     },
     "execution_count": 13,
     "metadata": {},
     "output_type": "execute_result"
    }
   ],
   "source": [
    "#9 Solve the expression. 5.2 + True + bool(-5) - 4 + 42//5 +bool(0) + False + int(5.9) + float('1')\n",
    "exp=5.2+True+bool(-5)-4+(42//5)+bool(0)+False+int(5.9)+float('1')\n",
    "exp"
   ]
  },
  {
   "cell_type": "code",
   "execution_count": 15,
   "id": "01fb68b8",
   "metadata": {},
   "outputs": [
    {
     "name": "stdout",
     "output_type": "stream",
     "text": [
      "enter the number10\n",
      "num lies between 1 to 10\n"
     ]
    }
   ],
   "source": [
    "#10 Write code to test whether the given number lies between 1 and 10\n",
    "num=int(input(\"enter the number\"))\n",
    "if num>0 and num<11:\n",
    "    print(\"num lies between 1 to 10\")\n",
    "else:\n",
    "    print(\"out of range\")"
   ]
  },
  {
   "cell_type": "code",
   "execution_count": null,
   "id": "e11959bb",
   "metadata": {},
   "outputs": [],
   "source": []
  },
  {
   "cell_type": "code",
   "execution_count": null,
   "id": "9ed16ef3",
   "metadata": {},
   "outputs": [],
   "source": []
  }
 ],
 "metadata": {
  "kernelspec": {
   "display_name": "Python 3 (ipykernel)",
   "language": "python",
   "name": "python3"
  },
  "language_info": {
   "codemirror_mode": {
    "name": "ipython",
    "version": 3
   },
   "file_extension": ".py",
   "mimetype": "text/x-python",
   "name": "python",
   "nbconvert_exporter": "python",
   "pygments_lexer": "ipython3",
   "version": "3.11.5"
  }
 },
 "nbformat": 4,
 "nbformat_minor": 5
}
