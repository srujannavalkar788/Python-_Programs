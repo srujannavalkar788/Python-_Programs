{
 "cells": [
  {
   "cell_type": "code",
   "execution_count": 2,
   "id": "b4a3c465",
   "metadata": {},
   "outputs": [
    {
     "data": {
      "text/plain": [
       "['om',\n",
       " 'ram',\n",
       " 'sham',\n",
       " 'ganesh',\n",
       " 'hariom',\n",
       " 'mahesh',\n",
       " 'lalu',\n",
       " 'chintu',\n",
       " 'golu',\n",
       " 'chotu']"
      ]
     },
     "execution_count": 2,
     "metadata": {},
     "output_type": "execute_result"
    }
   ],
   "source": [
    "#1 list append function\n",
    "\n",
    "names=[\"om\",\"ram\",'sham','ganesh','hariom','mahesh','lalu','chintu','golu','chotu']\n",
    "\n",
    "names\n",
    "\n"
   ]
  },
  {
   "cell_type": "code",
   "execution_count": 3,
   "id": "cf61ebf1",
   "metadata": {},
   "outputs": [
    {
     "data": {
      "text/plain": [
       "['om',\n",
       " 'ram',\n",
       " 'sham',\n",
       " 'ganesh',\n",
       " 'hariom',\n",
       " 'mahesh',\n",
       " 'lalu',\n",
       " 'chintu',\n",
       " 'golu',\n",
       " 'chotu',\n",
       " 'soham']"
      ]
     },
     "execution_count": 3,
     "metadata": {},
     "output_type": "execute_result"
    }
   ],
   "source": [
    "names.append('soham')\n",
    "names"
   ]
  },
  {
   "cell_type": "code",
   "execution_count": 4,
   "id": "29b91eda",
   "metadata": {},
   "outputs": [
    {
     "data": {
      "text/plain": [
       "['om',\n",
       " 'ram',\n",
       " 'sham',\n",
       " 'ganesh',\n",
       " 'hariom',\n",
       " 'mahesh',\n",
       " 'lalu',\n",
       " 'chintu',\n",
       " 'golu',\n",
       " 'chotu',\n",
       " 'soham',\n",
       " 2]"
      ]
     },
     "execution_count": 4,
     "metadata": {},
     "output_type": "execute_result"
    }
   ],
   "source": [
    "# 2 append numeric element in the list\n",
    "names.append(2)\n",
    "names"
   ]
  },
  {
   "cell_type": "code",
   "execution_count": 5,
   "id": "8a08b471",
   "metadata": {},
   "outputs": [
    {
     "data": {
      "text/plain": [
       "['om',\n",
       " 'ram',\n",
       " 'sham',\n",
       " 34,\n",
       " 'ganesh',\n",
       " 'hariom',\n",
       " 'mahesh',\n",
       " 'lalu',\n",
       " 'chintu',\n",
       " 'golu',\n",
       " 'chotu',\n",
       " 'soham',\n",
       " 2]"
      ]
     },
     "execution_count": 5,
     "metadata": {},
     "output_type": "execute_result"
    }
   ],
   "source": [
    "#3 insert elements in the list \n",
    "names.insert(3,34)\n",
    "names"
   ]
  },
  {
   "cell_type": "code",
   "execution_count": 7,
   "id": "b809aad0",
   "metadata": {},
   "outputs": [
    {
     "data": {
      "text/plain": [
       "['om',\n",
       " 'ram',\n",
       " 'sham',\n",
       " 34,\n",
       " 'ganesh',\n",
       " 'hariom',\n",
       " 'mahesh',\n",
       " 'lalu',\n",
       " 'chintu',\n",
       " 'golu',\n",
       " 'chotu',\n",
       " 'soham',\n",
       " 2,\n",
       " 23,\n",
       " 45,\n",
       " 67]"
      ]
     },
     "execution_count": 7,
     "metadata": {},
     "output_type": "execute_result"
    }
   ],
   "source": [
    "#4  extend elements in the list\n",
    "names.extend([23,45,67])\n",
    "names"
   ]
  },
  {
   "cell_type": "code",
   "execution_count": 8,
   "id": "e2808f24",
   "metadata": {},
   "outputs": [
    {
     "data": {
      "text/plain": [
       "['om',\n",
       " 'ram',\n",
       " 'sham',\n",
       " 34,\n",
       " 'ganesh',\n",
       " 'hariom',\n",
       " 'mahesh',\n",
       " 'lalu',\n",
       " 'chintu',\n",
       " 'golu',\n",
       " 'chotu',\n",
       " 'soham',\n",
       " 2,\n",
       " 23,\n",
       " 45]"
      ]
     },
     "execution_count": 8,
     "metadata": {},
     "output_type": "execute_result"
    }
   ],
   "source": [
    "# 5 pop operation on list to remove the element it will LIFO\n",
    "names.pop()\n",
    "names\n"
   ]
  },
  {
   "cell_type": "code",
   "execution_count": 9,
   "id": "bf5e979f",
   "metadata": {},
   "outputs": [
    {
     "data": {
      "text/plain": [
       "['om',\n",
       " 'ram',\n",
       " 34,\n",
       " 'ganesh',\n",
       " 'hariom',\n",
       " 'mahesh',\n",
       " 'lalu',\n",
       " 'chintu',\n",
       " 'golu',\n",
       " 'chotu',\n",
       " 'soham',\n",
       " 2,\n",
       " 23,\n",
       " 45]"
      ]
     },
     "execution_count": 9,
     "metadata": {},
     "output_type": "execute_result"
    }
   ],
   "source": [
    "#6 \n",
    "names.pop(2)\n",
    "names"
   ]
  },
  {
   "cell_type": "code",
   "execution_count": 11,
   "id": "f15057cc",
   "metadata": {},
   "outputs": [
    {
     "data": {
      "text/plain": [
       "['om',\n",
       " 'ram',\n",
       " 34,\n",
       " 'hariom',\n",
       " 'mahesh',\n",
       " 'lalu',\n",
       " 'chintu',\n",
       " 'golu',\n",
       " 'chotu',\n",
       " 'soham',\n",
       " 2,\n",
       " 23,\n",
       " 45]"
      ]
     },
     "execution_count": 11,
     "metadata": {},
     "output_type": "execute_result"
    }
   ],
   "source": [
    "#7\n",
    "names.remove('ganesh')\n",
    "names"
   ]
  },
  {
   "cell_type": "code",
   "execution_count": 15,
   "id": "69ab8df5",
   "metadata": {},
   "outputs": [
    {
     "data": {
      "text/plain": [
       "['om',\n",
       " 'ram',\n",
       " 'hariom',\n",
       " 'mahesh',\n",
       " 'lalu',\n",
       " 'chintu',\n",
       " 'golu',\n",
       " 'chotu',\n",
       " 'soham',\n",
       " 2,\n",
       " 23,\n",
       " 45]"
      ]
     },
     "execution_count": 15,
     "metadata": {},
     "output_type": "execute_result"
    }
   ],
   "source": [
    "#8 \n",
    "names.remove(34)\n",
    "names"
   ]
  },
  {
   "cell_type": "code",
   "execution_count": 16,
   "id": "2fc363b2",
   "metadata": {},
   "outputs": [
    {
     "data": {
      "text/plain": [
       "[]"
      ]
     },
     "execution_count": 16,
     "metadata": {},
     "output_type": "execute_result"
    }
   ],
   "source": [
    "#9\n",
    "names.clear()\n",
    "names"
   ]
  },
  {
   "cell_type": "code",
   "execution_count": 18,
   "id": "788eefb7",
   "metadata": {},
   "outputs": [
    {
     "ename": "NameError",
     "evalue": "name 'names' is not defined",
     "output_type": "error",
     "traceback": [
      "\u001b[1;31m---------------------------------------------------------------------------\u001b[0m",
      "\u001b[1;31mNameError\u001b[0m                                 Traceback (most recent call last)",
      "Cell \u001b[1;32mIn[18], line 1\u001b[0m\n\u001b[1;32m----> 1\u001b[0m \u001b[38;5;28;01mdel\u001b[39;00m \u001b[43mnames\u001b[49m\n\u001b[0;32m      2\u001b[0m names\n",
      "\u001b[1;31mNameError\u001b[0m: name 'names' is not defined"
     ]
    }
   ],
   "source": [
    "#10\n",
    "del names\n",
    "names"
   ]
  },
  {
   "cell_type": "code",
   "execution_count": null,
   "id": "6c3c13db",
   "metadata": {},
   "outputs": [],
   "source": []
  }
 ],
 "metadata": {
  "kernelspec": {
   "display_name": "Python 3 (ipykernel)",
   "language": "python",
   "name": "python3"
  },
  "language_info": {
   "codemirror_mode": {
    "name": "ipython",
    "version": 3
   },
   "file_extension": ".py",
   "mimetype": "text/x-python",
   "name": "python",
   "nbconvert_exporter": "python",
   "pygments_lexer": "ipython3",
   "version": "3.11.5"
  }
 },
 "nbformat": 4,
 "nbformat_minor": 5
}
