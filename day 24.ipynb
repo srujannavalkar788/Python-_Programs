{
 "cells": [
  {
   "cell_type": "code",
   "execution_count": 1,
   "id": "7ca9f691",
   "metadata": {},
   "outputs": [],
   "source": [
    "#1 Write a Python function to multiply all the numbers in a list. Sample List : (8, 2, 3, -1, 7) Expected Output : -336\n",
    "def mul(l1):\n",
    "    res=1\n",
    "    for n in l1:\n",
    "        res*=n\n",
    "    return res\n",
    "    "
   ]
  },
  {
   "cell_type": "code",
   "execution_count": 2,
   "id": "7d0ee1d0",
   "metadata": {},
   "outputs": [
    {
     "data": {
      "text/plain": [
       "-336"
      ]
     },
     "execution_count": 2,
     "metadata": {},
     "output_type": "execute_result"
    }
   ],
   "source": [
    "l=[8,2,3,-1,7]\n",
    "mul(l)"
   ]
  },
  {
   "cell_type": "code",
   "execution_count": 10,
   "id": "c50af966",
   "metadata": {},
   "outputs": [
    {
     "data": {
      "text/plain": [
       "'dcba4321'"
      ]
     },
     "execution_count": 10,
     "metadata": {},
     "output_type": "execute_result"
    }
   ],
   "source": [
    "#2 Write a Python program to reverse a string. Sample String : \"1234abcd\" Expected Output : \"dcba4321\"\n",
    "\n",
    "s1='1234abcd'\n",
    "\n",
    "s1[::-1]\n",
    "\n",
    "\n"
   ]
  },
  {
   "cell_type": "code",
   "execution_count": 20,
   "id": "0a214514",
   "metadata": {},
   "outputs": [],
   "source": [
    "# 3Write a Python function to calculate the factorial of a number (a non-negative integer). \n",
    "#The function accepts the number as an argument.\n",
    "\n",
    "def fact(n):\n",
    "    res=1\n",
    "    for i in range(1,n+1):\n",
    "        res*=i\n",
    "    return res\n",
    "    \n",
    "        "
   ]
  },
  {
   "cell_type": "code",
   "execution_count": 21,
   "id": "f31fb9e7",
   "metadata": {},
   "outputs": [
    {
     "data": {
      "text/plain": [
       "24"
      ]
     },
     "execution_count": 21,
     "metadata": {},
     "output_type": "execute_result"
    }
   ],
   "source": [
    "fact(4)\n"
   ]
  },
  {
   "cell_type": "code",
   "execution_count": 28,
   "id": "59ead7d1",
   "metadata": {},
   "outputs": [],
   "source": [
    "#4 Write a Python function to check whether a number falls within a given range\n",
    "\n",
    "def check(n):\n",
    "    if n  in range(1,20):\n",
    "        print(\"yes\",n)\n",
    "    else:\n",
    "        print(\"number is out of range\")\n",
    "        "
   ]
  },
  {
   "cell_type": "code",
   "execution_count": 32,
   "id": "a296d7db",
   "metadata": {},
   "outputs": [
    {
     "name": "stdout",
     "output_type": "stream",
     "text": [
      "yes 19\n"
     ]
    }
   ],
   "source": [
    "check(19)"
   ]
  },
  {
   "cell_type": "code",
   "execution_count": 38,
   "id": "2ef7ebe9",
   "metadata": {},
   "outputs": [],
   "source": [
    "# 5 Write a Python function that accepts a string and counts the number of upper and lower case letters. Sample String : \n",
    "#'The quick Brow Fox' \n",
    "#Expected Output : No. of Upper case characters : 3 No. of Lower case Characters : 12\n",
    "\n",
    "def string(string):\n",
    "    u_count=0\n",
    "    l_count=0\n",
    "    for char in string:\n",
    "        if char.isupper():\n",
    "            u_count+=1\n",
    "        elif char.islower():\n",
    "            l_count+=1\n",
    "    return u_count,l_count"
   ]
  },
  {
   "cell_type": "code",
   "execution_count": 39,
   "id": "09600189",
   "metadata": {},
   "outputs": [
    {
     "name": "stdout",
     "output_type": "stream",
     "text": [
      "upper case char 3\n",
      "lower case char 12\n"
     ]
    }
   ],
   "source": [
    "s=\"The quick Brow Fox\"\n",
    "upper_count,lower_count=string(s)\n",
    "print(\"upper case char\",upper_count)\n",
    "print(\"lower case char\",lower_count)"
   ]
  },
  {
   "cell_type": "code",
   "execution_count": 40,
   "id": "d2d37550",
   "metadata": {},
   "outputs": [],
   "source": [
    "#6 Write a Python function that takes a list and returns a new list with distinct elements from the first list. \n",
    "#Sample List : [1,2,3,3,3,3,4,5] Unique List : [1, 2, 3, 4, 5]\n",
    "\n",
    "def checklist(list_):\n",
    "    con=set(list_)\n",
    "    print(list(con))\n",
    "    "
   ]
  },
  {
   "cell_type": "code",
   "execution_count": 41,
   "id": "ca2a1207",
   "metadata": {},
   "outputs": [
    {
     "name": "stdout",
     "output_type": "stream",
     "text": [
      "[1, 2, 3, 4, 5]\n"
     ]
    }
   ],
   "source": [
    "checklist([1,2,3,3,3,3,3,4,5])"
   ]
  },
  {
   "cell_type": "code",
   "execution_count": 59,
   "id": "4476729f",
   "metadata": {},
   "outputs": [],
   "source": [
    "# 7 Write a Python function that takes a number as a parameter and checks whether the number is prime or not. Note : \n",
    "#A prime number (or a prime) is a natural number greater than 1 and that has no positive divisors other than 1 and itself.\n",
    "\n",
    "def primeornot(num):\n",
    "    if num > 1:\n",
    "        for i in range(2, int(num/2)+1):\n",
    "            if (num % i) == 0:\n",
    "                print(num, \"is not a prime number\")\n",
    "                break\n",
    "        else:\n",
    "            print(num, \"is a prime number\")\n",
    "    else:\n",
    "        print(num, \"is not a prime number\")"
   ]
  },
  {
   "cell_type": "code",
   "execution_count": 60,
   "id": "ce4ee25a",
   "metadata": {},
   "outputs": [
    {
     "name": "stdout",
     "output_type": "stream",
     "text": [
      "11 is a prime number\n"
     ]
    }
   ],
   "source": [
    "primeornot(11)"
   ]
  },
  {
   "cell_type": "code",
   "execution_count": 65,
   "id": "a9644f07",
   "metadata": {},
   "outputs": [
    {
     "name": "stdout",
     "output_type": "stream",
     "text": [
      "[2, 4, 6, 8]\n"
     ]
    }
   ],
   "source": [
    "#8 Write a Python program to print the even numbers from a given list.\n",
    "#Sample List : [1, 2, 3, 4, 5, 6, 7, 8, 9] Expected Result : [2, 4, 6, 8]\n",
    "\n",
    "LIST=[1,2,3,4,5,6,7,8,9]\n",
    "even=[]\n",
    "for num in LIST:\n",
    "    if num % 2==0:\n",
    "        even.append(num)\n",
    "print(even)"
   ]
  },
  {
   "cell_type": "code",
   "execution_count": 71,
   "id": "f5f22b20",
   "metadata": {},
   "outputs": [
    {
     "name": "stdout",
     "output_type": "stream",
     "text": [
      "6 is a perfect number\n",
      "28 is a perfect number\n",
      "496 is a perfect number\n",
      "8128 is a perfect number\n"
     ]
    }
   ],
   "source": [
    "# 9\n",
    "def is_perfect_number(number):\n",
    "    if number <= 1:\n",
    "        return False\n",
    "    \n",
    "    divisor_sum = 1  # Start with 1 as it is always a divisor\n",
    "    \n",
    "    # Find proper positive divisors and add them to divisor_sum\n",
    "    for i in range(2, int(number ** 0.5) + 1):\n",
    "        if number % i == 0:\n",
    "            divisor_sum += i\n",
    "            # If the number is a perfect square, avoid adding the square root twice\n",
    "            if i != number // i:\n",
    "                divisor_sum += number // i\n",
    "    \n",
    "    # Check if the sum of divisors equals the number itself\n",
    "    return divisor_sum == number\n",
    "\n",
    "# Test the function\n",
    "for num in range(1, 10001):\n",
    "    if is_perfect_number(num):\n",
    "        print(num, \"is a perfect number\")"
   ]
  },
  {
   "cell_type": "code",
   "execution_count": 72,
   "id": "c01d6cb7",
   "metadata": {},
   "outputs": [
    {
     "name": "stdout",
     "output_type": "stream",
     "text": [
      "'madam' is a palindrome.\n",
      "'nurses run' is a palindrome.\n",
      "'hello' is not a palindrome.\n",
      "'level' is a palindrome.\n"
     ]
    }
   ],
   "source": [
    "#10\n",
    "def is_palindrome(s):\n",
    "    # Remove spaces and convert to lowercase for case-insensitive comparison\n",
    "    s = s.replace(\" \", \"\").lower()\n",
    "    # Compare the string with its reverse\n",
    "    return s == s[::-1]\n",
    "\n",
    "# Test the function\n",
    "test_strings = [\"madam\", \"nurses run\", \"hello\", \"level\"]\n",
    "for string in test_strings:\n",
    "    if is_palindrome(string):\n",
    "        print(f\"'{string}' is a palindrome.\")\n",
    "    else:\n",
    "        print(f\"'{string}' is not a palindrome.\")"
   ]
  },
  {
   "cell_type": "code",
   "execution_count": null,
   "id": "e40fd992",
   "metadata": {},
   "outputs": [],
   "source": []
  }
 ],
 "metadata": {
  "kernelspec": {
   "display_name": "Python 3 (ipykernel)",
   "language": "python",
   "name": "python3"
  },
  "language_info": {
   "codemirror_mode": {
    "name": "ipython",
    "version": 3
   },
   "file_extension": ".py",
   "mimetype": "text/x-python",
   "name": "python",
   "nbconvert_exporter": "python",
   "pygments_lexer": "ipython3",
   "version": "3.11.5"
  }
 },
 "nbformat": 4,
 "nbformat_minor": 5
}
