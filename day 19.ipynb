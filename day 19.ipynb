{
 "cells": [
  {
   "cell_type": "code",
   "execution_count": 1,
   "id": "da53afaf",
   "metadata": {},
   "outputs": [],
   "source": [
    "#1 Python function that prints a text\n",
    "\n",
    "def print_text(s1):\n",
    "    return s1\n",
    "    "
   ]
  },
  {
   "cell_type": "code",
   "execution_count": 3,
   "id": "fbe86f2b",
   "metadata": {},
   "outputs": [
    {
     "data": {
      "text/plain": [
       "'my name is abhinav'"
      ]
     },
     "execution_count": 3,
     "metadata": {},
     "output_type": "execute_result"
    }
   ],
   "source": [
    "a='my name is abhinav'\n",
    "print_text(a)"
   ]
  },
  {
   "cell_type": "code",
   "execution_count": 4,
   "id": "795ed40d",
   "metadata": {},
   "outputs": [],
   "source": [
    "#2 Python function that accepts two numbers as arguments and returns the sum\n",
    "def sum(a,b):\n",
    "    return a+b"
   ]
  },
  {
   "cell_type": "code",
   "execution_count": 5,
   "id": "05334147",
   "metadata": {},
   "outputs": [
    {
     "name": "stdout",
     "output_type": "stream",
     "text": [
      "enter any number:4\n",
      "enter any number:6\n"
     ]
    },
    {
     "data": {
      "text/plain": [
       "10"
      ]
     },
     "execution_count": 5,
     "metadata": {},
     "output_type": "execute_result"
    }
   ],
   "source": [
    "a=int(input('enter any number:'))\n",
    "b=int(input('enter any number:'))\n",
    "sum(a,b)"
   ]
  },
  {
   "cell_type": "code",
   "execution_count": 24,
   "id": "442d30c1",
   "metadata": {},
   "outputs": [],
   "source": [
    "#3 Python function that accepts different values as parameters and returns a list\n",
    "\n",
    "def print_list(a,b):\n",
    "    print(list(a+b))\n",
    "    \n",
    "    "
   ]
  },
  {
   "cell_type": "code",
   "execution_count": 25,
   "id": "89d15bb9",
   "metadata": {},
   "outputs": [
    {
     "name": "stdout",
     "output_type": "stream",
     "text": [
      "[1, 2, 3, 4, 6, 3, 234, 5, 53]\n"
     ]
    }
   ],
   "source": [
    "a=1,2,3,4,6,3\n",
    "b=234,5,53\n",
    "print_list(a,b)"
   ]
  },
  {
   "cell_type": "code",
   "execution_count": 29,
   "id": "b1b9028c",
   "metadata": {},
   "outputs": [],
   "source": [
    "#4 Python function that returns a dictionary\n",
    "def print_dict(b):\n",
    "    b={1:'ram',2:'sham',3:\"om\"}\n",
    "    return (b)"
   ]
  },
  {
   "cell_type": "code",
   "execution_count": 30,
   "id": "7392a005",
   "metadata": {},
   "outputs": [
    {
     "data": {
      "text/plain": [
       "{1: 'ram', 2: 'sham', 3: 'om'}"
      ]
     },
     "execution_count": 30,
     "metadata": {},
     "output_type": "execute_result"
    }
   ],
   "source": [
    "print_dict(b)"
   ]
  },
  {
   "cell_type": "code",
   "execution_count": 31,
   "id": "88caad7f",
   "metadata": {},
   "outputs": [],
   "source": [
    "#5 Python function that returns a tuple\n",
    "\n",
    "def print_tuple():\n",
    "    t1=(1,23,42,43,44,3)\n",
    "    return t1"
   ]
  },
  {
   "cell_type": "code",
   "execution_count": 34,
   "id": "c2b99a65",
   "metadata": {},
   "outputs": [
    {
     "data": {
      "text/plain": [
       "(1, 23, 42, 43, 44, 3)"
      ]
     },
     "execution_count": 34,
     "metadata": {},
     "output_type": "execute_result"
    }
   ],
   "source": [
    "print_tuple()"
   ]
  },
  {
   "cell_type": "code",
   "execution_count": 42,
   "id": "12233818",
   "metadata": {},
   "outputs": [],
   "source": [
    "#6 Python function that accepts a list as a parameter\n",
    "\n",
    "def acclist(l1):\n",
    "    \n",
    "        return l1"
   ]
  },
  {
   "cell_type": "code",
   "execution_count": 43,
   "id": "4e6839a9",
   "metadata": {},
   "outputs": [
    {
     "data": {
      "text/plain": [
       "['apple', 'mango', 'grapes', 'watermelon']"
      ]
     },
     "execution_count": 43,
     "metadata": {},
     "output_type": "execute_result"
    }
   ],
   "source": [
    "l2=['apple','mango','grapes','watermelon']\n",
    "acclist(l2)"
   ]
  },
  {
   "cell_type": "code",
   "execution_count": 44,
   "id": "84f00a36",
   "metadata": {},
   "outputs": [],
   "source": [
    "# 7Python function that accepts a dictionary as a parameter\n",
    "\n",
    "def accdict(d):\n",
    "    return d"
   ]
  },
  {
   "cell_type": "code",
   "execution_count": 45,
   "id": "8cbdb244",
   "metadata": {},
   "outputs": [
    {
     "data": {
      "text/plain": [
       "{1: 234, 2: 24234, 3: 43342}"
      ]
     },
     "execution_count": 45,
     "metadata": {},
     "output_type": "execute_result"
    }
   ],
   "source": [
    "d1={1:234,2:24234,3:43342}\n",
    "accdict(d1)"
   ]
  },
  {
   "cell_type": "code",
   "execution_count": 46,
   "id": "34f78447",
   "metadata": {},
   "outputs": [],
   "source": [
    "#8 Python function using positional arguments\n",
    "\n",
    "def sub(a,b):\n",
    "    return a-b"
   ]
  },
  {
   "cell_type": "code",
   "execution_count": 47,
   "id": "c2d4e534",
   "metadata": {},
   "outputs": [
    {
     "name": "stdout",
     "output_type": "stream",
     "text": [
      "-44\n"
     ]
    }
   ],
   "source": [
    "print(sub(34,78))"
   ]
  },
  {
   "cell_type": "code",
   "execution_count": 48,
   "id": "a743719d",
   "metadata": {},
   "outputs": [],
   "source": [
    "#9 Python function using keyword arguments\n",
    "def print_name(name,age):\n",
    "    print(name,'is',age,'years old.')\n",
    "    "
   ]
  },
  {
   "cell_type": "code",
   "execution_count": 51,
   "id": "16ca9622",
   "metadata": {},
   "outputs": [
    {
     "name": "stdout",
     "output_type": "stream",
     "text": [
      "abhinav is 20 years old.\n",
      "abhinav is 20 years old.\n"
     ]
    }
   ],
   "source": [
    "print_name(name='abhinav',age=20)\n",
    "print_name('abhinav',20)"
   ]
  },
  {
   "cell_type": "code",
   "execution_count": 52,
   "id": "b1901250",
   "metadata": {},
   "outputs": [],
   "source": [
    "#10 Python function using default arguments\n",
    "def greet(name,greeting='Hello'):\n",
    "    print(greeting,name)\n"
   ]
  },
  {
   "cell_type": "code",
   "execution_count": 53,
   "id": "464617c2",
   "metadata": {},
   "outputs": [
    {
     "name": "stdout",
     "output_type": "stream",
     "text": [
      "Hello abhinav\n",
      "None\n"
     ]
    }
   ],
   "source": [
    "print(greet(name='abhinav'))"
   ]
  },
  {
   "cell_type": "code",
   "execution_count": null,
   "id": "0488aeb4",
   "metadata": {},
   "outputs": [],
   "source": []
  }
 ],
 "metadata": {
  "kernelspec": {
   "display_name": "Python 3 (ipykernel)",
   "language": "python",
   "name": "python3"
  },
  "language_info": {
   "codemirror_mode": {
    "name": "ipython",
    "version": 3
   },
   "file_extension": ".py",
   "mimetype": "text/x-python",
   "name": "python",
   "nbconvert_exporter": "python",
   "pygments_lexer": "ipython3",
   "version": "3.11.5"
  }
 },
 "nbformat": 4,
 "nbformat_minor": 5
}
