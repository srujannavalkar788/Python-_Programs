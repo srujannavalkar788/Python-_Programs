{
 "cells": [
  {
   "cell_type": "markdown",
   "id": "53232954",
   "metadata": {},
   "source": [
    "# Web Scraping"
   ]
  },
  {
   "cell_type": "code",
   "execution_count": 2,
   "id": "6c4e5441",
   "metadata": {},
   "outputs": [],
   "source": [
    "import requests"
   ]
  },
  {
   "cell_type": "code",
   "execution_count": 3,
   "id": "58dee8b3",
   "metadata": {},
   "outputs": [],
   "source": [
    "from bs4 import BeautifulSoup"
   ]
  },
  {
   "cell_type": "code",
   "execution_count": 4,
   "id": "2411a4d8",
   "metadata": {},
   "outputs": [],
   "source": [
    "import pandas as pd"
   ]
  },
  {
   "cell_type": "code",
   "execution_count": 5,
   "id": "95cf9082",
   "metadata": {},
   "outputs": [],
   "source": [
    "movies=[]\n",
    "base_url=\"https://www.imdb.com/list/ls050782187/\"\n",
    "\n",
    "response=requests.get(base_url)\n",
    "\n",
    "if response.status_code == 200:\n",
    "    soup=BeautifulSoup(response.content,'html.parser')\n",
    "    \n",
    "    movie_data=soup.find_all('div',class_=\"lister-item-content\")\n",
    "    \n",
    "    for value in movie_data:\n",
    "        title= value.h3.a.text\n",
    "        year= value.h3.find('span',class_=\"lister-item-year text-muted unbold\").text.strip('()')\n",
    "        genre= value.find('span', class_='genre').text.strip()\n",
    "        runtime = value.find('span', class_='runtime').text.strip()\n",
    "        rating = value.find('span', class_='ipl-rating-star__rating').text.strip()\n",
    "        description = value.find('p', class_='').text.strip()\n",
    "        director = value.find_all('p')[2].find('a').text.strip()\n",
    "        gross_tag = value.find('span', attrs={'name': 'nv'})\n",
    "        gross = gross_tag['data-value'] if gross_tag else None\n",
    "\n",
    "        movies.append([title, year, genre, runtime, rating, description, director, gross])"
   ]
  },
  {
   "cell_type": "code",
   "execution_count": 7,
   "id": "91061c4e",
   "metadata": {},
   "outputs": [],
   "source": [
    "while len(movies)<500:\n",
    "    next_page_link= soup.find('a',class_=\"flat-button lister-page-next next-page\")\n",
    "    \n",
    "    next_page_url = 'https://www.imdb.com/list/ls050782187/?sort=list_order,asc&st_dt=&mode=detail&page=2' + next_page_link.get('href')\n",
    "    \n",
    "    response = requests.get(next_page_url)\n",
    "    \n",
    "    if response.status_code ==200:\n",
    "        soup= BeautifulSoup(response.content,'html.parser')\n",
    "        \n",
    "        movie_data = soup.find_all('div',class_='lister-item-content')\n",
    "        \n",
    "        for value in movie_data:\n",
    "            title = value.h3.a.text\n",
    "            year = value.h3.find('span', class_='lister-item-year').text.strip('()')\n",
    "            genre = value.find('span', class_='genre').text.strip()\n",
    "            runtime = value.find('span', class_='runtime').text.strip()\n",
    "            rating = value.find('span', class_='ipl-rating-star__rating').text.strip()\n",
    "            description = value.find('p', class_='').text.strip()\n",
    "            director = value.find_all('p')[2].find('a').text.strip()\n",
    "            gross_tag = value.find('span', attrs={'name': 'nv'})\n",
    "            gross = gross_tag['data-value'] if gross_tag else None\n",
    "\n",
    "            movies.append([title, year, genre, runtime, rating, description, director, gross])\n",
    "    else:\n",
    "        print(f\"Failed to retrieve data from next page: {next_page_url}\")\n",
    "        break\n",
    "            "
   ]
  },
  {
   "cell_type": "code",
   "execution_count": 8,
   "id": "bcd2762e",
   "metadata": {},
   "outputs": [
    {
     "name": "stdout",
     "output_type": "stream",
     "text": [
      "                                              Title      Year                       Genre  Runtime Rating                                                                                                                                                                                              Description              Director    Gross\n",
      "0                                     The Godfather      1972                Crime, Drama  175 min    9.2                                                                                      The aging patriarch of an organized crime dynasty transfers control of his clandestine empire to his reluctant son.  Francis Ford Coppola  1999865\n",
      "1                          The Silence of the Lambs      1991      Crime, Drama, Thriller  118 min    8.6                                      A young F.B.I. cadet must receive the help of an incarcerated and manipulative cannibal killer to help catch another serial killer, a madman who skins his victims.        Jonathan Demme  1539240\n",
      "2    Star Wars: Episode V - The Empire Strikes Back      1980  Action, Adventure, Fantasy  124 min    8.7           After the Rebels are overpowered by the Empire, Luke Skywalker begins his Jedi training with Yoda, while his friends are pursued across the galaxy by Darth Vader and bounty hunter Boba Fett.        Irvin Kershner  1372590\n",
      "3                          The Shawshank Redemption      1994                       Drama  142 min    9.3                                                              Over the course of several years, two convicts form a friendship, seeking consolation and, eventually, redemption through basic compassion.        Frank Darabont  2871198\n",
      "4                                       The Shining      1980               Drama, Horror  146 min    8.4             A family heads to an isolated hotel for the winter where a sinister presence influences the father into violence, while his psychic son sees horrific forebodings from both past and future.       Stanley Kubrick  1100206\n",
      "..                                              ...       ...                         ...      ...    ...                                                                                                                                                                                                      ...                   ...      ...\n",
      "495                                           Drive  I) (2011               Action, Drama  100 min    7.8                             A mysterious Hollywood action film stuntman gets in trouble with gangsters when he tries to help his neighbor's husband rob a pawn shop while serving as his getaway driver.  Nicolas Winding Refn   700830\n",
      "496                                 American Psycho      2000        Crime, Drama, Horror  102 min    7.6  A wealthy New York City investment banking executive, Patrick Bateman, hides his alternate psychopathic ego from his co-workers and friends as he delves deeper into his violent, hedonistic fantasies.           Mary Harron   708568\n",
      "497        Pirates of the Caribbean: At World's End      2007  Action, Adventure, Fantasy  169 min    7.1    Captain Barbossa, Will Turner and Elizabeth Swann must sail off the edge of the map, navigate treachery and betrayal, find Jack Sparrow, and make their final alliances for one last decisive battle.        Gore Verbinski   689981\n",
      "498                                       Pour elle      2008      Crime, Drama, Thriller   96 min    7.1                                                                         With no legal means left to him, a high school teacher devises a daring plan to rescue his wrongfully imprisoned wife from jail.           Fred Cavayé     9746\n",
      "499                                    A Single Man      2009       Crime, Drama, Romance   99 min    7.5                                                                    An English professor, one year after the sudden death of his boyfriend, is unable to cope with his typical days in 1960s Los Angeles.              Tom Ford   117463\n",
      "\n",
      "[500 rows x 8 columns]\n"
     ]
    }
   ],
   "source": [
    "df = pd.DataFrame(movies, columns=['Title', 'Year', 'Genre', 'Runtime', 'Rating', 'Description', 'Director', 'Gross'])\n",
    "\n",
    "pd.set_option('display.max_colwidth', None)  # Display full content of columns\n",
    "pd.set_option('display.expand_frame_repr', False)  # Don't wrap lines in the display\n",
    "pd.set_option('display.width', None)\n",
    "    # Print DataFrame\n",
    "print(df)"
   ]
  },
  {
   "cell_type": "code",
   "execution_count": null,
   "id": "e6c1f334",
   "metadata": {},
   "outputs": [],
   "source": []
  },
  {
   "cell_type": "code",
   "execution_count": null,
   "id": "62736765",
   "metadata": {},
   "outputs": [],
   "source": []
  }
 ],
 "metadata": {
  "kernelspec": {
   "display_name": "Python 3 (ipykernel)",
   "language": "python",
   "name": "python3"
  },
  "language_info": {
   "codemirror_mode": {
    "name": "ipython",
    "version": 3
   },
   "file_extension": ".py",
   "mimetype": "text/x-python",
   "name": "python",
   "nbconvert_exporter": "python",
   "pygments_lexer": "ipython3",
   "version": "3.11.5"
  }
 },
 "nbformat": 4,
 "nbformat_minor": 5
}
