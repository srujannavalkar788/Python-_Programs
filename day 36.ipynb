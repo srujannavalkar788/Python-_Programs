{
 "cells": [
  {
   "cell_type": "code",
   "execution_count": 2,
   "id": "4e7875f1",
   "metadata": {},
   "outputs": [
    {
     "name": "stdout",
     "output_type": "stream",
     "text": [
      "enter the number:12\n",
      "0 12 24 36 48 60 72 84 96 108 120 "
     ]
    }
   ],
   "source": [
    "#41. Create a program that prompts the user for a number and displays the table of that number using a loop.\n",
    "\n",
    "num=int(input('enter the number:'))\n",
    "i=0\n",
    "while i<=10:\n",
    "    p=num*i\n",
    "    print(p,end=' ')\n",
    "    i+=1\n"
   ]
  },
  {
   "cell_type": "code",
   "execution_count": 5,
   "id": "87787001",
   "metadata": {},
   "outputs": [
    {
     "name": "stdout",
     "output_type": "stream",
     "text": [
      "enter any number:10\n",
      "55\n"
     ]
    }
   ],
   "source": [
    "#42. Write a program that asks the user for a number N and displays the sum of all numbers from 1 to N.\n",
    "num=int(input('enter any number:'))\n",
    "sumof=0\n",
    "for n in range(1,num+1):\n",
    "    sumof+=n\n",
    "print(sumof)"
   ]
  },
  {
   "cell_type": "code",
   "execution_count": 6,
   "id": "bbdefed4",
   "metadata": {},
   "outputs": [
    {
     "name": "stdout",
     "output_type": "stream",
     "text": [
      "enter any number:10\n",
      "55\n"
     ]
    }
   ],
   "source": [
    "#using while\n",
    "n=int(input('enter any number:'))\n",
    "\n",
    "sumof=0\n",
    "num=1\n",
    "\n",
    "while num<=n:\n",
    "    sumof+=num\n",
    "    num+=1\n",
    "print(sumof)\n",
    "    "
   ]
  },
  {
   "cell_type": "code",
   "execution_count": 7,
   "id": "4a8a8edb",
   "metadata": {},
   "outputs": [
    {
     "name": "stdout",
     "output_type": "stream",
     "text": [
      "2550\n"
     ]
    }
   ],
   "source": [
    "#43. Write a program that calculates and displays the sum of even numbers from 1 to 100 using a repeating loop.\n",
    "\n",
    "sumofeven=0\n",
    "num=2\n",
    "while num<=100:\n",
    "    sumofeven+=num\n",
    "    num+=2\n",
    "print(sumofeven)"
   ]
  },
  {
   "cell_type": "code",
   "execution_count": 8,
   "id": "4668c19b",
   "metadata": {},
   "outputs": [
    {
     "name": "stdout",
     "output_type": "stream",
     "text": [
      "2550\n"
     ]
    }
   ],
   "source": [
    "#using for \n",
    "sumofeven=0\n",
    "for num in range(0,101,2):\n",
    "    sumofeven+=num\n",
    "print(sumofeven)"
   ]
  },
  {
   "cell_type": "code",
   "execution_count": 10,
   "id": "7a3b218b",
   "metadata": {},
   "outputs": [
    {
     "name": "stdout",
     "output_type": "stream",
     "text": [
      "enter the base:12\n",
      "enter the exponent:2\n",
      "144\n"
     ]
    }
   ],
   "source": [
    "#44. Write a program that calculates and displays the value of the power of a number entered by the user raised to an exponent \n",
    "#also entered by the user, using repetition loops\n",
    "\n",
    "base=int(input('enter the base:'))\n",
    "exp=int(input('enter the exponent:'))\n",
    "\n",
    "result=1\n",
    "for _ in range(1,exp+1):\n",
    "    result*=base\n",
    "print(result)"
   ]
  },
  {
   "cell_type": "code",
   "execution_count": 15,
   "id": "5caa28dd",
   "metadata": {},
   "outputs": [
    {
     "name": "stdout",
     "output_type": "stream",
     "text": [
      "enter any number:11\n",
      "number is prime\n"
     ]
    }
   ],
   "source": [
    "#45. Write a program that asks the user for a number N and says whether it is prime or not.\n",
    "\n",
    "num=int(input('enter any number:'))\n",
    "\n",
    "if num<2:\n",
    "    is_prime=False\n",
    "else:\n",
    "    is_prime=True\n",
    "\n",
    "for i in range(2,int(num**0.5)+1):\n",
    "    if num%i==0:\n",
    "        is_prime=False\n",
    "        break\n",
    "if is_prime:\n",
    "    print('number is prime')"
   ]
  },
  {
   "cell_type": "code",
   "execution_count": 18,
   "id": "43e73898",
   "metadata": {},
   "outputs": [
    {
     "name": "stdout",
     "output_type": "stream",
     "text": [
      "enter n11\n",
      "11 11 \n"
     ]
    }
   ],
   "source": [
    "#46. Write a program that prompts the user for a number N anddisplays all prime numbers less than N.\n",
    "n=int(input('enter n'))\n",
    "for num in range(2,n):\n",
    "    is_prime=True\n",
    "    for i in range(2,int(n**0.5)+1):\n",
    "        if num%i==0:\n",
    "            is_prime=False\n",
    "            break\n",
    "    if is_prime:\n",
    "        print(n,end=' ')\n",
    "print( )"
   ]
  },
  {
   "cell_type": "code",
   "execution_count": 22,
   "id": "7aa32166",
   "metadata": {},
   "outputs": [
    {
     "name": "stdout",
     "output_type": "stream",
     "text": [
      "enter the n11\n",
      "2 3 5 7 9 11 13 15 17 19 21 \n"
     ]
    }
   ],
   "source": [
    "#47. Create a program that displays the first N prime numbers, where N is informed by the user, using a loop.\n",
    "n=int(input('enter the n'))\n",
    "count=0\n",
    "num=2\n",
    "\n",
    "while count<n:\n",
    "    is_prime=True\n",
    "    \n",
    "    for i in range(2,int(num**0.5)+1):\n",
    "        if num%2==0:\n",
    "            is_prime=False\n",
    "            break\n",
    "    if is_prime:\n",
    "        print(num,end=' ')\n",
    "        count+=1\n",
    "        \n",
    "    num+=1\n",
    "print()"
   ]
  },
  {
   "cell_type": "code",
   "execution_count": 24,
   "id": "5575e13d",
   "metadata": {},
   "outputs": [
    {
     "name": "stdout",
     "output_type": "stream",
     "text": [
      "enter the n2\n",
      "1 4 "
     ]
    }
   ],
   "source": [
    "#48. Create a program that displays the first N first perfect squares, where N is informed by the user, using a loop.\n",
    "\n",
    "n=int(input('enter the n'))\n",
    "count=0\n",
    "num=1\n",
    "\n",
    "while count<n:\n",
    "    square=num**2\n",
    "    print(square,end=' ')\n",
    "    count+=1\n",
    "    num+=1"
   ]
  },
  {
   "cell_type": "code",
   "execution_count": 28,
   "id": "2c1e51ca",
   "metadata": {},
   "outputs": [
    {
     "name": "stdout",
     "output_type": "stream",
     "text": [
      "enter A:2\n",
      "enter B:9\n",
      "2 3 4 5 6 7 8 9 \n"
     ]
    }
   ],
   "source": [
    "#49. Write a program that prompts the user for two numbers A and B and displays all numbers between A and B.\n",
    "\n",
    "A=int(input('enter A:'))\n",
    "B=int(input('enter B:'))\n",
    "\n",
    "start=min(A,B)\n",
    "end=max(A,B)\n",
    "\n",
    "for num in range(start,end+1):\n",
    "    print(num,end=' ')\n",
    "print()"
   ]
  },
  {
   "cell_type": "code",
   "execution_count": null,
   "id": "8e6d86d6",
   "metadata": {},
   "outputs": [
    {
     "name": "stdout",
     "output_type": "stream",
     "text": [
      "enter the num:5\n",
      "enter the num:5\n"
     ]
    }
   ],
   "source": [
    "#50. Write a program that reads numbers from the user until a negative number is entered, and prints the sum of the positive numbers.\n",
    "\n",
    "sum_positive=0\n",
    "\n",
    "while True:\n",
    "    num=int(input('enter the num:'))\n",
    "    if num>=0:\n",
    "        sum_positive+=num\n",
    "    else:\n",
    "        break\n",
    "print(sum_positive)"
   ]
  },
  {
   "cell_type": "code",
   "execution_count": null,
   "id": "fad59b58",
   "metadata": {},
   "outputs": [],
   "source": []
  }
 ],
 "metadata": {
  "kernelspec": {
   "display_name": "Python 3 (ipykernel)",
   "language": "python",
   "name": "python3"
  },
  "language_info": {
   "codemirror_mode": {
    "name": "ipython",
    "version": 3
   },
   "file_extension": ".py",
   "mimetype": "text/x-python",
   "name": "python",
   "nbconvert_exporter": "python",
   "pygments_lexer": "ipython3",
   "version": "3.11.5"
  }
 },
 "nbformat": 4,
 "nbformat_minor": 5
}
