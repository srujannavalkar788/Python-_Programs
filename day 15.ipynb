{
 "cells": [
  {
   "cell_type": "code",
   "execution_count": 1,
   "id": "b33bb3d4",
   "metadata": {},
   "outputs": [
    {
     "name": "stdout",
     "output_type": "stream",
     "text": [
      "Twinkle, twinkle, little star, \n",
      "How I wonder what you are! \n",
      "Up above the world so high, \n",
      "Like a diamond in the sky.\n",
      "Twinkle, twinkle, little star,\n",
      " How I wonder what you are\n"
     ]
    }
   ],
   "source": [
    "#1 Write a Python program to print the following string in a specific format (see the output).\n",
    "#Sample String : \"Twinkle, twinkle, little star, How I wonder what you are! Up above the world so high, Like a diamond in the sky.\n",
    "#Twinkle, twinkle, little star, How I wonder what you are\" Output :\n",
    "\n",
    "print(\"Twinkle, twinkle, little star, \\nHow I wonder what you are! \\nUp above the world so high, \\nLike a diamond in the sky.\\nTwinkle, twinkle, little star,\\n How I wonder what you are\")"
   ]
  },
  {
   "cell_type": "code",
   "execution_count": 3,
   "id": "6b8b7dd0",
   "metadata": {},
   "outputs": [
    {
     "name": "stdout",
     "output_type": "stream",
     "text": [
      "python\n",
      "3.11.5 | packaged by Anaconda, Inc. | (main, Sep 11 2023, 13:26:23) [MSC v.1916 64 bit (AMD64)]\n",
      "sys.version_info(major=3, minor=11, micro=5, releaselevel='final', serial=0)\n"
     ]
    }
   ],
   "source": [
    "#2 Write a Python program to get the Python version you are using\n",
    "import sys\n",
    "print('python')\n",
    "\n",
    "print(sys.version)\n",
    "print(sys.version_info)"
   ]
  },
  {
   "cell_type": "code",
   "execution_count": 4,
   "id": "28c98053",
   "metadata": {},
   "outputs": [],
   "source": [
    "#3. Write a Python program to display the current date and time.\n",
    "import datetime"
   ]
  },
  {
   "cell_type": "code",
   "execution_count": 5,
   "id": "db830dbf",
   "metadata": {},
   "outputs": [
    {
     "name": "stdout",
     "output_type": "stream",
     "text": [
      "2024-03-08 17:52:55.803839\n"
     ]
    }
   ],
   "source": [
    "now= datetime.datetime.now()\n",
    "print(now)"
   ]
  },
  {
   "cell_type": "code",
   "execution_count": 12,
   "id": "dbc3cf7f",
   "metadata": {},
   "outputs": [
    {
     "name": "stdout",
     "output_type": "stream",
     "text": [
      "enter the radius:5\n"
     ]
    },
    {
     "data": {
      "text/plain": [
       "78.5"
      ]
     },
     "execution_count": 12,
     "metadata": {},
     "output_type": "execute_result"
    }
   ],
   "source": [
    "# 4. Write a Python program which accepts the radius of a circle from the user and compute the area\n",
    "\n",
    "\n",
    "def area_circle():\n",
    "    r=int(input('enter the radius:'))\n",
    "    return 3.14*(r**2)\n",
    "\n",
    "area_circle()"
   ]
  },
  {
   "cell_type": "code",
   "execution_count": 14,
   "id": "ee7b3bdf",
   "metadata": {},
   "outputs": [],
   "source": [
    "#5. Write a Python program which accepts the user's first and last name and print them in reverse order with a space between them.\n",
    "\n",
    "def reverse():\n",
    "    fname=input('enter  your first name:')\n",
    "    lname=input('enter your last name:')\n",
    "    return lname[::-1],fname[::-1]\n"
   ]
  },
  {
   "cell_type": "code",
   "execution_count": 15,
   "id": "db852299",
   "metadata": {},
   "outputs": [
    {
     "name": "stdout",
     "output_type": "stream",
     "text": [
      "enter  your first name:srujan\n",
      "enter your last name:navalkar\n"
     ]
    },
    {
     "data": {
      "text/plain": [
       "('raklavan', 'najurs')"
      ]
     },
     "execution_count": 15,
     "metadata": {},
     "output_type": "execute_result"
    }
   ],
   "source": [
    "reverse()"
   ]
  },
  {
   "cell_type": "code",
   "execution_count": 17,
   "id": "f68021af",
   "metadata": {},
   "outputs": [
    {
     "name": "stdout",
     "output_type": "stream",
     "text": [
      "enter the number:23,442,424,23,4423,3,4\n",
      "['23', '442', '424', '23', '4423', '3', '4']\n"
     ]
    }
   ],
   "source": [
    "#6. Write a Python program which accepts a sequence of comma-separated numbers from user and generate a list  with those numbers\n",
    "\n",
    "num=input('enter the number:')\n",
    "\n",
    "l1=num.split(',')\n",
    "print(l1)"
   ]
  },
  {
   "cell_type": "code",
   "execution_count": 21,
   "id": "bf0364d4",
   "metadata": {},
   "outputs": [
    {
     "name": "stdout",
     "output_type": "stream",
     "text": [
      "enter file name:mypackagenew\n"
     ]
    },
    {
     "ename": "IndexError",
     "evalue": "list index out of range",
     "output_type": "error",
     "traceback": [
      "\u001b[1;31m---------------------------------------------------------------------------\u001b[0m",
      "\u001b[1;31mIndexError\u001b[0m                                Traceback (most recent call last)",
      "Cell \u001b[1;32mIn[21], line 4\u001b[0m\n\u001b[0;32m      2\u001b[0m file_name\u001b[38;5;241m=\u001b[39m\u001b[38;5;28minput\u001b[39m(\u001b[38;5;124m'\u001b[39m\u001b[38;5;124menter file name:\u001b[39m\u001b[38;5;124m'\u001b[39m)\n\u001b[0;32m      3\u001b[0m a\u001b[38;5;241m=\u001b[39mfile_name\u001b[38;5;241m.\u001b[39msplit(\u001b[38;5;124m'\u001b[39m\u001b[38;5;124m.\u001b[39m\u001b[38;5;124m'\u001b[39m)\n\u001b[1;32m----> 4\u001b[0m \u001b[38;5;28mprint\u001b[39m(\u001b[43ma\u001b[49m\u001b[43m[\u001b[49m\u001b[38;5;241;43m1\u001b[39;49m\u001b[43m]\u001b[49m)\n",
      "\u001b[1;31mIndexError\u001b[0m: list index out of range"
     ]
    }
   ],
   "source": [
    "# 7. Write a Python program to accept a filename from the user and print the extension of that\n",
    "file_name=input('enter file name:')\n",
    "a=file_name.split('.')\n",
    "print(a[1])"
   ]
  },
  {
   "cell_type": "code",
   "execution_count": 26,
   "id": "0d72128f",
   "metadata": {},
   "outputs": [
    {
     "name": "stdout",
     "output_type": "stream",
     "text": [
      "yellow\n",
      "orange\n"
     ]
    }
   ],
   "source": [
    "#8. Write a Python program to display the first and last colors from the following list\n",
    "#color_list = [\"yellow\",\"Green\",\"grey\" ,\"orange\"]\n",
    "color_list = [\"yellow\",\"Green\",\"grey\" ,\"orange\"]\n",
    "print(color_list[0])\n",
    "print(color_list[-1])\n"
   ]
  },
  {
   "cell_type": "code",
   "execution_count": 27,
   "id": "3a8dce85",
   "metadata": {},
   "outputs": [
    {
     "name": "stdout",
     "output_type": "stream",
     "text": [
      "Input an integer : 34\n",
      "346902\n"
     ]
    }
   ],
   "source": [
    "#9. Write a Python program that accepts an integer (n) and computes the value of n+nn+nnn\n",
    "x = int(input(\"Input an integer : \"))\n",
    "n1 = int( \"%s\" % x )\n",
    "n2 = int( \"%s%s\" % (x,x) )\n",
    "n3 = int( \"%s%s%s\" % (x,x,x) )\n",
    "print (n1+n2+n3)"
   ]
  },
  {
   "cell_type": "code",
   "execution_count": 28,
   "id": "5dcccde5",
   "metadata": {},
   "outputs": [
    {
     "name": "stdout",
     "output_type": "stream",
     "text": [
      "The datatype of a is  <class 'bool'>\n",
      "The datatype of b is  <class 'int'>\n",
      "The datatype of c is  <class 'float'>\n",
      "The datatype of d is  <class 'str'>\n"
     ]
    }
   ],
   "source": [
    "# 10.Write a program to demonstrate different number data types in Python.\n",
    "a=True\n",
    "b=12\n",
    "c=34.56\n",
    "d='Data sciience'\n",
    "print('The datatype of a is ',type(a))\n",
    "print('The datatype of b is ',type(b))\n",
    "print('The datatype of c is ',type(c))\n",
    "print('The datatype of d is ',type(d))\n"
   ]
  },
  {
   "cell_type": "code",
   "execution_count": null,
   "id": "8b9d2b91",
   "metadata": {},
   "outputs": [],
   "source": []
  }
 ],
 "metadata": {
  "kernelspec": {
   "display_name": "Python 3 (ipykernel)",
   "language": "python",
   "name": "python3"
  },
  "language_info": {
   "codemirror_mode": {
    "name": "ipython",
    "version": 3
   },
   "file_extension": ".py",
   "mimetype": "text/x-python",
   "name": "python",
   "nbconvert_exporter": "python",
   "pygments_lexer": "ipython3",
   "version": "3.11.5"
  }
 },
 "nbformat": 4,
 "nbformat_minor": 5
}
