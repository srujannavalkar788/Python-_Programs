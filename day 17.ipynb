{
 "cells": [
  {
   "cell_type": "code",
   "execution_count": 22,
   "id": "f566cfa1",
   "metadata": {},
   "outputs": [],
   "source": [
    "#1 Print multiplication table of 12 using recursion\n",
    "def mytable(n,i):\n",
    "    print(n*i)\n",
    "    i=i+1\n",
    "    if i<=10:\n",
    "        mytable(n,i)"
   ]
  },
  {
   "cell_type": "code",
   "execution_count": 23,
   "id": "6cf619bf",
   "metadata": {},
   "outputs": [
    {
     "name": "stdout",
     "output_type": "stream",
     "text": [
      "12\n",
      "24\n",
      "36\n",
      "48\n",
      "60\n",
      "72\n",
      "84\n",
      "96\n",
      "108\n",
      "120\n"
     ]
    }
   ],
   "source": [
    "mytable(12,1)"
   ]
  },
  {
   "cell_type": "code",
   "execution_count": 24,
   "id": "b1eb8c74",
   "metadata": {},
   "outputs": [],
   "source": [
    "#2 Write a function to calculate area and perimeter of a rectangle.\n",
    "def area_rect(l,b):\n",
    "    print(\"area of rectangle\",l*b)\n",
    "    print(\"perimeter of rectangle\",2*(l*b))\n",
    "    "
   ]
  },
  {
   "cell_type": "code",
   "execution_count": 25,
   "id": "55a1f0a2",
   "metadata": {},
   "outputs": [
    {
     "name": "stdout",
     "output_type": "stream",
     "text": [
      "area of rectangle 18\n",
      "perimeter of rectangle 36\n"
     ]
    }
   ],
   "source": [
    "area_rect(3,6)"
   ]
  },
  {
   "cell_type": "code",
   "execution_count": 26,
   "id": "2273745e",
   "metadata": {},
   "outputs": [],
   "source": [
    "#3 Write a function to calculate area and circumference of a circle\n",
    "def areaofcircle(r):\n",
    "    import numpy as np\n",
    "    print('area of circle:',np.pi*r*r)\n",
    "    print('circumference of circel:',2*np.pi*r)"
   ]
  },
  {
   "cell_type": "code",
   "execution_count": 27,
   "id": "508a873b",
   "metadata": {},
   "outputs": [
    {
     "name": "stdout",
     "output_type": "stream",
     "text": [
      "area of circle: 50.26548245743669\n",
      "circumference of circel: 25.132741228718345\n"
     ]
    }
   ],
   "source": [
    "areaofcircle(4)"
   ]
  },
  {
   "cell_type": "code",
   "execution_count": 31,
   "id": "46a43ea0",
   "metadata": {},
   "outputs": [],
   "source": [
    "#4 .Write a function to calculate power of a number raised to other\n",
    "def powerof(n,p):\n",
    "    power=n**p\n",
    "    return power"
   ]
  },
  {
   "cell_type": "code",
   "execution_count": 32,
   "id": "885858f2",
   "metadata": {},
   "outputs": [
    {
     "data": {
      "text/plain": [
       "8"
      ]
     },
     "execution_count": 32,
     "metadata": {},
     "output_type": "execute_result"
    }
   ],
   "source": [
    "powerof(2,3)"
   ]
  },
  {
   "cell_type": "code",
   "execution_count": 33,
   "id": "93da1845",
   "metadata": {},
   "outputs": [],
   "source": [
    "#5 Write a function to tell user if he/she is able to vote or not.\n",
    "def vote(age):\n",
    "    if age>=18:\n",
    "        print('eligible for vote:')\n",
    "    else:\n",
    "        print('not eligible ')"
   ]
  },
  {
   "cell_type": "code",
   "execution_count": 34,
   "id": "cfdb1ed6",
   "metadata": {},
   "outputs": [
    {
     "name": "stdout",
     "output_type": "stream",
     "text": [
      "eligible for vote:\n"
     ]
    }
   ],
   "source": [
    "vote(56)"
   ]
  },
  {
   "cell_type": "code",
   "execution_count": 35,
   "id": "04d0464f",
   "metadata": {},
   "outputs": [],
   "source": [
    "#6 .Write a function to check if a number is even or not.\n",
    "def evenornot(num):\n",
    "    if num%2==0:\n",
    "        print('number is even')\n",
    "    else:\n",
    "        print('number is odd')"
   ]
  },
  {
   "cell_type": "code",
   "execution_count": 36,
   "id": "e9f83ba6",
   "metadata": {},
   "outputs": [
    {
     "name": "stdout",
     "output_type": "stream",
     "text": [
      "number is even\n"
     ]
    }
   ],
   "source": [
    "evenornot(34)"
   ]
  },
  {
   "cell_type": "code",
   "execution_count": 49,
   "id": "c182afa8",
   "metadata": {},
   "outputs": [],
   "source": [
    "#7 Write a function to check if a number is prime or not\n",
    "def primeornot(n):\n",
    "    for i in range(2, int(n**0.5) + 1):\n",
    "        if n % i == 0:\n",
    "            return False\n",
    "    return True"
   ]
  },
  {
   "cell_type": "code",
   "execution_count": 52,
   "id": "360fabd0",
   "metadata": {},
   "outputs": [
    {
     "data": {
      "text/plain": [
       "False"
      ]
     },
     "execution_count": 52,
     "metadata": {},
     "output_type": "execute_result"
    }
   ],
   "source": [
    "primeornot(14)"
   ]
  },
  {
   "cell_type": "code",
   "execution_count": 53,
   "id": "6fb52f3a",
   "metadata": {},
   "outputs": [],
   "source": [
    "#8 Given a list of numbers, return True if first and last number of a list is same\n",
    "def check(numlist):\n",
    "    print('the number list',numlist)\n",
    "    F_ele=numlist[0]\n",
    "    L_ele=numlist[-1]\n",
    "    if F_ele==L_ele:\n",
    "        return True\n",
    "    else:\n",
    "        return False"
   ]
  },
  {
   "cell_type": "code",
   "execution_count": 56,
   "id": "12e79098",
   "metadata": {},
   "outputs": [
    {
     "name": "stdout",
     "output_type": "stream",
     "text": [
      "the number list [1, 2, 34, 5, 5, 4, 64, 2]\n"
     ]
    },
    {
     "data": {
      "text/plain": [
       "False"
      ]
     },
     "execution_count": 56,
     "metadata": {},
     "output_type": "execute_result"
    }
   ],
   "source": [
    "check([1,2,34,5,5,4,64,2])"
   ]
  },
  {
   "cell_type": "code",
   "execution_count": 57,
   "id": "fe673a0d",
   "metadata": {},
   "outputs": [
    {
     "name": "stdout",
     "output_type": "stream",
     "text": [
      "True\n",
      "False\n",
      "False\n"
     ]
    }
   ],
   "source": [
    "#9 Write a program to check if each word in a string begins with a capital letter?\n",
    "print( 'Hi Iam Abhinav'.istitle() ) \n",
    "print( 'Jay shri ram'.istitle() ) \n",
    "print( 'ram ram ram'.istitle() ) "
   ]
  },
  {
   "cell_type": "code",
   "execution_count": 60,
   "id": "d86db1e4",
   "metadata": {},
   "outputs": [
    {
     "name": "stdout",
     "output_type": "stream",
     "text": [
      "True\n",
      "True\n"
     ]
    }
   ],
   "source": [
    "#10 Write a program to Check if a string contains a specific substring\n",
    "s1='my name is srujan '\n",
    "s2='iam from amravati'\n",
    "print('srujan'in s1 )\n",
    "print('from'in s2)"
   ]
  },
  {
   "cell_type": "code",
   "execution_count": null,
   "id": "7c097ba6",
   "metadata": {},
   "outputs": [],
   "source": []
  }
 ],
 "metadata": {
  "kernelspec": {
   "display_name": "Python 3 (ipykernel)",
   "language": "python",
   "name": "python3"
  },
  "language_info": {
   "codemirror_mode": {
    "name": "ipython",
    "version": 3
   },
   "file_extension": ".py",
   "mimetype": "text/x-python",
   "name": "python",
   "nbconvert_exporter": "python",
   "pygments_lexer": "ipython3",
   "version": "3.11.5"
  }
 },
 "nbformat": 4,
 "nbformat_minor": 5
}
